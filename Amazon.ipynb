In [1]:
!pip install bs4
!pip install requests
!pip install pandas
Requirement already satisfied: bs4 in c:\users\win0920\anaconda3\lib\site-packages (0.0.1)
Requirement already satisfied: beautifulsoup4 in c:\users\win0920\anaconda3\lib\site-packages (from bs4) (4.9.3)
Requirement already satisfied: soupsieve>1.2 in c:\users\win0920\anaconda3\lib\site-packages (from beautifulsoup4->bs4) (2.2.1)
Requirement already satisfied: requests in c:\users\win0920\anaconda3\lib\site-packages (2.25.1)
Requirement already satisfied: urllib3<1.27,>=1.21.1 in c:\users\win0920\anaconda3\lib\site-packages (from requests) (1.26.4)
Requirement already satisfied: certifi>=2017.4.17 in c:\users\win0920\anaconda3\lib\site-packages (from requests) (2020.12.5)
Requirement already satisfied: chardet<5,>=3.0.2 in c:\users\win0920\anaconda3\lib\site-packages (from requests) (4.0.0)
Requirement already satisfied: idna<3,>=2.5 in c:\users\win0920\anaconda3\lib\site-packages (from requests) (2.10)
Requirement already satisfied: pandas in c:\users\win0920\anaconda3\lib\site-packages (1.2.4)
Requirement already satisfied: pytz>=2017.3 in c:\users\win0920\anaconda3\lib\site-packages (from pandas) (2021.1)
Requirement already satisfied: numpy>=1.16.5 in c:\users\win0920\anaconda3\lib\site-packages (from pandas) (1.20.1)
Requirement already satisfied: python-dateutil>=2.7.3 in c:\users\win0920\anaconda3\lib\site-packages (from pandas) (2.8.1)
Requirement already satisfied: six>=1.5 in c:\users\win0920\anaconda3\lib\site-packages (from python-dateutil>=2.7.3->pandas) (1.15.0)
In [2]:
import pandas as pd
import requests
from bs4 import BeautifulSoup
In [3]:
search_query="redmi+note+10+pro"
base_url="https://www.amazon.in/s?k="
url=base_url+search_query
url
Out[3]:
'https://www.amazon.in/s?k=redmi+note+10+pro'
In [4]:
header={'User-Agent': 'Mozilla/5.0 (Windows NT 10.0; Win64; x64) AppleWebKit/537.36 (KHTML, like Gecko) Chrome/77.0.3865.90 Safari/537.36','referer':'https://www.amazon.com/s?k=redmi+note+10+pro&crid=18G3A5WZHFYWR&sprefix=redmi+note+10%2Caps%2C417&ref=nb_sb_ss_ts-doa-p_1_13'}
In [5]:
search_response=requests.get(url,headers=header)
search_response.status_code
Out[5]:
200
In [6]:
cookie={} # insert request cookies within{}
def getAmazonSearch(search_query):
    url="https://www.amazon.com/s?k="+search_query
    print(url)
    page=requests.get(url,headers=header)
    if page.status_code==200:
        return page
    else:
        return "Error"
In [7]:
def Searchasin(asin):
    url="https://www.amazon.com/dp/"+asin
    print(url)
    page=requests.get(url,cookies=cookie,headers=header)
    if page.status_code==200:
        return page
    else:
        return "Error"
In [8]:
def Searchreviews(review_link):
    url="https://www.amazon.com"+review_link
    print(url)
    page=requests.get(url,cookies=cookie,headers=header)
    if page.status_code==200:
        return page
    else:
        return "Error"
In [9]:
product_names=[]
response=getAmazonSearch('redmi+note+10+pro')
soup=BeautifulSoup(response.content)
for i in soup.findAll("span",{'class':'a-size-medium a-color-base a-text-normal'}): # the tag which is common for all the names of products
    product_names.append(i.text) #adding the product names to the list
https://www.amazon.com/s?k=redmi+note+10+pro
In [10]:
product_names
Out[10]:
['Red Magic 6 Pro Dual SIM 165Hz Display 5G Gaming Smartphone Factory Unlocked US Version 16 GB RAM + 256 GB 64MP Camera Android 11 Cell Phone Silver',
 'Red Magic 6 Gaming Phone Dual SIM 165Hz Display 5G Smartphone Factory Unlocked US Version 12GB RAM + 128 GB 64MP Camera Android 11 Cell Phone Black',
 'Xiaomi Redmi Note 10 Pro | 128GB 6GB RAM | Factory Unlocked (GSM ONLY | Not Compatible with Verizon/Sprint) | International Model (Onyx Gray)',
 'Xiaomi Redmi Note 10 | 128GB 4GB RAM | GSM LTE Factory Unlocked Smartphone | International Model (Onyx Gray)',
 'Ibywind Screen Protector for Redmi NOTE 10 PRO, [Pack of 2] with Metal Camera Lens Protector,Back Carbon Fiber Skin Protector,Including Easy Install Kit',
 'Xiaomi Redmi Note 10 | 128GB 4GB RAM | GSM LTE Factory Unlocked Smartphone | International Model (Pebble White)',
 'Xiaomi Redmi Note 10 Lake Green 4Gb Ram 128Gb ROM',
 'Xiaomi Redmi Note 9 Pro Smartphone - 6.67" DotDisplay, 6 GB + 128 GB, 64 MP AI Quad Camera, 5020mAh (typ) NFC, Bianco (Polar White)',
 'Xiaomi Redmi Note 9 Pro Smartphone con 6.67" DotDisplay, 6 GB + 64 GB, 64 MP AI Quad Camera, 5020 mAh (type) NFC, Grigio (nterstellar Grey)',
 'Samsung Galaxy S21 5G | Factory Unlocked Android Cell Phone | US Version 5G Smartphone | Pro-Grade Camera, 8K Video, 64MP High Res | 128GB, Phantom White (SM-G991UZWAXAA)',
 'OnePlus Nord N10 5G (128GB, 6GB) 6.49", 90Hz Refresh Rate, Snapdragon 690, Dual SIM (Euro 5G /Global 4G LTE) GSM Unlocked (T-Mobile, AT&T, Metro) International Model (Midnight Ice, 64GB SD Bundle)',
 'TCL 10 SE Unlocked Android Smartphone, 6.52" V-Notch Display, US Version Cell Phone with 16 MP Rear AI Triple-Camera 4GB RAM + 64GB ROM, 4000mAh Fast Charging Battery, Polar Night',
 'SAMSUNG Galaxy Note 20 Ultra 5G Factory Unlocked Android Cell Phone 128GB US Version Mobile Gaming Smartphone Long-Lasting Battery, Mystic Bronze',
 'Xiaomi Redmi Note 10 | 64GB 4GB RAM | Factory Unlocked (GSM ONLY | Not Compatible with Verizon/Sprint) | International Model (Lake Green)',
 'Xiaomi Redmi Note 9 Pro 128GB + 6GB RAM, 6.67" FHD+ DotDisplay, 64MP AI Quad Camera, Qualcomm Snapdragon 720G LTE Factory Unlocked Smartphone - International Version (Tropical Green)',
 'Samsung Galaxy A51 A515F 128GB DUOS GSM Unlocked Phone w/Quad Camera 48 MP + 12 MP + 5 MP + 5 MP (International Variant/US Compatible LTE) - Prism Crush Black',
 'Simple Mobile Carrier-Locked Samsung Galaxy A50 4G LTE Prepaid Smartphone - Black - 64GB - Sim Card Included - GSM',
 'Xiaomi REDMI Note 9 Dual 128GB Interstellar Grey (M2003J15SS)',
 'Xiaomi Redmi Note 8 Pro 128GB, 6GB RAM 6.53" LTE GSM 64MP Factory Unlocked Smartphone - Global Model (Forest Green) (Green, 128)',
 'Xiaomi Mi 11 Lite (128GB, 6GB) 6.55” 90HZ AMOLED, 64MP Triple Camera, Snapdragon 732G, Dual SIM GSM Unlocked (US + Global) 4G LTE International Version (Fast Car Charger Bundle, Bubblegum Blue)',
 'Xiaomi Redmi Note 9 4GB RAM + 128GB, 48MP Quad Camera Hotshot, 5020mah Battery, 6.53 ”FHD +, LTE Factory Unlocked Smartphone - International Version (Polar White)',
 'SAMSUNG Galaxy S21 Ultra 5G Factory Unlocked Android Cell Phone 128GB US Version Smartphone Pro-Grade Camera 8K Video 108MP High Res, Phantom Silver',
 'BestAlice for Redmi Note 10 4G / Redmi Note 10S Case & 2 PCS Tempered Glass Screen Protector, Hybrid Heavy Duty Protection Shockproof Defender Kickstand Armor Case Cover，Black']
In [11]:
len(product_names)
Out[11]:
23
In [12]:
data_asin=[]
response=getAmazonSearch(search_query)
soup=BeautifulSoup(response.content)
for i in soup.findAll("div",{'class':"s-result-item s-asin sg-col-0-of-12 sg-col-16-of-20 sg-col sg-col-12-of-16"}):
    data_asin.append(i['data-asin'])
data_asin
https://www.amazon.com/s?k=redmi+note+10+pro
Out[12]:
['B08Y8MDMF4',
 'B08XZPK2HL',
 'B08Y62HJ79',
 'B08Y5H38YT',
 'B0897Y6KNY',
 'B0881TTJT6',
 'B0881TCNX5',
 'B0881TLSMD',
 'B084HN7JBM',
 'B07Y8Y6HVW',
 'B07YB7NLY7',
 'B08R6H1J5R',
 'B08P54F6HB',
 'B08BX7N9SK',
 'B082YG1L4B',
 'B088HJ3FCX']
In [13]:
response.status_code
Out[13]:
200
In [14]:
len(data_asin)
Out[14]:
16
In [15]:
link=[]
for i in range(len(data_asin)):
    response=Searchasin(data_asin[i])
    soup=BeautifulSoup(response.content)
    for i in soup.findAll("a",{'data-hook':"see-all-reviews-link-foot"}):
        link.append(i['href'])
https://www.amazon.com/dp/B08Y8MDMF4
https://www.amazon.com/dp/B08XZPK2HL
https://www.amazon.com/dp/B08Y62HJ79
https://www.amazon.com/dp/B08Y5H38YT
https://www.amazon.com/dp/B0897Y6KNY
https://www.amazon.com/dp/B0881TTJT6
https://www.amazon.com/dp/B0881TCNX5
https://www.amazon.com/dp/B0881TLSMD
https://www.amazon.com/dp/B084HN7JBM
https://www.amazon.com/dp/B07Y8Y6HVW
https://www.amazon.com/dp/B07YB7NLY7
https://www.amazon.com/dp/B08R6H1J5R
https://www.amazon.com/dp/B08P54F6HB
https://www.amazon.com/dp/B08BX7N9SK
https://www.amazon.com/dp/B082YG1L4B
https://www.amazon.com/dp/B088HJ3FCX
In [16]:
len(link)
Out[16]:
30
In [17]:
reviews=[]
for j in range(len(link)):
    for k in range(1):
        response=Searchreviews(link[j]+'&pageNumber='+str(k))
        soup=BeautifulSoup(response.content)
        for i in soup.findAll("span",{'data-hook':"review-body"}):
            reviews.append(i.text)
https://www.amazon.com/Xiaomi-Factory-Unlocked-Compatible-International/product-reviews/B08Y8MDMF4/ref=cm_cr_dp_d_show_all_btm?ie=UTF8&reviewerType=all_reviews&pageNumber=0
https://www.amazon.com/Xiaomi-Factory-Unlocked-Compatible-International/product-reviews/B08Y8MDMF4/ref=cm_cr_dp_d_show_all_btm?ie=UTF8&reviewerType=all_reviews&pageNumber=0
https://www.amazon.com/Xiaomi-Factory-Unlocked-Smartphone-International/product-reviews/B08XZPK2HL/ref=cm_cr_dp_d_show_all_btm?ie=UTF8&reviewerType=all_reviews&pageNumber=0
https://www.amazon.com/Xiaomi-Factory-Unlocked-Smartphone-International/product-reviews/B08XZPK2HL/ref=cm_cr_dp_d_show_all_btm?ie=UTF8&reviewerType=all_reviews&pageNumber=0
https://www.amazon.com/Xiaomi-Factory-Unlocked-Smartphone-International/product-reviews/B08Y62HJ79/ref=cm_cr_dp_d_show_all_btm?ie=UTF8&reviewerType=all_reviews&pageNumber=0
https://www.amazon.com/Xiaomi-Factory-Unlocked-Smartphone-International/product-reviews/B08Y62HJ79/ref=cm_cr_dp_d_show_all_btm?ie=UTF8&reviewerType=all_reviews&pageNumber=0
https://www.amazon.com/Xiaomi-Redmi-Note-Green-128Gb/product-reviews/B08Y5H38YT/ref=cm_cr_dp_d_show_all_btm?ie=UTF8&reviewerType=all_reviews&pageNumber=0
https://www.amazon.com/Xiaomi-Redmi-Note-Green-128Gb/product-reviews/B08Y5H38YT/ref=cm_cr_dp_d_show_all_btm?ie=UTF8&reviewerType=all_reviews&pageNumber=0
https://www.amazon.com/Xiaomi-DotDisplay-Qualcomm-Snapdragon-Smartphone/product-reviews/B0897Y6KNY/ref=cm_cr_dp_d_show_all_btm?ie=UTF8&reviewerType=all_reviews&pageNumber=0
https://www.amazon.com/Xiaomi-DotDisplay-Qualcomm-Snapdragon-Smartphone/product-reviews/B0897Y6KNY/ref=cm_cr_dp_d_show_all_btm?ie=UTF8&reviewerType=all_reviews&pageNumber=0
https://www.amazon.com/Xiaomi-Redmi-Note-Pro-DotDisplay/product-reviews/B0881TTJT6/ref=cm_cr_dp_d_show_all_btm?ie=UTF8&reviewerType=all_reviews&pageNumber=0
https://www.amazon.com/Xiaomi-Redmi-Note-Pro-DotDisplay/product-reviews/B0881TTJT6/ref=cm_cr_dp_d_show_all_btm?ie=UTF8&reviewerType=all_reviews&pageNumber=0
https://www.amazon.com/Xiaomi-DotDisplay-Qualcomm-Snapdragon-Smartphone/product-reviews/B0881TCNX5/ref=cm_cr_dp_d_show_all_btm?ie=UTF8&reviewerType=all_reviews&pageNumber=0
https://www.amazon.com/Xiaomi-DotDisplay-Qualcomm-Snapdragon-Smartphone/product-reviews/B0881TCNX5/ref=cm_cr_dp_d_show_all_btm?ie=UTF8&reviewerType=all_reviews&pageNumber=0
https://www.amazon.com/Xiaomi-DotDisplay-Qualcomm-Snapdragon-Smartphone/product-reviews/B0881TLSMD/ref=cm_cr_dp_d_show_all_btm?ie=UTF8&reviewerType=all_reviews&pageNumber=0
https://www.amazon.com/Xiaomi-DotDisplay-Qualcomm-Snapdragon-Smartphone/product-reviews/B0881TLSMD/ref=cm_cr_dp_d_show_all_btm?ie=UTF8&reviewerType=all_reviews&pageNumber=0
https://www.amazon.com/Xiaomi-Camera-Gaming-Processor-Unlocked/product-reviews/B084HN7JBM/ref=cm_cr_dp_d_show_all_btm?ie=UTF8&reviewerType=all_reviews&pageNumber=0
https://www.amazon.com/Xiaomi-Redmi-Factory-Unlocked-Smartphone/product-reviews/B07Y8Y6HVW/ref=cm_cr_dp_d_show_all_btm?ie=UTF8&reviewerType=all_reviews&pageNumber=0
https://www.amazon.com/Xiaomi-Redmi-Factory-Unlocked-Smartphone/product-reviews/B07Y8Y6HVW/ref=cm_cr_dp_d_show_all_btm?ie=UTF8&reviewerType=all_reviews&pageNumber=0
https://www.amazon.com/Xiaomi-Camera-Gaming-Processor-Unlocked/product-reviews/B07YB7NLY7/ref=cm_cr_dp_d_show_all_btm?ie=UTF8&reviewerType=all_reviews&pageNumber=0
https://www.amazon.com/Xiaomi-Camera-Gaming-Processor-Unlocked/product-reviews/B07YB7NLY7/ref=cm_cr_dp_d_show_all_btm?ie=UTF8&reviewerType=all_reviews&pageNumber=0
https://www.amazon.com/OnePlus-Nord-N10-5G-International/product-reviews/B08R6H1J5R/ref=cm_cr_dp_d_show_all_btm?ie=UTF8&reviewerType=all_reviews&pageNumber=0
https://www.amazon.com/OnePlus-Nord-N10-5G-International/product-reviews/B08R6H1J5R/ref=cm_cr_dp_d_show_all_btm?ie=UTF8&reviewerType=all_reviews&pageNumber=0
https://www.amazon.com/Samsung-Unlocked-Smartphone-Pro-Grade-SM-G998UZKEXAA/product-reviews/B08P54F6HB/ref=cm_cr_dp_d_show_all_btm?ie=UTF8&reviewerType=all_reviews&pageNumber=0
https://www.amazon.com/Samsung-Unlocked-Smartphone-Pro-Grade-SM-G998UZKEXAA/product-reviews/B08P54F6HB/ref=cm_cr_dp_d_show_all_btm?ie=UTF8&reviewerType=all_reviews&pageNumber=0
https://www.amazon.com/Samsung-Electronics-Unlocked-Smartphone-Long-Lasting/product-reviews/B08BX7N9SK/ref=cm_cr_dp_d_show_all_btm?ie=UTF8&reviewerType=all_reviews&pageNumber=0
https://www.amazon.com/Samsung-Galaxy-SM-A515F-DS-Unlocked/product-reviews/B082YG1L4B/ref=cm_cr_dp_d_show_all_btm?ie=UTF8&reviewerType=all_reviews&pageNumber=0
https://www.amazon.com/Samsung-Galaxy-SM-A515F-DS-Unlocked/product-reviews/B082YG1L4B/ref=cm_cr_dp_d_show_all_btm?ie=UTF8&reviewerType=all_reviews&pageNumber=0
https://www.amazon.com/Xiaomi-REDMI-128GB-Interstellar-M2003J15SS/product-reviews/B088HJ3FCX/ref=cm_cr_dp_d_show_all_btm?ie=UTF8&reviewerType=all_reviews&pageNumber=0
https://www.amazon.com/Xiaomi-REDMI-128GB-Interstellar-M2003J15SS/product-reviews/B088HJ3FCX/ref=cm_cr_dp_d_show_all_btm?ie=UTF8&reviewerType=all_reviews&pageNumber=0
In [18]:
len(reviews)
Out[18]:
294
In [19]:
import json
json_file = json.dumps(reviews)
json_file
Out[19]:
'["", "\\n\\n  Lo primero, he de decir que esta opini\\u00f3n es la de un comprador real, nadie me ha pagado por ella ni me ha ofrecido productos gratis. Lo digo porque le pongo 5 estrellas al Xiaomi Redmi Note 10 Pro de 6 GB de RAM y 128 GB de almacenamiento interno.Adquirido hace un par de semanas, he de decir que el tel\\u00e9fono me est\\u00e1 resultando tan satisfactorio como mi anterior Huawei P30 Lite ca\\u00eddo en acto de servicio, pero con el a\\u00f1adido de m\\u00e1s memoria RAM, un procesador m\\u00e1s potente y una pantalla mayor. No se calienta nada, el sensor de huellas lateral funciona a la perfecci\\u00f3n, el reconocimiento facial va como un tiro y el conjunto de c\\u00e1maras es m\\u00e1s que satisfactorio. Puedes hacer fotos incluso a m\\u00e1ximo de resoluci\\u00f3n (108 mpx) y luego hacer recortes pudiendo as\\u00ed suplir perfectamente la falta de un peque\\u00f1o zoom \\u00f3ptico. Los juegos se ejecutan sin problemas y el streaming va muy fluido. La carga de su bater\\u00eda de 5.000 mAh es muy r\\u00e1pida y el NFC funciona a la perfecci\\u00f3n.De momento, estoy muy satisfecho.\\n\\n", "\\n\\n  Spedizione ottima, ordinato domenica e ricevuto marted\\u00ec. Aveva un\'app di Windtre installata, non ho capito se si tratti di una versione brandizzata o globale, ad ogni modo aveva solo quella, \\u00e8 bastato rimuoverla. Telefono piuttosto grande con un\'ottima fotocamera ed una buona usabilit\\u00e0 per uso quotidiano, schermo amoled davvero stupendo. Peccato che non ci sia l\'opzione per disabilitare la ricarica rapida, bisognerebbe procurarsi un caricatore pi\\u00f9 lento a parte. Vedremo se riscontrer\\u00f2 il tanto discusso problema al sensore di prossimit\\u00e0, avendo effettuato solo poche telefonate finora non l\\u2019ho riscontrato, ma non \\u00e8 escluso che lo riscontri. Si spera che questi problemi vengano risolti al pi\\u00f9 presto con gli aggiornamenti della Miui.\\n\\n", "\\n\\n  Il telefono \\u00e8 una bomba \\u00e8 davvero bello , l\'unica pecca sta sulla batteria .. pensavo durasse di pi\\u00f9 , visto che ha 5020 di batteria .  Deluso dalla batteria\\n\\n", "\\n\\n  Overall I have this phone now for a few days and it\'s good. The battery is great it works fine but there is one major problem I think (that\'s the reason for one star) and it\'s the fact that when you\'re on a call the screen is not turned off and you can push some buttons with your face. It happened to me that it mutes my call or turn on the loudspeaker or put the call on hold to that is a major issue for me that shows this product is not mature enough. I\'m quite disappointed. Otherwise for the rest it does the job so far.\\n\\n", "\\n\\n  La cosa che mi ha dato sui nervi (e appartentemente non c\'\\u00e8 rimedio) \\u00e8 il sensore di prossimit\\u00e0 che disattiva lo schermo durante le chiamate che non funziona MAI bene, attivando cose a caso (spesso se lo si tiene con la spalla impazzisce e a volte si stacca la chiamata, si attiva il mute o inspiegabilmente si attiva il flash della fotocamera (PERCH\\u00c8?!), creandomi non pochi disagi anche con gli audio di Whatsapp. Per il resto sono abbastanza soddisfatto: batteria dura quasi due giorni pieni (utilizzando in prevalenza social e con l\'hotspot acceso almeno 3 ore al giorno), fotocamera che non fa troppo rimpiangere il top di gamma Mi10T e processore scattante ne fanno un ottimo fascia media. Lo schermo \\u00e8 molto brillante essendo un super AMOLED. Altri difetti? le fotocamere sporgono come un balcone e c\'\\u00e8 bisogno di una cover abbastanza importante per evitare che si fracassino; il gi\\u00e0 citato SENSORE DI PROSSIMITA\' e la qualit\\u00e0 delle foto al buio rispeto ad altri concorrenti di fascia media; ottima la camera grandangolare e super-grandangolare. Valido nel complesso ma delusione totale per il sensore sopra citato. Amazon una garanzia: arrivato in anticipo e ben imballato, 4 stelle.\\n\\n", "\\n\\n  Arrivato prima del previsto,complimenti al venditore ed a Amazon,come sempre!  Dopo qualche giorno di utilizzo posso dire che \\u00e8 davvero un ottimo smartphone,veloce e fluido anche dopo ore di utilizzo! Fotocamera e batteria eccezionali!\\n\\n", "\\n\\n  Por defecto la pantalla viene a 60 h, lo cambi\\u00e9 a 120 y dur\\u00f3 la bateria medio diaEl senson de proximidad para hablar no apaga la pantalla al acercarlo a la oreja, lo que hace que cada vez que hablopulse todo.Al hablar con el altavoz, se quejan todos de que no se me escucha, tengo que poner el micr\\u00f3fono a 10 cm m\\u00e1ximo, o no me entienden nada.La duraci\\u00f3n de la bater\\u00eda, dos d\\u00edas con poco uso.\\n\\n", "\\n\\n  Doveva arrivare tra il 27 e il 29 aprile invece sorpresa ! \\u00e8 arrivato il 26\\n\\n", "\\n\\n  Cellulare top! La consegna \\u00e8 stata iper veloce, ci ha messo soltanto due giorni. Imballaggio accurato e sicuro.\\n\\n", "", "\\n\\n  Lo primero, he de decir que esta opini\\u00f3n es la de un comprador real, nadie me ha pagado por ella ni me ha ofrecido productos gratis. Lo digo porque le pongo 5 estrellas al Xiaomi Redmi Note 10 Pro de 6 GB de RAM y 128 GB de almacenamiento interno.Adquirido hace un par de semanas, he de decir que el tel\\u00e9fono me est\\u00e1 resultando tan satisfactorio como mi anterior Huawei P30 Lite ca\\u00eddo en acto de servicio, pero con el a\\u00f1adido de m\\u00e1s memoria RAM, un procesador m\\u00e1s potente y una pantalla mayor. No se calienta nada, el sensor de huellas lateral funciona a la perfecci\\u00f3n, el reconocimiento facial va como un tiro y el conjunto de c\\u00e1maras es m\\u00e1s que satisfactorio. Puedes hacer fotos incluso a m\\u00e1ximo de resoluci\\u00f3n (108 mpx) y luego hacer recortes pudiendo as\\u00ed suplir perfectamente la falta de un peque\\u00f1o zoom \\u00f3ptico. Los juegos se ejecutan sin problemas y el streaming va muy fluido. La carga de su bater\\u00eda de 5.000 mAh es muy r\\u00e1pida y el NFC funciona a la perfecci\\u00f3n.De momento, estoy muy satisfecho.\\n\\n", "\\n\\n  Spedizione ottima, ordinato domenica e ricevuto marted\\u00ec. Aveva un\'app di Windtre installata, non ho capito se si tratti di una versione brandizzata o globale, ad ogni modo aveva solo quella, \\u00e8 bastato rimuoverla. Telefono piuttosto grande con un\'ottima fotocamera ed una buona usabilit\\u00e0 per uso quotidiano, schermo amoled davvero stupendo. Peccato che non ci sia l\'opzione per disabilitare la ricarica rapida, bisognerebbe procurarsi un caricatore pi\\u00f9 lento a parte. Vedremo se riscontrer\\u00f2 il tanto discusso problema al sensore di prossimit\\u00e0, avendo effettuato solo poche telefonate finora non l\\u2019ho riscontrato, ma non \\u00e8 escluso che lo riscontri. Si spera che questi problemi vengano risolti al pi\\u00f9 presto con gli aggiornamenti della Miui.\\n\\n", "\\n\\n  Il telefono \\u00e8 una bomba \\u00e8 davvero bello , l\'unica pecca sta sulla batteria .. pensavo durasse di pi\\u00f9 , visto che ha 5020 di batteria .  Deluso dalla batteria\\n\\n", "\\n\\n  Overall I have this phone now for a few days and it\'s good. The battery is great it works fine but there is one major problem I think (that\'s the reason for one star) and it\'s the fact that when you\'re on a call the screen is not turned off and you can push some buttons with your face. It happened to me that it mutes my call or turn on the loudspeaker or put the call on hold to that is a major issue for me that shows this product is not mature enough. I\'m quite disappointed. Otherwise for the rest it does the job so far.\\n\\n", "\\n\\n  La cosa che mi ha dato sui nervi (e appartentemente non c\'\\u00e8 rimedio) \\u00e8 il sensore di prossimit\\u00e0 che disattiva lo schermo durante le chiamate che non funziona MAI bene, attivando cose a caso (spesso se lo si tiene con la spalla impazzisce e a volte si stacca la chiamata, si attiva il mute o inspiegabilmente si attiva il flash della fotocamera (PERCH\\u00c8?!), creandomi non pochi disagi anche con gli audio di Whatsapp. Per il resto sono abbastanza soddisfatto: batteria dura quasi due giorni pieni (utilizzando in prevalenza social e con l\'hotspot acceso almeno 3 ore al giorno), fotocamera che non fa troppo rimpiangere il top di gamma Mi10T e processore scattante ne fanno un ottimo fascia media. Lo schermo \\u00e8 molto brillante essendo un super AMOLED. Altri difetti? le fotocamere sporgono come un balcone e c\'\\u00e8 bisogno di una cover abbastanza importante per evitare che si fracassino; il gi\\u00e0 citato SENSORE DI PROSSIMITA\' e la qualit\\u00e0 delle foto al buio rispeto ad altri concorrenti di fascia media; ottima la camera grandangolare e super-grandangolare. Valido nel complesso ma delusione totale per il sensore sopra citato. Amazon una garanzia: arrivato in anticipo e ben imballato, 4 stelle.\\n\\n", "\\n\\n  Arrivato prima del previsto,complimenti al venditore ed a Amazon,come sempre!  Dopo qualche giorno di utilizzo posso dire che \\u00e8 davvero un ottimo smartphone,veloce e fluido anche dopo ore di utilizzo! Fotocamera e batteria eccezionali!\\n\\n", "\\n\\n  Por defecto la pantalla viene a 60 h, lo cambi\\u00e9 a 120 y dur\\u00f3 la bateria medio diaEl senson de proximidad para hablar no apaga la pantalla al acercarlo a la oreja, lo que hace que cada vez que hablopulse todo.Al hablar con el altavoz, se quejan todos de que no se me escucha, tengo que poner el micr\\u00f3fono a 10 cm m\\u00e1ximo, o no me entienden nada.La duraci\\u00f3n de la bater\\u00eda, dos d\\u00edas con poco uso.\\n\\n", "\\n\\n  Doveva arrivare tra il 27 e il 29 aprile invece sorpresa ! \\u00e8 arrivato il 26\\n\\n", "\\n\\n  Cellulare top! La consegna \\u00e8 stata iper veloce, ci ha messo soltanto due giorni. Imballaggio accurato e sicuro.\\n\\n", "\\n\\n  Works with metro but you have to call and pay a fee. Not a negative on the phone just a negative on metro.\\n\\n", "\\n\\n  If you live in the US avoid this phone at all costs. It does not come with enough US radios to be functional. You will drop every call you get and miss 80% of the rest of them. Those you do talk to will hear what sounds like you in a cafeteria. You will have to return the phone and wait to find something else. Just a huge pain!!!\\n\\n", "\\n\\n  Pros: camera, looks, AMOLED display, comes with a substantial case, great battery life.Cons: The UI is buggy, the graphics are not great, can become very annoying with all the sporadic glitches in the system.On the bright side: this is something that could be completely fixed with either future updates or installing a custom ROM. Although it may be more difficult to install a custom ROM on this device due to its recent launch. Develop actually need to build viable custom recovery software and ROMs compatible with this particular device. So fortunately, as time goes on the likeliness of this phone becoming a really awsome budget solution will greatly increase.\\n\\n", "\\n\\n  I received my phone yesterday.  The mobile phone charges quickly.  The phone has enough battery power for a day.  I am very satisfied!\\n\\n", "\\n\\n  I\'ve been using the phone as a daily drive and its has been a great experience. A very awesome display that is pleasant on the eyes with dark mode built-in to the software of the phone. Amazing battery life, never having to worrying about charging my phone as often, which is nice. As well as being to use it with almost any provider in the US like MetroPCS or T-Mobile. Really hoping Xiaomi brings more of there phones over to the west. This bang for the buck is highly needed here. Going to be sticking to the brand for a while.\\n\\n", "\\n\\n  It didn\'t came with the pen, this is so frustrating because it\'s a gift for my wife as our anniversary present I had for her, I\'m so mad right now. I\'ll switch to 5 stars if they send me the pen.\\n\\n", "\\n\\n  Corresponde con las expectativas\\n\\n", "\\n\\n  I recommended it it\\u2019s a super good device.\\n\\n", "\\n\\n  Good smartphone for the price. I have AT&T and I get LTE connection with no problems at all (Los Angeles area).\\n\\n", "\\n\\n  I like it very much I use it as cell phone, to read emails, take pictures and record videos.\\n\\n", "\\n\\n  Works with metro but you have to call and pay a fee. Not a negative on the phone just a negative on metro.\\n\\n", "\\n\\n  If you live in the US avoid this phone at all costs. It does not come with enough US radios to be functional. You will drop every call you get and miss 80% of the rest of them. Those you do talk to will hear what sounds like you in a cafeteria. You will have to return the phone and wait to find something else. Just a huge pain!!!\\n\\n", "\\n\\n  Pros: camera, looks, AMOLED display, comes with a substantial case, great battery life.Cons: The UI is buggy, the graphics are not great, can become very annoying with all the sporadic glitches in the system.On the bright side: this is something that could be completely fixed with either future updates or installing a custom ROM. Although it may be more difficult to install a custom ROM on this device due to its recent launch. Develop actually need to build viable custom recovery software and ROMs compatible with this particular device. So fortunately, as time goes on the likeliness of this phone becoming a really awsome budget solution will greatly increase.\\n\\n", "\\n\\n  I received my phone yesterday.  The mobile phone charges quickly.  The phone has enough battery power for a day.  I am very satisfied!\\n\\n", "\\n\\n  I\'ve been using the phone as a daily drive and its has been a great experience. A very awesome display that is pleasant on the eyes with dark mode built-in to the software of the phone. Amazing battery life, never having to worrying about charging my phone as often, which is nice. As well as being to use it with almost any provider in the US like MetroPCS or T-Mobile. Really hoping Xiaomi brings more of there phones over to the west. This bang for the buck is highly needed here. Going to be sticking to the brand for a while.\\n\\n", "\\n\\n  It didn\'t came with the pen, this is so frustrating because it\'s a gift for my wife as our anniversary present I had for her, I\'m so mad right now. I\'ll switch to 5 stars if they send me the pen.\\n\\n", "\\n\\n  Corresponde con las expectativas\\n\\n", "\\n\\n  I recommended it it\\u2019s a super good device.\\n\\n", "\\n\\n  Good smartphone for the price. I have AT&T and I get LTE connection with no problems at all (Los Angeles area).\\n\\n", "\\n\\n  I like it very much I use it as cell phone, to read emails, take pictures and record videos.\\n\\n", "\\n\\n  Me encanto el celular pero lo tuve que regresar no venia deabloqueado \\ud83d\\ude2d\\n\\n", "\\n\\n  El mejor celular que e tenido\\n\\n", "\\n\\n  Lleg\\u00f3 en tiempo y respecto a la compra, todo bien. Es un buen tel\\u00e9fono, mucha calidad a buen precio. Excelente camara y funcionamiento en gral. A pesar de que con la \\u00faltima actualizaci\\u00f3n est\\u00e1 un poco raro, de ah\\u00ed en fuera todo va bien\\n\\n", "\\n\\n  Excelente relaci\\u00f3n calidad precio, acabo de cambiar un equipo de gama alta por este para probar y hay una que otra desventaja, pero el precio es muy razonable. Lo concidero gama media alta.\\n\\n", "\\n\\n  Muy buen telefono, es rapido llego empaquetado y sellado todo en orden, fue primera vez de comprar un telefono y quede muy convencido, sin duda gran tel\\u00e9fono, trajo adaptador incluido ya que el cargador es no es americano, pero todo bien.\\n\\n", "\\n\\n  Muy bueno\\n\\n", "\\n\\n  Me lleg\\u00f3 con almacenamiento de 64GB y seg\\u00fan son de 128\\n\\n", "\\n\\n  Me encanto el celular pero lo tuve que regresar no venia deabloqueado \\ud83d\\ude2d\\n\\n", "\\n\\n  El mejor celular que e tenido\\n\\n", "\\n\\n  Lleg\\u00f3 en tiempo y respecto a la compra, todo bien. Es un buen tel\\u00e9fono, mucha calidad a buen precio. Excelente camara y funcionamiento en gral. A pesar de que con la \\u00faltima actualizaci\\u00f3n est\\u00e1 un poco raro, de ah\\u00ed en fuera todo va bien\\n\\n", "\\n\\n  Excelente relaci\\u00f3n calidad precio, acabo de cambiar un equipo de gama alta por este para probar y hay una que otra desventaja, pero el precio es muy razonable. Lo concidero gama media alta.\\n\\n", "\\n\\n  Muy buen telefono, es rapido llego empaquetado y sellado todo en orden, fue primera vez de comprar un telefono y quede muy convencido, sin duda gran tel\\u00e9fono, trajo adaptador incluido ya que el cargador es no es americano, pero todo bien.\\n\\n", "\\n\\n  Muy bueno\\n\\n", "\\n\\n  Me lleg\\u00f3 con almacenamiento de 64GB y seg\\u00fan son de 128\\n\\n", "\\n\\n  Lamentablemente no funciona para operadores de Estados Unidos tube que regresar el producto.... No puedo usarlo las bandas que trae el celular es de europa y en Am\\u00e9rica no usamos bandas europeas posiblemente puede que funcione con bandas 2G pero la calidad del servicio no ser\\u00eda agradable y no hay operadoras que funcione con 2G\\n\\n", "\\n\\n  Just got lemon today.Phone reboot every two or three minutes,touch screen frequently no work freeze.Amazon give me a replacement ,very nice company.thank you Amazon.Will update when i receive the replacement.\\n\\n", "\\n\\n  Hab\\u00eda comprado el celular con TELMOV por medio de Amazon y tuvieron el mal tino de pegarle a la caja santo y se\\u00f1a del celular, es decir, qu\\u00e9 modelo es y cu\\u00e1nto cost\\u00f3, as\\u00ed que los amantes de lo ajeno sacaron el celular de la caja y a m\\u00ed me entregaron una caja vac\\u00eda. Amazon hasta el momento no me ha hecho reembolso de mi dinero. Ahora lo volv\\u00ed a comprar, con otro vendedor y la caja lleg\\u00f3 con los sellos de Amaz\\u00f3n, el celular super bien, en su cajita sellada y todo, no era el color verde degradado, pero este verdecito me gust\\u00f3. Al principio se calent\\u00f3 much\\u00edsimo en la parte de arriba, espec\\u00edficamente en donde est\\u00e1n las c\\u00e1maras, pero despu\\u00e9s de unas horas de uso ya se normaliz\\u00f3 y est\\u00e1 funcionando super bien. La carga es rapid\\u00edsima, el cargador es americano y en general es un buen producto en cuesti\\u00f3n de costo-beneficio. Estoy casada con Xiaomi que trae buenos terminales a precios competitivos. Ahora s\\u00ed estoy satisfecha con mi compra.\\n\\n", "\\n\\n  Lleg\\u00f3 sin contratiempos, y el equipo funciona sin temas. Gran compra!\\n\\n", "\\n\\n  Durante la primera semana funcion\\u00f3 todo bien, pero a partir de la 2da empec\\u00e9 a notar que el teclado se alentaba mucho. En incluso se mov\\u00eda el punto en el que estaba escribiendo y se hac\\u00eda un desastre, ya sea para enviar mensajes o escribir notas.Tambi\\u00e9n me ha pasado 2 ocasiones que se apaga y se reinicia solo, y llevo aprox. 2 meses con el tel\\u00e9fono.Trat\\u00e9 de devolverlo pero se me venci\\u00f3 el plazo. No lo recomiendo por esos detalles que s\\u00ed pueden llegar a ser desesperantes, al punto de que tienes que reiniciar el m\\u00f3vil para seguirlo usando, y no siempre soluciona el problema.La bater\\u00eda dura razonablemente pero antes de este ten\\u00eda un Huawei, ya viejito de dos a\\u00f1os y que en comparaci\\u00f3n le duraba casi el doble la bater\\u00eda.\\n\\n", "\\n\\n  El tel\\u00e9fono es excelente pero no llego en el color indicado.\\n\\n", "\\n\\n  Por alguna raz\\u00f3n no pude adquirir con Telmov, busque otros proveedores y por unos pesos m\\u00e1s encontr\\u00e9 de mayor capacidad con Tecnolife.Excelente c\\u00e1mara y rendimiento equiparable a los gamma alta.La pantalla AMOLED es impresionante, sonido en ambos lados. Lo \\u00fanico malo es el adaptador de corriente, pero es casi insignificante, carga completa de en 52mins desde 1% y dura todo el d\\u00eda.Las contras: despu\\u00e9s de unos d\\u00edas de uso, tiene problemas al desbloquear. Parece que es frecuente con este modelo.Sugiero esperar actualizaciones o simplemente comprar un Redmi 9 de mismas capacidades que no tiene problema alguno.\\n\\n", "\\n\\n  Lleg\\u00f3 antes de lo estimado y perfectamente empaquetado, sin embargo, el color que lleg\\u00f3 no es el que hab\\u00eda elegido; lleg\\u00f3 en color blanco y yo lo hab\\u00eda pedido verde. Dejando de lado ese detalle, todo est\\u00e1 perfecto.\\n\\n", "\\n\\n  Compre este articulo para probar el tema de acceso a la tienda google play, todo funciono correctamente, puedo entrar y descargar aplicaciones, al igual que registrar mi cuenta google.Hablando de la relaci\\u00f3n costo-beneficio, considero que los celulares Xoami \\u00f3 Huawie son excelentes, buen procesador, memoria y espacio para almacenar archivos y aplicaciones.Un producto muy recomendable. Saludos.\\n\\n", "\\n\\n  Excelente equipo, no hay ninguna queja con el rendimiento, sin embargo eh batallado un poco al querer cargar el equipo ya que esta muy pesado el cargador, es necesario por la carga rapida, la cual funciona y en 1 hora aprox tendras el equipo cargado al 100%, sin embargo con todo y el adaptador de corriente no genera la suficiente friccion para sostener el pesado cargador. Nececita un adaptador de entrada europea a americano.\\n\\n", "\\n\\n  Lamentablemente no funciona para operadores de Estados Unidos tube que regresar el producto.... No puedo usarlo las bandas que trae el celular es de europa y en Am\\u00e9rica no usamos bandas europeas posiblemente puede que funcione con bandas 2G pero la calidad del servicio no ser\\u00eda agradable y no hay operadoras que funcione con 2G\\n\\n", "\\n\\n  Just got lemon today.Phone reboot every two or three minutes,touch screen frequently no work freeze.Amazon give me a replacement ,very nice company.thank you Amazon.Will update when i receive the replacement.\\n\\n", "\\n\\n  Hab\\u00eda comprado el celular con TELMOV por medio de Amazon y tuvieron el mal tino de pegarle a la caja santo y se\\u00f1a del celular, es decir, qu\\u00e9 modelo es y cu\\u00e1nto cost\\u00f3, as\\u00ed que los amantes de lo ajeno sacaron el celular de la caja y a m\\u00ed me entregaron una caja vac\\u00eda. Amazon hasta el momento no me ha hecho reembolso de mi dinero. Ahora lo volv\\u00ed a comprar, con otro vendedor y la caja lleg\\u00f3 con los sellos de Amaz\\u00f3n, el celular super bien, en su cajita sellada y todo, no era el color verde degradado, pero este verdecito me gust\\u00f3. Al principio se calent\\u00f3 much\\u00edsimo en la parte de arriba, espec\\u00edficamente en donde est\\u00e1n las c\\u00e1maras, pero despu\\u00e9s de unas horas de uso ya se normaliz\\u00f3 y est\\u00e1 funcionando super bien. La carga es rapid\\u00edsima, el cargador es americano y en general es un buen producto en cuesti\\u00f3n de costo-beneficio. Estoy casada con Xiaomi que trae buenos terminales a precios competitivos. Ahora s\\u00ed estoy satisfecha con mi compra.\\n\\n", "\\n\\n  Lleg\\u00f3 sin contratiempos, y el equipo funciona sin temas. Gran compra!\\n\\n", "\\n\\n  Durante la primera semana funcion\\u00f3 todo bien, pero a partir de la 2da empec\\u00e9 a notar que el teclado se alentaba mucho. En incluso se mov\\u00eda el punto en el que estaba escribiendo y se hac\\u00eda un desastre, ya sea para enviar mensajes o escribir notas.Tambi\\u00e9n me ha pasado 2 ocasiones que se apaga y se reinicia solo, y llevo aprox. 2 meses con el tel\\u00e9fono.Trat\\u00e9 de devolverlo pero se me venci\\u00f3 el plazo. No lo recomiendo por esos detalles que s\\u00ed pueden llegar a ser desesperantes, al punto de que tienes que reiniciar el m\\u00f3vil para seguirlo usando, y no siempre soluciona el problema.La bater\\u00eda dura razonablemente pero antes de este ten\\u00eda un Huawei, ya viejito de dos a\\u00f1os y que en comparaci\\u00f3n le duraba casi el doble la bater\\u00eda.\\n\\n", "\\n\\n  El tel\\u00e9fono es excelente pero no llego en el color indicado.\\n\\n", "\\n\\n  Por alguna raz\\u00f3n no pude adquirir con Telmov, busque otros proveedores y por unos pesos m\\u00e1s encontr\\u00e9 de mayor capacidad con Tecnolife.Excelente c\\u00e1mara y rendimiento equiparable a los gamma alta.La pantalla AMOLED es impresionante, sonido en ambos lados. Lo \\u00fanico malo es el adaptador de corriente, pero es casi insignificante, carga completa de en 52mins desde 1% y dura todo el d\\u00eda.Las contras: despu\\u00e9s de unos d\\u00edas de uso, tiene problemas al desbloquear. Parece que es frecuente con este modelo.Sugiero esperar actualizaciones o simplemente comprar un Redmi 9 de mismas capacidades que no tiene problema alguno.\\n\\n", "\\n\\n  Lleg\\u00f3 antes de lo estimado y perfectamente empaquetado, sin embargo, el color que lleg\\u00f3 no es el que hab\\u00eda elegido; lleg\\u00f3 en color blanco y yo lo hab\\u00eda pedido verde. Dejando de lado ese detalle, todo est\\u00e1 perfecto.\\n\\n", "\\n\\n  Compre este articulo para probar el tema de acceso a la tienda google play, todo funciono correctamente, puedo entrar y descargar aplicaciones, al igual que registrar mi cuenta google.Hablando de la relaci\\u00f3n costo-beneficio, considero que los celulares Xoami \\u00f3 Huawie son excelentes, buen procesador, memoria y espacio para almacenar archivos y aplicaciones.Un producto muy recomendable. Saludos.\\n\\n", "\\n\\n  Excelente equipo, no hay ninguna queja con el rendimiento, sin embargo eh batallado un poco al querer cargar el equipo ya que esta muy pesado el cargador, es necesario por la carga rapida, la cual funciona y en 1 hora aprox tendras el equipo cargado al 100%, sin embargo con todo y el adaptador de corriente no genera la suficiente friccion para sostener el pesado cargador. Nececita un adaptador de entrada europea a americano.\\n\\n", "\\n\\n  This thing is my absolute favorite. I bought the phone because I was long overdue for an upgrade. My last phone was already kind of old when I bought it years ago. This phone is a fantastic little device. It does just about everything the high-end phones do for a quarter of the price. Between the 4K display and 64Mp camera, I can\'t complain much! If I had to warn you about anything, it\'s the slowmo feature. Yes, the slowmo works, but it only slows down the last quarter of a 10 second video. If you\'re bad at math, that\'s 2.5 seconds.The camera is phenomenal, though, and the phone is incredibly responsive. The display is gorgeous, the back of the phone is so pretty I decided on a clear case so as not to hide it. I\'m afraid I\'m going to break this thing, but I know it is absolutely worth more than they\'re asking for it. Xiaomi did a fantastic job on the Redmi Note 9 Pro\\n\\n", "\\n\\n  I had this phone for 4 days, and in those 4 days, my thoughts on it have changed. Day 1 the phone arrived and it\'s lovely piece of equipment. I ordered the green, it\'s a nice size and weight: the screen looked narrower  and shorter than my galaxy note 9,  but my galaxy fit into the redmi case, so...PROSScreen size is good for me.The phone has a good weight to it.Side fingerprint detection button is novel to me.The graphics for the games I play were good.It connected well with my at&t wifi.The overall look was pleasing to me.CONSI couldn\'t get all my incoming calls. If callers didn\'t leave a voice message or text, I would never have known they called.Call quality was poor. The people could barely hear me.The speaker(s) are subpar in my opinion. Not loud enough. You also definitely need a good equalizer on there.It literally took 45 seconds to hear the line ring after the number was dialed. On EVERY call I made.Honestly if the redmi would do the basic phone function (making and receiving calls), I\'d consider keeping it. I don\'t get a lot of people calling me every day but I expect that I can receive calls if they do come in, and an unlocked GSM  phone is expected to function properly with my carrier (t-mobile), so that was a deal breaker for me.\\n\\n", "\\n\\n  I love this phone it shouldn\'t be $250 it is worth sooo much more than it even gets praise for the camera is of course not a full 64mp it stacks images to get there but it\'s the cleanest 64mp camera I\'ve ever seen under $500 it\'s battery is amazing after I took it out of the box it lasted me 2 and a half days and I don\'t have any problems with it it\'s fingerprint reader is picky which is amazing that just means it\'s not gonna let that much more error come in it\'s just an all around great phone especially for gaming it can do whatever you want with little to no latency\\n\\n", "\\n\\n  El producto llego sin novedad funciona perfectamente aunque fue importado a Ecuador llego sin ningun da\\u00f1o, el empaquetado no fue el mejor pero no tuvo ning\\u00fan da\\u00f1o\\n\\n", "\\n\\n  I like owning my phone but not paying a huge price. I bought a Samsung A70 I liked the phone but the finger print scanner was crap. So I tried going through Samsung for help I was told it\'s a known issue but since I bought a universal phone it wasn\'t covered. Then the screen broke and I was like YAY new phone time. I bought this phone after reading up on the reviews and comparing the specs. I recommend this phone 100 %. I can\'t speak highly enough. It has a bright screen crystal clear. The camera is everything I want in a camera. It runs my Apps perfectly and games very well. Buy it!!\\n\\n", "\\n\\n  The hardware is good. Snapdragon 720G, 128GB + 6GB, 2400 x 1080 FHD+, 64MP camera, etc.Major issue is that Xiaomi decided to take a dump on all those, and equip the phone with bad iPhone knock off Launcher that totally lacks affinity with Android. Bloatware they put on the phone make it even worse as you cannot even hide them without using bloatware of their own as the launcher lacks basic stock functionalities.It\'s just ridiculous to replace stock software with inferior home brew bloatware/flexware. I wish they understand that Android phone buyers actually want Android phones, not a knock off iPhone.\\n\\n", "\\n\\n  Es un celular excelente por el precio, buena inversion si no tienes un redmi 8 pro. No me gusto la camara porque sobresale del celular pero con una  carcaza ya no se nota. Funciona rapido, toma buenas fotos, le dura mucho la bateria, pantalla gigante. Tardare buen tiempo con este celular.\\n\\n", "\\n\\n  The phone takes 5-6 hours to be charged completely, whereas online reviews say it should take only about 2 hours. Also, the battery life is very short. I am afraid that this is a fake version.\\n\\n", "\\n\\n  So I actually LOVE this phone but unfortunately the few issues I\'ve been having with it area deal breakers so I am returning it.The good:The camera is AMAZING. Seriously if I could get past the calling issues, I would keep it for this feature alone.The screen is bright and crisp and had phenomenal color display.The battery is top notch - one charge lasted me 2.5 days of moderate to high use.The bad:The screen phantom touches sometimes when you haven\'t actually touched the screen (like if you hover, it thinks you tapped, which can be pretty annoying).The deal breaker:It\'s not supported by most carriers in my area. Verizon and Tmobile would not accept the IMEI and would not guarantee device would work on their networks because it\'s a global/international version, and not made for the US. AT&T said it would work based on IMEI so I ordered their SIM and put it in my old iphone 7 until my Redmi arrived (note: the SIM gave me 3 bars of LTE coverage on the iphone)... Insert it into the Redmi and it immediately dropped to one bar of service and intermittently would lose service completely. I thought I could get over the crummy service, but after I activated the wifi calling (per instructions I found online) I still wasn\'t able to receive calls while at home. I spent HOURS on the phone with both AT&T tech support and Amazon\'s support feature, but it still won\'t make or receive calls over wifi.. because of this, and the fact it is diminishing my  cell reception, I can\'t make or receive calls about 60-75% of the time. That IS a deal breaker for me, so it\'s back in the box and going back unfortunately.Wish they would make a US model already!!\\n\\n", "\\n\\n  So far so good. Swapping out my existing phone on Metro was okay. Huge warnings on package that this device will not work on Verizon-type carriers and to return phone right away without opening, so all the Verizon whiners shouldn\'t be moaning about this - they were warned. There are two sim slots, use the slot closest to the memory card, as that will be your first IMEI number on the back of the phone. The fingerprint reader is built into the power button, which is nifty. Display looks fine and speed is fine as well. Camera seems alright but I need to mess with that more. I was tired of slower phones with 4g ram and slower cpus, this phone has the 6g ram and a spry 720 Snapdragon, which checks off those two boxes for me. The price is far less than a Samsung. 8/29 update - One downer I have found is that this phone does not support wireless calling. womp womp UPDATE 4/11/21 - Phone has had no issues, performance has been fine. I recommend this phone if you are looking for a quality phone at this price point.\\n\\n", "\\n\\n  This thing is my absolute favorite. I bought the phone because I was long overdue for an upgrade. My last phone was already kind of old when I bought it years ago. This phone is a fantastic little device. It does just about everything the high-end phones do for a quarter of the price. Between the 4K display and 64Mp camera, I can\'t complain much! If I had to warn you about anything, it\'s the slowmo feature. Yes, the slowmo works, but it only slows down the last quarter of a 10 second video. If you\'re bad at math, that\'s 2.5 seconds.The camera is phenomenal, though, and the phone is incredibly responsive. The display is gorgeous, the back of the phone is so pretty I decided on a clear case so as not to hide it. I\'m afraid I\'m going to break this thing, but I know it is absolutely worth more than they\'re asking for it. Xiaomi did a fantastic job on the Redmi Note 9 Pro\\n\\n", "\\n\\n  I had this phone for 4 days, and in those 4 days, my thoughts on it have changed. Day 1 the phone arrived and it\'s lovely piece of equipment. I ordered the green, it\'s a nice size and weight: the screen looked narrower  and shorter than my galaxy note 9,  but my galaxy fit into the redmi case, so...PROSScreen size is good for me.The phone has a good weight to it.Side fingerprint detection button is novel to me.The graphics for the games I play were good.It connected well with my at&t wifi.The overall look was pleasing to me.CONSI couldn\'t get all my incoming calls. If callers didn\'t leave a voice message or text, I would never have known they called.Call quality was poor. The people could barely hear me.The speaker(s) are subpar in my opinion. Not loud enough. You also definitely need a good equalizer on there.It literally took 45 seconds to hear the line ring after the number was dialed. On EVERY call I made.Honestly if the redmi would do the basic phone function (making and receiving calls), I\'d consider keeping it. I don\'t get a lot of people calling me every day but I expect that I can receive calls if they do come in, and an unlocked GSM  phone is expected to function properly with my carrier (t-mobile), so that was a deal breaker for me.\\n\\n", "\\n\\n  I love this phone it shouldn\'t be $250 it is worth sooo much more than it even gets praise for the camera is of course not a full 64mp it stacks images to get there but it\'s the cleanest 64mp camera I\'ve ever seen under $500 it\'s battery is amazing after I took it out of the box it lasted me 2 and a half days and I don\'t have any problems with it it\'s fingerprint reader is picky which is amazing that just means it\'s not gonna let that much more error come in it\'s just an all around great phone especially for gaming it can do whatever you want with little to no latency\\n\\n", "\\n\\n  El producto llego sin novedad funciona perfectamente aunque fue importado a Ecuador llego sin ningun da\\u00f1o, el empaquetado no fue el mejor pero no tuvo ning\\u00fan da\\u00f1o\\n\\n", "\\n\\n  I like owning my phone but not paying a huge price. I bought a Samsung A70 I liked the phone but the finger print scanner was crap. So I tried going through Samsung for help I was told it\'s a known issue but since I bought a universal phone it wasn\'t covered. Then the screen broke and I was like YAY new phone time. I bought this phone after reading up on the reviews and comparing the specs. I recommend this phone 100 %. I can\'t speak highly enough. It has a bright screen crystal clear. The camera is everything I want in a camera. It runs my Apps perfectly and games very well. Buy it!!\\n\\n", "\\n\\n  The hardware is good. Snapdragon 720G, 128GB + 6GB, 2400 x 1080 FHD+, 64MP camera, etc.Major issue is that Xiaomi decided to take a dump on all those, and equip the phone with bad iPhone knock off Launcher that totally lacks affinity with Android. Bloatware they put on the phone make it even worse as you cannot even hide them without using bloatware of their own as the launcher lacks basic stock functionalities.It\'s just ridiculous to replace stock software with inferior home brew bloatware/flexware. I wish they understand that Android phone buyers actually want Android phones, not a knock off iPhone.\\n\\n", "\\n\\n  Es un celular excelente por el precio, buena inversion si no tienes un redmi 8 pro. No me gusto la camara porque sobresale del celular pero con una  carcaza ya no se nota. Funciona rapido, toma buenas fotos, le dura mucho la bateria, pantalla gigante. Tardare buen tiempo con este celular.\\n\\n", "\\n\\n  The phone takes 5-6 hours to be charged completely, whereas online reviews say it should take only about 2 hours. Also, the battery life is very short. I am afraid that this is a fake version.\\n\\n", "\\n\\n  So I actually LOVE this phone but unfortunately the few issues I\'ve been having with it area deal breakers so I am returning it.The good:The camera is AMAZING. Seriously if I could get past the calling issues, I would keep it for this feature alone.The screen is bright and crisp and had phenomenal color display.The battery is top notch - one charge lasted me 2.5 days of moderate to high use.The bad:The screen phantom touches sometimes when you haven\'t actually touched the screen (like if you hover, it thinks you tapped, which can be pretty annoying).The deal breaker:It\'s not supported by most carriers in my area. Verizon and Tmobile would not accept the IMEI and would not guarantee device would work on their networks because it\'s a global/international version, and not made for the US. AT&T said it would work based on IMEI so I ordered their SIM and put it in my old iphone 7 until my Redmi arrived (note: the SIM gave me 3 bars of LTE coverage on the iphone)... Insert it into the Redmi and it immediately dropped to one bar of service and intermittently would lose service completely. I thought I could get over the crummy service, but after I activated the wifi calling (per instructions I found online) I still wasn\'t able to receive calls while at home. I spent HOURS on the phone with both AT&T tech support and Amazon\'s support feature, but it still won\'t make or receive calls over wifi.. because of this, and the fact it is diminishing my  cell reception, I can\'t make or receive calls about 60-75% of the time. That IS a deal breaker for me, so it\'s back in the box and going back unfortunately.Wish they would make a US model already!!\\n\\n", "\\n\\n  So far so good. Swapping out my existing phone on Metro was okay. Huge warnings on package that this device will not work on Verizon-type carriers and to return phone right away without opening, so all the Verizon whiners shouldn\'t be moaning about this - they were warned. There are two sim slots, use the slot closest to the memory card, as that will be your first IMEI number on the back of the phone. The fingerprint reader is built into the power button, which is nifty. Display looks fine and speed is fine as well. Camera seems alright but I need to mess with that more. I was tired of slower phones with 4g ram and slower cpus, this phone has the 6g ram and a spry 720 Snapdragon, which checks off those two boxes for me. The price is far less than a Samsung. 8/29 update - One downer I have found is that this phone does not support wireless calling. womp womp UPDATE 4/11/21 - Phone has had no issues, performance has been fine. I recommend this phone if you are looking for a quality phone at this price point.\\n\\n", "\\n\\n  Fast Shipping, shipped brand new in the package. Mine came with a clear case, also came with a European charger only, which is okay, I have a USA spare charger.Other than that, Amazing phone! It\'s beautiful, not to big, but it IS heavy.Carrier: I have T-Mobile (Wingalpha.com) - I was a bit worried that it wouldn\'t work with my service. But it did! My anxiety was gone once I put my SIM in and set it up and it worked flawless.Definitely recommend!P.s- it comes with a pre-installed screen protector. I normally don\'t like them but I haven\'t noticed any issues with it; so it\'s not a big deal.Update: it\'s been almost 6 months with the phone. Still no issues what so ever! Still love it!\\n\\n", "\\n\\n  From a loyal LG customer, last was the LG V30 with amazing sound, video and camera quality.  But the ram, memory and battery life started lacking.  The Note 9 Pro beats it in spades.  Battery life is the best part of the phone.  I\'ve had used it 3 days straight with mobile data constantly on before recharging.  Never spent more than $300 on a phone as I always buy one or two generations behind.But it\'s not without its quirks.  And it may be unfair to compare it to the 3 year old LG V30.Firstly it\'s a Chinese phone so there may be a security risk.  Lately I\'ve had emails from Venmo about unauthorized sign-ins since using the phone.  But that could be another data breach.Secondly, the UI is very basic.  MIUI on android 10 is not very customizable.  From a 3 year old Flagship LG V30 the Note 9 Pro is lacking.  Can\'t control game graphics and frame rate like the V30 running on android 9.  But it\'s moot since the battery is so big.  One cool feature is running 2 apps in split screen top/bottom and 50/50 or 66/33 or 33/66 size.  The V30 was able to do that.  But you can drag an app out and have it float on a corner as a window.  Also can\'t change the aspect ratio or the resolution of the screenThirdly, even though it\'s unlocked you have to make sure your carrier bands are supported.  I\'m with T-Mobile and most bands are supported but still had to create a custom APN (look it up) to send/receive txts and mms txts.  The APN on my sim card was not fully compatible.  Also if I don\'t keep mobile data on there\'s no guarantee of incoming/outgoing calls.  But come January 2021 T-Mobile subscribers will only be able to make VoLTE calls.  I also seem to get 3G speeds even though LTE is indicated is connected and indicated on status bar.  If you dig around settings you can see downstream speeds on status bar.  Wifi is no issue.Fourthly, no wifi calling.  Looked everywhere but can\'t seem to find it.  And can\'t send/receive txts over wifi which my old phone could do in case I didn\'t have a cell signal.Fifth, minor things like the screen aspect ratio is too tall, 20:9 I think.  And it\'s LCD not OLED like my old phone.  Light does bleed thru on top right hand corner.  Battery life and brightness is not an issue because the battery is big.  I still prefer OLED for better blacks and grays and no light bleeding.Sixth, transferring apps and accounts is not as seamless as with LG.  Every generation LG phone allowed me to transfer and restore all my apps, accounts, email and settings with little follow up thru it\'s mobile app.  It\'s the main reason I stuck with LG for so long.  On the Redmi I was only able to transfer and restore my Google account and some apps.  Had to sign in to most of my accounts again unlike the seamlessness of LG app/account restore process.I know I\'ve focused on the negatives but the positives speak for themselves.  For instance the rear camera is amazing at 64 mp and you can record 4k video if you have the memory.Conclusion, this will be my holdover phone until I upgrade to a 5G.  Either it will be another Redmi or I\'ll go back to LG when the price is right.Edit: 12-16-20.  Forgot to mention no wireless charging and it\'s not waterproof, the V30 has it.  But there is a headphone jack.Side note, when I read reviews I usually read the bad reviews first that\'s why the review skews negative but it isn\'t so.  There are many features that are not covered more readily explained from other reviews so I won\'t be repeating them.\\n\\n", "\\n\\n  So I was a little nervous ordering this phone, as I\'ve had a Samsung Note phone for the last 5 years. I was honestly tired of paying $1k per phone,so I started researching more affordable alternatives and came across Xiaomi Redmi and read all the great reviews and decided to give it\'s go.  I can definitely say, I am not at all disappointed in my decision. I\'m quite happy I got this phone, it can definitely go head to head with any top notch phone and gives Samsung a run for their money. I will never buy another Samsung with this far better alternative. The specs, quality and camera... all you get for a 1/4 of the price. Thank you Xiaomi!! You are the Robin Hood of premium phones for the poor and the frugal.\\n\\n", "\\n\\n  So far I am really pleased with this phone. I wanted a phone that I would be able to get notifications, with nice camera, decent storage and great battery life. It has it all. I have been using it for 2 weeks only, but everything works to my standards. It is bigger than my last phone Huawei (that I started having problems with due to being banned in US ?) but hence the \\"Note\\" phone. I like bigger display, as it is  better to see photos and browse the internet. The side fingerprint sensor works well. Battery life lasts 2.5 days with normal usage. Photos are also nice quality. People can hear me and I can hear them nicely as well. Seller shipped very fast, it came in within 2 days with standard shipping.\\n\\n", "\\n\\n  Phone is too good. Little heavy on ur palms. Camera is awesome !! Initially had issues with Play store, however a factory reset fixed the issue. With all features, memory space definitely worth the penny spent.\\n\\n", "\\n\\n  This phone is simply amazing. I got it to replace a Galaxy Note 9. Many thought I was crazy. Not at all. I like this phone so much more. The camera is better. It is plenty loud enough. Fast and huge battery lasts forever and charges quickly. This must be the best phone on the market below even $800 price points, and all for under $300? It\'s insane. This phone is by far the best phone I\'ve owned. And I\'ve had many. Even better than the Razer Phone 2. Really impressed.\\n\\n", "\\n\\n  excellent phone. boots super quick. runs flawlessbattery life is 1 full day of use. watching netflix, playing some games,and taking pics and texting/smsthe camera is the best ive ever had in a phone.i can take a single pic with 48 MB resolution. yes 48MB !!!the video has 3 angles of adjustment. and with a flip of your finger you can easily go from x2 x1 x1.2 magnification. no fumbling with settings BUT if you need to you can totally adjust ALL the camerassettings with the BASE camera app.it also has built in app cleaning and you can even uninstall apps that other phones put on theirs as bloatware.this last option to remove/uninstall apps already on the phone is the best feature IMO.\\n\\n", "\\n\\n  Excelente celular, lleg\\u00f3 antes del tiempo acordado. Bien empacado y es tal cual la descripci\\u00f3n.\\n\\n", "\\n\\n  This cellphone had been sold as an international versi\\u00f3n but actually is an indian version, so that  it doesn\'t work in 4G band in Am\\u00e9rica as a global version does it., I REALLY FEEL CHEATED.I thought they would sell me (M2003J6B2G Global version), However they sold me an useless indian version, Model: M2003J6A1I.  I DEMAND MY REFUND\\n\\n", "\\n\\n  I cannot get in! I tried to do a factory reset wipe date and reboot and still it asks me to unlock using previous password or previous email!! I cannot get in using my email it asks for previous email. After a long time I was finally able to get in without having to return the phone. I downloaded iMyFone LockWiper on my computer and connected it to my phone and I don\'t know if that worked but Eventually I was able to create a new password and use that one when it asked for the previous password and it worked! Thank God because I hate the hassle of having to return things.\\n\\n", "\\n\\n  Fast Shipping, shipped brand new in the package. Mine came with a clear case, also came with a European charger only, which is okay, I have a USA spare charger.Other than that, Amazing phone! It\'s beautiful, not to big, but it IS heavy.Carrier: I have T-Mobile (Wingalpha.com) - I was a bit worried that it wouldn\'t work with my service. But it did! My anxiety was gone once I put my SIM in and set it up and it worked flawless.Definitely recommend!P.s- it comes with a pre-installed screen protector. I normally don\'t like them but I haven\'t noticed any issues with it; so it\'s not a big deal.Update: it\'s been almost 6 months with the phone. Still no issues what so ever! Still love it!\\n\\n", "\\n\\n  From a loyal LG customer, last was the LG V30 with amazing sound, video and camera quality.  But the ram, memory and battery life started lacking.  The Note 9 Pro beats it in spades.  Battery life is the best part of the phone.  I\'ve had used it 3 days straight with mobile data constantly on before recharging.  Never spent more than $300 on a phone as I always buy one or two generations behind.But it\'s not without its quirks.  And it may be unfair to compare it to the 3 year old LG V30.Firstly it\'s a Chinese phone so there may be a security risk.  Lately I\'ve had emails from Venmo about unauthorized sign-ins since using the phone.  But that could be another data breach.Secondly, the UI is very basic.  MIUI on android 10 is not very customizable.  From a 3 year old Flagship LG V30 the Note 9 Pro is lacking.  Can\'t control game graphics and frame rate like the V30 running on android 9.  But it\'s moot since the battery is so big.  One cool feature is running 2 apps in split screen top/bottom and 50/50 or 66/33 or 33/66 size.  The V30 was able to do that.  But you can drag an app out and have it float on a corner as a window.  Also can\'t change the aspect ratio or the resolution of the screenThirdly, even though it\'s unlocked you have to make sure your carrier bands are supported.  I\'m with T-Mobile and most bands are supported but still had to create a custom APN (look it up) to send/receive txts and mms txts.  The APN on my sim card was not fully compatible.  Also if I don\'t keep mobile data on there\'s no guarantee of incoming/outgoing calls.  But come January 2021 T-Mobile subscribers will only be able to make VoLTE calls.  I also seem to get 3G speeds even though LTE is indicated is connected and indicated on status bar.  If you dig around settings you can see downstream speeds on status bar.  Wifi is no issue.Fourthly, no wifi calling.  Looked everywhere but can\'t seem to find it.  And can\'t send/receive txts over wifi which my old phone could do in case I didn\'t have a cell signal.Fifth, minor things like the screen aspect ratio is too tall, 20:9 I think.  And it\'s LCD not OLED like my old phone.  Light does bleed thru on top right hand corner.  Battery life and brightness is not an issue because the battery is big.  I still prefer OLED for better blacks and grays and no light bleeding.Sixth, transferring apps and accounts is not as seamless as with LG.  Every generation LG phone allowed me to transfer and restore all my apps, accounts, email and settings with little follow up thru it\'s mobile app.  It\'s the main reason I stuck with LG for so long.  On the Redmi I was only able to transfer and restore my Google account and some apps.  Had to sign in to most of my accounts again unlike the seamlessness of LG app/account restore process.I know I\'ve focused on the negatives but the positives speak for themselves.  For instance the rear camera is amazing at 64 mp and you can record 4k video if you have the memory.Conclusion, this will be my holdover phone until I upgrade to a 5G.  Either it will be another Redmi or I\'ll go back to LG when the price is right.Edit: 12-16-20.  Forgot to mention no wireless charging and it\'s not waterproof, the V30 has it.  But there is a headphone jack.Side note, when I read reviews I usually read the bad reviews first that\'s why the review skews negative but it isn\'t so.  There are many features that are not covered more readily explained from other reviews so I won\'t be repeating them.\\n\\n", "\\n\\n  So I was a little nervous ordering this phone, as I\'ve had a Samsung Note phone for the last 5 years. I was honestly tired of paying $1k per phone,so I started researching more affordable alternatives and came across Xiaomi Redmi and read all the great reviews and decided to give it\'s go.  I can definitely say, I am not at all disappointed in my decision. I\'m quite happy I got this phone, it can definitely go head to head with any top notch phone and gives Samsung a run for their money. I will never buy another Samsung with this far better alternative. The specs, quality and camera... all you get for a 1/4 of the price. Thank you Xiaomi!! You are the Robin Hood of premium phones for the poor and the frugal.\\n\\n", "\\n\\n  So far I am really pleased with this phone. I wanted a phone that I would be able to get notifications, with nice camera, decent storage and great battery life. It has it all. I have been using it for 2 weeks only, but everything works to my standards. It is bigger than my last phone Huawei (that I started having problems with due to being banned in US ?) but hence the \\"Note\\" phone. I like bigger display, as it is  better to see photos and browse the internet. The side fingerprint sensor works well. Battery life lasts 2.5 days with normal usage. Photos are also nice quality. People can hear me and I can hear them nicely as well. Seller shipped very fast, it came in within 2 days with standard shipping.\\n\\n", "\\n\\n  Phone is too good. Little heavy on ur palms. Camera is awesome !! Initially had issues with Play store, however a factory reset fixed the issue. With all features, memory space definitely worth the penny spent.\\n\\n", "\\n\\n  This phone is simply amazing. I got it to replace a Galaxy Note 9. Many thought I was crazy. Not at all. I like this phone so much more. The camera is better. It is plenty loud enough. Fast and huge battery lasts forever and charges quickly. This must be the best phone on the market below even $800 price points, and all for under $300? It\'s insane. This phone is by far the best phone I\'ve owned. And I\'ve had many. Even better than the Razer Phone 2. Really impressed.\\n\\n", "\\n\\n  excellent phone. boots super quick. runs flawlessbattery life is 1 full day of use. watching netflix, playing some games,and taking pics and texting/smsthe camera is the best ive ever had in a phone.i can take a single pic with 48 MB resolution. yes 48MB !!!the video has 3 angles of adjustment. and with a flip of your finger you can easily go from x2 x1 x1.2 magnification. no fumbling with settings BUT if you need to you can totally adjust ALL the camerassettings with the BASE camera app.it also has built in app cleaning and you can even uninstall apps that other phones put on theirs as bloatware.this last option to remove/uninstall apps already on the phone is the best feature IMO.\\n\\n", "\\n\\n  Excelente celular, lleg\\u00f3 antes del tiempo acordado. Bien empacado y es tal cual la descripci\\u00f3n.\\n\\n", "\\n\\n  This cellphone had been sold as an international versi\\u00f3n but actually is an indian version, so that  it doesn\'t work in 4G band in Am\\u00e9rica as a global version does it., I REALLY FEEL CHEATED.I thought they would sell me (M2003J6B2G Global version), However they sold me an useless indian version, Model: M2003J6A1I.  I DEMAND MY REFUND\\n\\n", "\\n\\n  I cannot get in! I tried to do a factory reset wipe date and reboot and still it asks me to unlock using previous password or previous email!! I cannot get in using my email it asks for previous email. After a long time I was finally able to get in without having to return the phone. I downloaded iMyFone LockWiper on my computer and connected it to my phone and I don\'t know if that worked but Eventually I was able to create a new password and use that one when it asked for the previous password and it worked! Thank God because I hate the hassle of having to return things.\\n\\n", "\\n\\n  Worth every penny. You can\'t expect the experience like samsung or Apple  from a 250 bucks phone. But at this price you won\'t be disappointed too. Although it is equipped with an IPS lcd display honestly i found it as equal to an amoled panels. Camera is fantastic needs some improvement though by software update. Battery life is tooooooo loooooong. Lasts for 3days of Moderate usage.Cons: speaker is like a joke. It sounds like a cheap Chinese radio.The most important thing i\'d like to mention that xiaomi said now they have a new improved vibration motor for better haptic feedback but  on that one is worse than ever. . Even for more now they have removed the option to adjust vibration intensity  like soft , medium to hi tapping on the screen. So there is no way to adjust haptic feedback strength. All you have to stuck with default and it\'s seriously annoying.\\n\\n", "\\n\\n  Overall, I am pleased with this phone, however, the description of it as an \\"International version\\" is not very precise. If you want to know exactly what version it is, the \\"About phone\\" menu says the MIUI version isVersion: V11.0.4.0.QJZEUXM (MIUI11)According to the c.mi.com, this makes the phone a Redmi Note 9 Pro EEA.\\n\\n", "\\n\\n  I bought Xiaomi Redmi note 9 and Xiaomi Redmi Note 9 pro 2 phones, as a tablet, they are great, with large capacity batteries, fast processor is very comfortable to use. As a phone, completely unqualified. I USE T-Mobile network, I used to  have normal phone signals at home, but  this phone reception signal was very weak in my home .Many times I cannot make and receive calls at home. When the phone is connected, it is often intermittent. sometimes the call is automatically interrupted.  What I want is a phone, not a tablet.\\n\\n", "\\n\\n  The phone is a very good value for the money and punches well above its price point, but in some ways, you get what you pay for.The good: Great battery life, large screen, good cameras, smooth UI, very quick.The bad: The screen could be better, it\'s slightly dark and the colors don\'t quite pop like on true flagship phones. By far the biggest issue though is the frequent wifi outages. Sometimes wifi shows connected, sometimes disconnected, but I can expect wifi to stop working every 30 minutes or so. It happens across all wifi networks, factory reset didn\'t fix it, updated miui didn\'t fix it either. If you don\'t have unlimited data, beware.\\n\\n", "\\n\\n  I originally bought a xiaomi phone in January 2018 to replace my non-uogradeable Blu Pure XL. Xioami phone was light-years better. Unfortunately a shattered screen meant having to buy a new phone. I went with xiaomi Note 9 pro  global (US edition only it seems was available). It is a sad comparison to my old xiaomi. The one gesture I relied on most was the  native phone recording which made crystal clear  recordings of the conversation automatically. This feature is not available in the US version, apparently the is to Google and what I assume a  lobbying campaign to stifle their Chinese competition. Further evidence  to indicate this is that xiaomi phone users were left with Google.srticlrs to install Google\'s \\"native\\" call support which really only activates the sound recorder and catches only YOUR voice with a faint whisper  of the caller you can barely hear as the recorder is in the mouth piece and tries to hear the caller which is heard through the ear piece of the phone, the same failed recording option I had on my Blu Pure Xl. Also, the camera which hails as being better than my previous Xiaomi phone isn\'t. Save your money, just buy a comparable low end American phone.\\n\\n", "\\n\\n  The Redmi Note 9 Pro was a decent phone in other respects (before I had to return it), but save your time trying to enable Wifi calling--the option is absent from the settings, where you\'d find it on other Android phones.  I found a roundabout way to check that VoWifi was enabled, but apparently this is different from T-Mobile\'s Wifi Calling (at least in the U.S.?). The T-Mobile tech staff was unable to help. I\'ve read that this phone\'s VoWifi works with some international carriers--Jio and AirTel.  Considering this is advertised as an unlocked, T-Mobile compatible phone, it should be made clear that Wifi calling through T-Mobile in the U.S. doesn\'t work.\\n\\n", "\\n\\n  It\'s work alright, but don\'t meet my expectations. The screen kind of hurt my eye when i use it longer, And its too big! My finger can\'t control whole screen when i play Moba game. System is way more better than my old android phone, but it get stuck once in first 3 days.Update:After I Start Return. It Took 2 Weeks To Get Part Of Money Back . Around $50 Short From Original Price. Will Give 0 Star If I Can. The Screen Getting Bad And They Steal Your $50 For That, Terrible.\\n\\n", "\\n\\n  I absolutely love this phone. Where do I start? It has specs which rival the flagship models of any brand out there, including the Samsung Note 20+ (although it has very little in common with the Note series - no stylus for one - so the name is misleading). 6 gigs of RAM, Octacore processor, a 64mb (!!!) quad lens camera that shoots beautiful, high resolution photos, 2 sim card slots, expandable memory via a MicroSD card slot, a huge, nearly bezel-less/infinity screen (not curved like the Note or S series but that didn\'t bother me, despite being a Samsung geek for the last ten years), and a HUGE 5000mAh battery (I can wake up with a full charge and wring this things neck all day - browsing the web, watching YouTube, watching a movie or 2 on Prime or Netflix, doing whatever else constitutes being \\"glued to your phone all day\\"... By the time the day is through I will typically have 20-30% of battery life remaining whereas my Note8 (3000mAh) required being on the charger several times throughout. As expected due to the impressive specs the phone is extremely fast.. It reboots completely in seconds, there\'s no noticeable lag when opening / closing apps (including apps that tax the RAM and processor such as HD games, video players etc) as well as when multiple apps are running in the background.There aren\'t many cons and none are deal breakers, espec at this price, but it\'s worth mentioning that the phone is very heavy and the back is *somewhat* bulky. It\'s possible I\'ve just been spoiled by the all glass construction of the later Samsung Note models, for all I know it\'s weight and bulk is consistent with the flagship models of most other brands. I only mention the weight and bulk *relative to the Note 8 I\'ve been using for 3 years*.. After a week of using it I am not bothered by either.TL;DR - This is a powerful device that can go toe to toe with any other brand\'s flagship  for only $240. The camera, screen, and battery life are second to none. It\'s doubtful that you\'ll find it\'s equal for under $800, and it absolutely destroys anything in it\'s price point. But don\'t buy it because it\'s \\"cheap\\", buy it because it\'s a fantastic device and an incredible value.\\n\\n", "\\n\\n  Not sure why but Amazon links will sometimes open in google browser and sometimes open in the app. not only that, the amazon app will always give me an error saying \\"oops, something went wrong\\"\\n\\n", "\\n\\n  Upgrading from a Xiaomi Mi A1 and this has so many features.  Not a fan of stock apps so I debloated (google it) and everything is running smoothly.  The camera is so versatile!  The video stabilization is great, zoom looks awesome until about 5x but can actually go out to 0.6x which is awesome for those wide scenic views.  The macro camera is very cool, and the phone supports GCam so you can get time lapse and photo spheres as well.  My only gripe is the stock apps but they were easy to remove.  Great value for the price, 4G working great on Lycamobile (Tmobile MVNO).\\n\\n", "\\n\\n  Worth every penny. You can\'t expect the experience like samsung or Apple  from a 250 bucks phone. But at this price you won\'t be disappointed too. Although it is equipped with an IPS lcd display honestly i found it as equal to an amoled panels. Camera is fantastic needs some improvement though by software update. Battery life is tooooooo loooooong. Lasts for 3days of Moderate usage.Cons: speaker is like a joke. It sounds like a cheap Chinese radio.The most important thing i\'d like to mention that xiaomi said now they have a new improved vibration motor for better haptic feedback but  on that one is worse than ever. . Even for more now they have removed the option to adjust vibration intensity  like soft , medium to hi tapping on the screen. So there is no way to adjust haptic feedback strength. All you have to stuck with default and it\'s seriously annoying.\\n\\n", "\\n\\n  Overall, I am pleased with this phone, however, the description of it as an \\"International version\\" is not very precise. If you want to know exactly what version it is, the \\"About phone\\" menu says the MIUI version isVersion: V11.0.4.0.QJZEUXM (MIUI11)According to the c.mi.com, this makes the phone a Redmi Note 9 Pro EEA.\\n\\n", "\\n\\n  I bought Xiaomi Redmi note 9 and Xiaomi Redmi Note 9 pro 2 phones, as a tablet, they are great, with large capacity batteries, fast processor is very comfortable to use. As a phone, completely unqualified. I USE T-Mobile network, I used to  have normal phone signals at home, but  this phone reception signal was very weak in my home .Many times I cannot make and receive calls at home. When the phone is connected, it is often intermittent. sometimes the call is automatically interrupted.  What I want is a phone, not a tablet.\\n\\n", "\\n\\n  The phone is a very good value for the money and punches well above its price point, but in some ways, you get what you pay for.The good: Great battery life, large screen, good cameras, smooth UI, very quick.The bad: The screen could be better, it\'s slightly dark and the colors don\'t quite pop like on true flagship phones. By far the biggest issue though is the frequent wifi outages. Sometimes wifi shows connected, sometimes disconnected, but I can expect wifi to stop working every 30 minutes or so. It happens across all wifi networks, factory reset didn\'t fix it, updated miui didn\'t fix it either. If you don\'t have unlimited data, beware.\\n\\n", "\\n\\n  I originally bought a xiaomi phone in January 2018 to replace my non-uogradeable Blu Pure XL. Xioami phone was light-years better. Unfortunately a shattered screen meant having to buy a new phone. I went with xiaomi Note 9 pro  global (US edition only it seems was available). It is a sad comparison to my old xiaomi. The one gesture I relied on most was the  native phone recording which made crystal clear  recordings of the conversation automatically. This feature is not available in the US version, apparently the is to Google and what I assume a  lobbying campaign to stifle their Chinese competition. Further evidence  to indicate this is that xiaomi phone users were left with Google.srticlrs to install Google\'s \\"native\\" call support which really only activates the sound recorder and catches only YOUR voice with a faint whisper  of the caller you can barely hear as the recorder is in the mouth piece and tries to hear the caller which is heard through the ear piece of the phone, the same failed recording option I had on my Blu Pure Xl. Also, the camera which hails as being better than my previous Xiaomi phone isn\'t. Save your money, just buy a comparable low end American phone.\\n\\n", "\\n\\n  The Redmi Note 9 Pro was a decent phone in other respects (before I had to return it), but save your time trying to enable Wifi calling--the option is absent from the settings, where you\'d find it on other Android phones.  I found a roundabout way to check that VoWifi was enabled, but apparently this is different from T-Mobile\'s Wifi Calling (at least in the U.S.?). The T-Mobile tech staff was unable to help. I\'ve read that this phone\'s VoWifi works with some international carriers--Jio and AirTel.  Considering this is advertised as an unlocked, T-Mobile compatible phone, it should be made clear that Wifi calling through T-Mobile in the U.S. doesn\'t work.\\n\\n", "\\n\\n  It\'s work alright, but don\'t meet my expectations. The screen kind of hurt my eye when i use it longer, And its too big! My finger can\'t control whole screen when i play Moba game. System is way more better than my old android phone, but it get stuck once in first 3 days.Update:After I Start Return. It Took 2 Weeks To Get Part Of Money Back . Around $50 Short From Original Price. Will Give 0 Star If I Can. The Screen Getting Bad And They Steal Your $50 For That, Terrible.\\n\\n", "\\n\\n  I absolutely love this phone. Where do I start? It has specs which rival the flagship models of any brand out there, including the Samsung Note 20+ (although it has very little in common with the Note series - no stylus for one - so the name is misleading). 6 gigs of RAM, Octacore processor, a 64mb (!!!) quad lens camera that shoots beautiful, high resolution photos, 2 sim card slots, expandable memory via a MicroSD card slot, a huge, nearly bezel-less/infinity screen (not curved like the Note or S series but that didn\'t bother me, despite being a Samsung geek for the last ten years), and a HUGE 5000mAh battery (I can wake up with a full charge and wring this things neck all day - browsing the web, watching YouTube, watching a movie or 2 on Prime or Netflix, doing whatever else constitutes being \\"glued to your phone all day\\"... By the time the day is through I will typically have 20-30% of battery life remaining whereas my Note8 (3000mAh) required being on the charger several times throughout. As expected due to the impressive specs the phone is extremely fast.. It reboots completely in seconds, there\'s no noticeable lag when opening / closing apps (including apps that tax the RAM and processor such as HD games, video players etc) as well as when multiple apps are running in the background.There aren\'t many cons and none are deal breakers, espec at this price, but it\'s worth mentioning that the phone is very heavy and the back is *somewhat* bulky. It\'s possible I\'ve just been spoiled by the all glass construction of the later Samsung Note models, for all I know it\'s weight and bulk is consistent with the flagship models of most other brands. I only mention the weight and bulk *relative to the Note 8 I\'ve been using for 3 years*.. After a week of using it I am not bothered by either.TL;DR - This is a powerful device that can go toe to toe with any other brand\'s flagship  for only $240. The camera, screen, and battery life are second to none. It\'s doubtful that you\'ll find it\'s equal for under $800, and it absolutely destroys anything in it\'s price point. But don\'t buy it because it\'s \\"cheap\\", buy it because it\'s a fantastic device and an incredible value.\\n\\n", "\\n\\n  Not sure why but Amazon links will sometimes open in google browser and sometimes open in the app. not only that, the amazon app will always give me an error saying \\"oops, something went wrong\\"\\n\\n", "\\n\\n  Upgrading from a Xiaomi Mi A1 and this has so many features.  Not a fan of stock apps so I debloated (google it) and everything is running smoothly.  The camera is so versatile!  The video stabilization is great, zoom looks awesome until about 5x but can actually go out to 0.6x which is awesome for those wide scenic views.  The macro camera is very cool, and the phone supports GCam so you can get time lapse and photo spheres as well.  My only gripe is the stock apps but they were easy to remove.  Great value for the price, 4G working great on Lycamobile (Tmobile MVNO).\\n\\n", "\\n\\n  This is my third Xiaomi device, screen quality is good, the audio is okay for the price, the size is perfect and fits correctly in the hand cuz the grip is perfect, 2 day battery for medium usage, from time to time you wil notice little lags because of MIUI, but it will be just fine with an upcoming update o simply MIUI 12, great 64mp camera, quick fingerprint reader, good build quality.  Overall, this phone is a beast and if you are looking for a cheap device you shouldnt think it twice, Xiaomi have everything any 300-400 dlls phone has, its my third device and xiaomi continue to amaze me!!!\\n\\n", "\\n\\n  Got the phone just fine, it\'s legit. The only problem was that it was international charging cube. It\'s great that they included the additional charging block for US outlets. Mine doesn\'t quite fit into the outlet, maybe it\'s just our apt outlets. Just so you know what to expect from buying the Xiaomi phone. This is my second Xiaomi phone to own and I love it.\\n\\n", "\\n\\n  I\'m very impressed with the phone so far, and here are some of the pros and cons.Pros:- very fast phone, it has a snapdragon 720g which is a very good chip for the price- good camera with portrait and night mode- super fast charger! This literally charges from 0 to 100% in under 30 minutes!- Huge battery, it can last for 2 days under moderate use- MIUI: it\'s one of the best Android skins out there- The fastest fingerprint reader on any phone- NFC: it\'s a handy feature if you wanna pay using your phoneCons:- Doesn\'t support many LTE frequencies used by carriers in the U.S, my T-Mobile 4G is stupid on this phone, plus it doesn\'t support wifi calling/messaging- LCD display: although the resolution is 1080p but the color accuracy on this display is mediocre, OLED is much better- Bloated: when I first started the phone, I was surprised by the number of apps that were pre installed, they took a lot of space, I ended up deleting most of them\\n\\n", "\\n\\n  You will absolutely hate this trash. Go to Wal-Mart and buy a $50 lg prepaid phone and stick your sim card in there.ive never seen any device, no matter what the cost, have worse cellular reception than this phone. I\'m currently using the hotspot feature on Walmart phone just to write this review on my Xiaomi because the screen is bigger. In addition to bluetooth volume issues that only seem to get worse with time, that they have supplied no fix in an update for. I downloaded a volume booster app, because it solves an issue that Xiaomi is apparently incapable of solving.\\n\\n", "\\n\\n  I\'m so happy with this purchase.  I bought this phone for my 12 year old daughter. In the box we found a clear cover, pin for open the sim card thing and a charger( no external memory card). Camera front and back is awesome, planty of space for games and really fast memory ram. Here in FL we had to call Metro by T-mobile and pay 20 buck\'s to use the sim card, but everything works perfect so far. So she is very happy with the new phone. And so far so good.\\n\\n", "\\n\\n  Coming from a Google Pixel 2XLLove the phoneAll the software quirks that I\'ve run into have been resolved with some research and settings change.Audio from the bottom fire speaker is good imo.Camera is ok.Screen is good in all light conditions.Performance is greatBattery is awesome!Good bang for your buck!\\n\\n", "\\n\\n  Revised.  Returned phone because certain apps I needed did not work.  The phone would cut off when using a particular app I need.  Do not have these issues with my present phone.Received it days earlier.  It is the most beautiful phone I have ever seen.  Researched this phone adneauseum.  Will revise this review after using it for a week.  Great expectations.\\n\\n", "\\n\\n  Once it\'s rooted and debloated, this phone becomes fantastic! Really good out of the box though.\\n\\n", "\\n\\n  So this was my very first Xiaomi Device and in all a bad experience, nothing to do with Xiaomi, but the retainer of the device.  This device NEVER should have been listed for sale on Amazon  US Website\\n\\n", "\\n\\n  Esta muy bien. Solo el sistema se cuelga con WhatsApp. Espec\\u00edficamente cuando estamos recibiendo un audio. Me encant\\u00f3 la opci\\u00f3n que puedo usarlo como control remoto oara la tv\\n\\n", "\\n\\n  This is my third Xiaomi device, screen quality is good, the audio is okay for the price, the size is perfect and fits correctly in the hand cuz the grip is perfect, 2 day battery for medium usage, from time to time you wil notice little lags because of MIUI, but it will be just fine with an upcoming update o simply MIUI 12, great 64mp camera, quick fingerprint reader, good build quality.  Overall, this phone is a beast and if you are looking for a cheap device you shouldnt think it twice, Xiaomi have everything any 300-400 dlls phone has, its my third device and xiaomi continue to amaze me!!!\\n\\n", "\\n\\n  Got the phone just fine, it\'s legit. The only problem was that it was international charging cube. It\'s great that they included the additional charging block for US outlets. Mine doesn\'t quite fit into the outlet, maybe it\'s just our apt outlets. Just so you know what to expect from buying the Xiaomi phone. This is my second Xiaomi phone to own and I love it.\\n\\n", "\\n\\n  I\'m very impressed with the phone so far, and here are some of the pros and cons.Pros:- very fast phone, it has a snapdragon 720g which is a very good chip for the price- good camera with portrait and night mode- super fast charger! This literally charges from 0 to 100% in under 30 minutes!- Huge battery, it can last for 2 days under moderate use- MIUI: it\'s one of the best Android skins out there- The fastest fingerprint reader on any phone- NFC: it\'s a handy feature if you wanna pay using your phoneCons:- Doesn\'t support many LTE frequencies used by carriers in the U.S, my T-Mobile 4G is stupid on this phone, plus it doesn\'t support wifi calling/messaging- LCD display: although the resolution is 1080p but the color accuracy on this display is mediocre, OLED is much better- Bloated: when I first started the phone, I was surprised by the number of apps that were pre installed, they took a lot of space, I ended up deleting most of them\\n\\n", "\\n\\n  You will absolutely hate this trash. Go to Wal-Mart and buy a $50 lg prepaid phone and stick your sim card in there.ive never seen any device, no matter what the cost, have worse cellular reception than this phone. I\'m currently using the hotspot feature on Walmart phone just to write this review on my Xiaomi because the screen is bigger. In addition to bluetooth volume issues that only seem to get worse with time, that they have supplied no fix in an update for. I downloaded a volume booster app, because it solves an issue that Xiaomi is apparently incapable of solving.\\n\\n", "\\n\\n  I\'m so happy with this purchase.  I bought this phone for my 12 year old daughter. In the box we found a clear cover, pin for open the sim card thing and a charger( no external memory card). Camera front and back is awesome, planty of space for games and really fast memory ram. Here in FL we had to call Metro by T-mobile and pay 20 buck\'s to use the sim card, but everything works perfect so far. So she is very happy with the new phone. And so far so good.\\n\\n", "\\n\\n  Coming from a Google Pixel 2XLLove the phoneAll the software quirks that I\'ve run into have been resolved with some research and settings change.Audio from the bottom fire speaker is good imo.Camera is ok.Screen is good in all light conditions.Performance is greatBattery is awesome!Good bang for your buck!\\n\\n", "\\n\\n  Revised.  Returned phone because certain apps I needed did not work.  The phone would cut off when using a particular app I need.  Do not have these issues with my present phone.Received it days earlier.  It is the most beautiful phone I have ever seen.  Researched this phone adneauseum.  Will revise this review after using it for a week.  Great expectations.\\n\\n", "\\n\\n  Once it\'s rooted and debloated, this phone becomes fantastic! Really good out of the box though.\\n\\n", "\\n\\n  So this was my very first Xiaomi Device and in all a bad experience, nothing to do with Xiaomi, but the retainer of the device.  This device NEVER should have been listed for sale on Amazon  US Website\\n\\n", "\\n\\n  Esta muy bien. Solo el sistema se cuelga con WhatsApp. Espec\\u00edficamente cuando estamos recibiendo un audio. Me encant\\u00f3 la opci\\u00f3n que puedo usarlo como control remoto oara la tv\\n\\n", "\\n\\n  I am impressed with this phone, although I was happy with my Huawei Mate SE, I decided to give the Redmi Note 8 Pro a shot, and it does not disappoint. For the price, you can\'t beat it.Just popped in my sim card from straight talk, and it works like a champ. It does switch from LTE to regular 4G when on mobile data for a voice call. Other than that, no issues.The camera is excellent, considering I don\'t take many photos, but it gets the job done.You don\'t need to pony up in excess of $1, 000 for a phone.\\n\\n", "\\n\\n  God, this is an amazing phone.  It was cheaper than my Moto G7 power by 20 bucks but there is really no comparison. I loved my G7 but this is next level on everything. Better screen,faster fingerprint reader, better camera and more cameras. Does everything seamlessly. Plus you get an IR blaster, and an update to android 10. The only thing I could say was better on the G7 was the battery life. The 8 pro still has great battery life almost equal to the G7, and don\'t believe anyone that reviews  it says it heats up, mine has stayed completely cool. I had a Xiaomi before, but this is a different ballgame. The other phone was a great phone too till I dropped it in the dog\'s water bowl. This one is water resistant, so hopefully if it happens again I won\'t have to buy a new phone. If you buy this phone you definitely won\'t be disappointed.\\n\\n", "\\n\\n  Hasta el momento todo genial, la bater\\u00eda me dura 3 d\\u00edas con uso b\\u00e1sico normal, la pantalla genial, carga las aplicaciones r\\u00e1pidamente, he jugado algunos juegos b\\u00e1sicos y ha respondido perfectamente sin retrasos ni atorones, la c\\u00e1mara macro es FATAL, HORRIBLE, pr\\u00e1cticamente es de adorno, salen much\\u00edsimo mejor las fotos con la c\\u00e1mara normal acercando el tel\\u00e9fono a lo que quieres fotografiar, los videos son buenos, pero con bastante ruido ya en la tarde aunque no sea noche, pero viniendo de un tel\\u00e9fono con algunos a\\u00f1os de antig\\u00fcedad, todo es una mejora en mi experiencia de uso.\\n\\n", "\\n\\n  So far so good.Very fast, large screen, great graphic quality, beautiful color, delivered immediately.Very easy set up, I switched my sim card from the old phone to this one, then was able to transfer the data from my old phone to the new phone through Google app.I haven\'t had much time to play with it yet, so I cannot give a very accurate tech review. I will update in a week or two.Comes with an adapter for the charger.Sent with a case to protect the phone.Bought the extended storage, but have yet to need it. Review on that pending.\\n\\n", "\\n\\n  Me encanta es un celular grande y muy bonito,r\\u00e1pido y en mi pa\\u00eds CR la se\\u00f1al sin problemas hasta  el momento.Actualizaci\\u00f3n. El celular sigue sin dar problemas tengo m\\u00e1s de 1 mes de tenerlo funciona muy bien pero un poco molesto por la calidad del materian, lo tengo desde que lo compre con estuche y el tel\\u00e9fono se rayo en los bordes sin ninguna raz\\u00f3n es como si no tuviera estuche un poco desepcionado por el materia, se supone que no deber\\u00eda rayarse tan f\\u00e1cilmente.\\n\\n", "\\n\\n  I purchased because friend recommendation but service interruptions, dropped calls and no service, makes the phone unusable.  It is an impressive piece of equipment but cannot live with that much problems.  I did asked Metro PCS if unit would work and was told, as long it is unlock, BS it does not work.  Providers have you control with individual service and make it impossible to connect properly.  Will purchase a phone from them, to avoid hassles.  Unbridle capitalism and monopolies, we all pay for it. .\\n\\n", "\\n\\n  I like the phone itself  what I don\'t like is. Didn\'t do enough research it is very slow in connecting to a WIFI let\'s say like Panera bread and the other one is the speaker is at the (BOTTOM) not the TOP  of the phone not in your ear I sometimes have a hard time hearing I point the phone  towards  me it\'s kinda weird the screen is nice and Brite the redmi is fast in responding\\n\\n", "\\n\\n  I purchased this phone (Xiaomi Redmi Note 8 Pro)for a trip from the US to Tanzania, once i got there i went straight to the celluar service provider was hooked up in minutes but the best part is the pictures are EXCELLENT, even the tour guide wanted to use the phone for pics rather than use a camera! Will be going to metro to begin using this phone here in the US rather than the phone I have had for years.\\n\\n", "\\n\\n  I absolutely love love love this phone! I just returned my Samsung S20 FE with no regrets.Receiving LTE bands on the Space Coast of FL.\\n\\n", "\\n\\n  This was purchased for my youngest She had a galaxy s7 edge. Price power and reliability for such a cheap price!!!Xiaomi might be my new brand soon as I just got her the phone and want to see how long it lasts.\\n\\n", "\\n\\n  I\\u2019ve had this phone for 3 days now and that is good enough to provide an initial impression.In summary, this is a great piece of tech available at a very reasonable price.  But let me elaborate so that people reading this review can form their own opinionsFirst, I will talk about the looks and the build quality  It is great, the back in particular is so good looking and it reflects light differently at various angles.  Both front and back come with gorilla glass 5 so that should be durable, the front looks very clean and neat.  If I have to find a fault, the only one I can think of is that the side rim is made out of plastic, it is not metal.  First of all, it\\u2019s not easy to notice it. Secondly, it shouldn\\u2019t cause much concern since the phone still appears to be very sturdy and premium.  Overall, good build quality for the price.Screen quality and brightness  The screen is IPS LCD so obviously it doesn\\u2019t have the deep blacks like an AMOLED screen.  It doesn\\u2019t even have the kind of contrast that AMOLES has.  But, overall it is still a very high quality screen.  For comparison, I used iPhone XR which has an IPS LCD display and it matches or actually slightly beats it in my opinion.  Outdoor visibility is also very good because it has more than decent brightness.  So again, for the price, this is good.Software and Performance  It comes with a Android version 9 out of the box and it installs a security update immediately after booting up for the first time.  Yes Android 10 is out now and we should ideally have that.  Hopefully, we would get Android 10 on this phone soon through Mi UI new version.  But none of this takes away the software experience.  It is good, it is smooth and nice.  So far I haven\\u2019t experienced any slowness or lags.  It is doing a good job.  I installed poco installer which has been very helpful as it is better than Mi UI and has an app drawer which Mi UI doesn\\u2019t.Performance is also good, it comes with a dedicated game mode that you can use to bump up the performance while playing games.  Overall, very snappy and can play performance intensive games like subway surfers and asphalt easily.  People have complained it heats up. I have noticed even iPhones heating up when you play such games so it\\u2019s not really a concernCameras  It comes with 4 different cameras at the back with the primary one being 64 MP.  I haven\\u2019t used the cameras as much yet but have been able to try portrait mode, regular mode, 64 MP mode, wide angle mode and night time photography.  You can say that it is not at par with google or iPhone or Samsung phones but again for the price it is quite good.  Especially the wide angle camera has a nice field of view which allows it to take some great photos.  I just snapped a picture of 40 people standing in a group from up close using wide angle camera and it came out very nice.  For night time, the camera takes some time to take a snap as it is gathering as much light as possible to bring out a nice photo.  So overall it is very good. Happy with the pictures so far.  I have iPhone XS Max and it doesn\\u2019t have wide angle and night mode so getting those capabilities here has been good.  Also, the portrait mode is good and it produces good quality images with good blur effect and reasonably good edge detection.  Regarding the selfie camera, the performance  seemed ok, not great. It gives a bit of an artificial effect which is not preferred.  But that\\u2019s the only issue I have been able to find so farConnectivity to network  I have T-mobile and this phone works flawlessly on this network. Upload / download speed are very good.  On WiFi you it works very well.Battery and charging speedIt comes with a monster 4500 mAmp battery and damn it is good.  I have already reached screen on time of almost 6 hours and have more than 20% left.  I have done everything, played heavy games, watched a lot of YouTube videos, made phone calls, sent messages, browsed web.  You get an 18W charger in the box but I haven\\u2019t been able to use it as it\\u2019s not a North American charger.  I used another 27W charger that came with the Essential phone and charging speed is excellent.Other additions  There are a few other things that this phone brings in which possibly other phones don\\u2019t .  IR blaster, I used it and it works flawlessly on Samsung TVs.  It also has micro SD expansion slot which I intend to use very soon with fast storage and retrieval.  It comes with a case which is good and you don\\u2019t need to buy it separately before the phone arrives.And lastly it comes with a 3.5 mm headphone jack which is also great. Hardly any phones come ms with this now  a days.Overall very happy with the way this phone is shaping up, until nowPlease see some pictures of the phone for better insights\\n\\n", "\\n\\n  I upgraded to this phone from a 4 year old mid level phone.  My biggest issue with that one was battery life, so that was a big consideration for me in my new device.  After doing a bunch of searching here on Amazon for an unlocked device, I found this one to have the best combination of cost to feature, after doing plenty of research on the processor.I\'ve had the unit for a little over a month now, and I can say I am very pleased with the performance and battery life on this phone.  I am not a heavy user of my cell phone as my main media consumption device, and with my personal average use, a 100% charge will last me up to 3 days.  My previous phone was a daily charger.The size of the screen is great, even if it doesn\'t have the best brightness or contrast, for most people it\'s going to be good enough.  Same with the camera setup, while not absolutely the best thing ever, it is excellent and takes very clear shots.  The speaker is loud enough for normal use, and the other audio options (Bluetooth and Headphone Jack) have good output as well.  The interface is fast, and feels snappy under normal use.I am is the US on the AT&T network, and had no issues setting up the phone with the micro sim from my previous phone, and didn\'t have to do anything special to get the unit setup and working.  There is some bloatware on the phone that you can\'t remove, but you can ignore, which I would suggest.  I would recommend this device to anyone that doesn\'t \'need\' a flagship or apple device.\\n\\n", "\\n\\n  There was nothing good about this phone.The Android was completely modified to a point where you can no longer control your device. This phone is filled with bloatware that prevents you from doing centain things and you can\'t remove any of the bloatware apps, which you have to use.If you want to unlock or enable USB app installation because you are a developer then good luck. You will have to create an account with Xiaomi then register your sim card using your mobile data and have GPS on so they can find your home location. This sounds very sketchy and illegal. They\'re definitely something\'s going on with this phone manufacturer. Anytime you want to get the direct system log access it makes you go through bunch of hoops as if they are hiding something.If you are a long time Android user then stay away from Xiaomi phones. After 2019 they completely changed the whole Android OS system in to a black box that logs your activity.If you want to unlock your phone then good luck. Even with creating an account and going through all the steps you still won\'t be able to unlock your phone. And the worst part is the phone makes you wait 7 days every time you fail to try again. A lot has changed with this company to  point it is no longer the company you once know. I was able unlock OnePlus 3, 5T, 7T, Google pixel 2, Asus Zen Phone etc.. but not this phone.\\n\\n", "\\n\\n  Everything checks out. The IMEI # is legit. Got here a full week before the arrival date unscratched and gorgeous. If you\'re from Puerto Rico and you\'re wondering if it works with Claro, it does. Provided you get the international version. This phone is utterly gorgeous. I love it. + No forced bloatware. Witch is awesome. The only bummer is that it came with the European charging brick. Not the U.S. one. But I honestly don\'t care that much about that last part since I have other charging bricks. The phone is great. Get it if you can . The pics I posted i took with the camera of the phone.\\n\\n", "\\n\\n  This phone is a beast! I cannot believe the price because I can match this up against my daughter\'s brand new Samsung feature for feature.Came beautifully packaged and ready to go right out of the box. I took the card out of my old phone and popped it in and it was ready to go.If you\'re on the fence do not hesitate. It is a beautiful phone and works like the most high-end brand.I love it!!!\\n\\n", "\\n\\n  Wish I could give this zero stars.I was so excited upon receiving this phone as it\'s such a good deal and seemed really good quality.A few days after good use, the phone started malfunctioning. It started freezing, and then shutting itself off saying \\"this device is corrupted.\\"And then turning itself back on and then freezing again and then repeating the process etc, over and over again.I\'m so annoyed, now I won\'t have a phone for another week.Unfortunately, this phone is a piece of garbage.\\n\\n", "\\n\\n  This cell phone is the best I have ever had in my life. I used to have Samsung cell phone before years ago so as other brand name phones I\'ve got from T-Mobile and these worked exactly for a year and were not usable right when the warranty was expiring.I got tired of this and bought my first  off-brand cell phone - ZTE ZMAX - it was a great phone for 2015, much better than Samsung I had prior to it for the fraction of the cost! It worked for 2 years until the battery got fully discharged and I wasn\'t able to charge it ever again. I then bought Huawei Honor 6x and had it for 3 years. It worked just fine until it started acting with major delays, so I knew it was time to get a new phone.After multiple hours of research I decided to go with Remi Note 8. Thanks to \\"frequency check\\" site I knew I had to get a Global version. I highly recommend to check the phone model and your provider to see how many bands will be supported. I have T-Mobile and any International Version of this phone wasn\'t working for T-Mobile LTE.Unfortunately Amazon didn\'t have any Global versions of Redmi Note 8 in stock, so I wend with less memory and Redmi Not 8 Pro. It looks like I overpaid a little because overall prices were high (I blame coronavirus for that lol), but let me tell you - I didn\'t regret my decision even once because Redmi Note 8 Pro is AMAZING!It feels great - solid, nice, works smooth! I just love it.It takes great pictures. Not as great (real looking) as my Canon Mark II takes, but much better than other phones. Selfies are also great.  The connection is the same as I had with Honor 6x (which supported more LTE bands by the way). I experienced a lost of connection while driving on Interstate as well as in multiple story office building, but it didn\'t bother me as it happened few times really.The screen feels great to touch. The colors are amazing. Fingerprint scanner on the back of the phone works like a charm. Face recognition feature also works great. Fast browser. Battery life is also great, but my old Honor 6x was giving me full day of usage on one charge. I understand this phone is a huge upgrade from Honor 6x overall because it\'s been 3 years between these phones which is a huge time frame in technical world, but Redmi Note 9 Pro amazes me every day and I am not even using it to full capacity.I\'ve got 64 gb one as the price difference for about $45 between this and 128 gb didn\'t do it for me. I am getting extra memory card which will last me for the duration of this phone\'s life. After all my old Honor 6x had 32 gb and 64 gm external card and I still was good on memory after 3 years on regular usage.My only doubt is the color. I\'ve got it in forest green and it\'s beautiful, but I wanted it in white. Unfortunately the description for white didn\'t indicate it\'s a Global version so I wend with green. It still looks pretty cool! Included silicone cover is a bonus. My charger came without US adapter, so I ended up buying 2 for around $5 and now have capability of charging my phone super fast.If you still thinking of buying it... considering newer Redmi Note is about to be announced, don\'t waste time - this phone is pretty amazing! Hoping it will last for few years.\\n\\n", "\\n\\n  Great phone for the price. At first I bought an Umidigi budget phone but that did not adequately meet my needs so it was returned. This phone has everything I need for the price. The only thing I took a star off was because the charger is European version and I really expected the phone to already have a screen protector installed like most budget or overseas unlocked phone. The one I got did not, and I don\'t really feel like having to dish another $10 bucks or so to order a screen protector when the standard has been pre-installed on most or all phones like this. Maybe someone got lazy overseas and did not put one on but now I have to search for one on Amazon and hope that my screen will be okay in the meanwhile.The phone is fast, looks really amazing (I love the green color--I\'ve never seen this color before on cellphones), and the MIUI is actually not bad even without an app drawer. I do have the Prime Nova Launcher already purchased so eventually I will revert to that launcher but right now just checking out Redmi\'s MIUI for a feel of it. Right out of the box there was an update to 11 from 10 (I assume the MIUI update). It was a seemless update. So far the signal is good with TMobile for my area and multimedia like Netflix is really snappy and bright. The screen and ratio is good for videos. Haven\'t tried the camera yet as I am not really a camera person. Will use it eventually and update my review overall in a few weeks or so.\\n\\n", "\\n\\n  This phone is amazing for the price. The fingerprint reader is extremely snappy, scrolling is buttery smooth, and it\'s lightning fast. Not to mention it\'s a beautiful piece of tech. I got the green model. My service is with Cricket Wireless in rural Maryland and I\'m getting all 5 bars of 4G LTE. I\'m truly impressed by this phone and would recommend it to anyone looking for a $220 phone with $750 specs. I\'m a happy camper.Update: After a few weeks using this phone I must say that it gets more amazing every day. I keep finding features while exploring the settings. I wasn\'t expecting an app drawer but in the settings there is an app drawer option. I\'m still a happy camper.\\n\\n", "\\n\\n  First Chinese phone other than a flagship Samsung and iPhone in over 6 years. couldn\'t be happier with this Redmi Note 8 Pro. Feels sleek in my hands, easy to navigate, not a ton of bloat ware, and battery lasts over 24 hours in between charges at least for the week I\'ve had it.It\'s running Android 9.0 and has already received 1 system update which is nice moving forward. The camera is better than my old Samsung Galaxy 8 which is saying quite a bit.The DDR is 6gb which is less than the newest Galaxy 10 at 8gb, but this phone is blazing fast. Definitely gonna stick with xiachow for future phones\\n\\n", "\\n\\n  I\\u2019ve had this phone for 3 days now and that is good enough to provide an initial impression.In summary, this is a great piece of tech available at a very reasonable price.  But let me elaborate so that people reading this review can form their own opinionsFirst, I will talk about the looks and the build quality  It is great, the back in particular is so good looking and it reflects light differently at various angles.  Both front and back come with gorilla glass 5 so that should be durable, the front looks very clean and neat.  If I have to find a fault, the only one I can think of is that the side rim is made out of plastic, it is not metal.  First of all, it\\u2019s not easy to notice it. Secondly, it shouldn\\u2019t cause much concern since the phone still appears to be very sturdy and premium.  Overall, good build quality for the price.Screen quality and brightness  The screen is IPS LCD so obviously it doesn\\u2019t have the deep blacks like an AMOLED screen.  It doesn\\u2019t even have the kind of contrast that AMOLES has.  But, overall it is still a very high quality screen.  For comparison, I used iPhone XR which has an IPS LCD display and it matches or actually slightly beats it in my opinion.  Outdoor visibility is also very good because it has more than decent brightness.  So again, for the price, this is good.Software and Performance  It comes with a Android version 9 out of the box and it installs a security update immediately after booting up for the first time.  Yes Android 10 is out now and we should ideally have that.  Hopefully, we would get Android 10 on this phone soon through Mi UI new version.  But none of this takes away the software experience.  It is good, it is smooth and nice.  So far I haven\\u2019t experienced any slowness or lags.  It is doing a good job.  I installed poco installer which has been very helpful as it is better than Mi UI and has an app drawer which Mi UI doesn\\u2019t.Performance is also good, it comes with a dedicated game mode that you can use to bump up the performance while playing games.  Overall, very snappy and can play performance intensive games like subway surfers and asphalt easily.  People have complained it heats up. I have noticed even iPhones heating up when you play such games so it\\u2019s not really a concernCameras  It comes with 4 different cameras at the back with the primary one being 64 MP.  I haven\\u2019t used the cameras as much yet but have been able to try portrait mode, regular mode, 64 MP mode, wide angle mode and night time photography.  You can say that it is not at par with google or iPhone or Samsung phones but again for the price it is quite good.  Especially the wide angle camera has a nice field of view which allows it to take some great photos.  I just snapped a picture of 40 people standing in a group from up close using wide angle camera and it came out very nice.  For night time, the camera takes some time to take a snap as it is gathering as much light as possible to bring out a nice photo.  So overall it is very good. Happy with the pictures so far.  I have iPhone XS Max and it doesn\\u2019t have wide angle and night mode so getting those capabilities here has been good.  Also, the portrait mode is good and it produces good quality images with good blur effect and reasonably good edge detection.  Regarding the selfie camera, the performance  seemed ok, not great. It gives a bit of an artificial effect which is not preferred.  But that\\u2019s the only issue I have been able to find so farConnectivity to network  I have T-mobile and this phone works flawlessly on this network. Upload / download speed are very good.  On WiFi you it works very well.Battery and charging speedIt comes with a monster 4500 mAmp battery and damn it is good.  I have already reached screen on time of almost 6 hours and have more than 20% left.  I have done everything, played heavy games, watched a lot of YouTube videos, made phone calls, sent messages, browsed web.  You get an 18W charger in the box but I haven\\u2019t been able to use it as it\\u2019s not a North American charger.  I used another 27W charger that came with the Essential phone and charging speed is excellent.Other additions  There are a few other things that this phone brings in which possibly other phones don\\u2019t .  IR blaster, I used it and it works flawlessly on Samsung TVs.  It also has micro SD expansion slot which I intend to use very soon with fast storage and retrieval.  It comes with a case which is good and you don\\u2019t need to buy it separately before the phone arrives.And lastly it comes with a 3.5 mm headphone jack which is also great. Hardly any phones come ms with this now  a days.Overall very happy with the way this phone is shaping up, until nowPlease see some pictures of the phone for better insights\\n\\n", "\\n\\n  I upgraded to this phone from a 4 year old mid level phone.  My biggest issue with that one was battery life, so that was a big consideration for me in my new device.  After doing a bunch of searching here on Amazon for an unlocked device, I found this one to have the best combination of cost to feature, after doing plenty of research on the processor.I\'ve had the unit for a little over a month now, and I can say I am very pleased with the performance and battery life on this phone.  I am not a heavy user of my cell phone as my main media consumption device, and with my personal average use, a 100% charge will last me up to 3 days.  My previous phone was a daily charger.The size of the screen is great, even if it doesn\'t have the best brightness or contrast, for most people it\'s going to be good enough.  Same with the camera setup, while not absolutely the best thing ever, it is excellent and takes very clear shots.  The speaker is loud enough for normal use, and the other audio options (Bluetooth and Headphone Jack) have good output as well.  The interface is fast, and feels snappy under normal use.I am is the US on the AT&T network, and had no issues setting up the phone with the micro sim from my previous phone, and didn\'t have to do anything special to get the unit setup and working.  There is some bloatware on the phone that you can\'t remove, but you can ignore, which I would suggest.  I would recommend this device to anyone that doesn\'t \'need\' a flagship or apple device.\\n\\n", "\\n\\n  There was nothing good about this phone.The Android was completely modified to a point where you can no longer control your device. This phone is filled with bloatware that prevents you from doing centain things and you can\'t remove any of the bloatware apps, which you have to use.If you want to unlock or enable USB app installation because you are a developer then good luck. You will have to create an account with Xiaomi then register your sim card using your mobile data and have GPS on so they can find your home location. This sounds very sketchy and illegal. They\'re definitely something\'s going on with this phone manufacturer. Anytime you want to get the direct system log access it makes you go through bunch of hoops as if they are hiding something.If you are a long time Android user then stay away from Xiaomi phones. After 2019 they completely changed the whole Android OS system in to a black box that logs your activity.If you want to unlock your phone then good luck. Even with creating an account and going through all the steps you still won\'t be able to unlock your phone. And the worst part is the phone makes you wait 7 days every time you fail to try again. A lot has changed with this company to  point it is no longer the company you once know. I was able unlock OnePlus 3, 5T, 7T, Google pixel 2, Asus Zen Phone etc.. but not this phone.\\n\\n", "\\n\\n  Everything checks out. The IMEI # is legit. Got here a full week before the arrival date unscratched and gorgeous. If you\'re from Puerto Rico and you\'re wondering if it works with Claro, it does. Provided you get the international version. This phone is utterly gorgeous. I love it. + No forced bloatware. Witch is awesome. The only bummer is that it came with the European charging brick. Not the U.S. one. But I honestly don\'t care that much about that last part since I have other charging bricks. The phone is great. Get it if you can . The pics I posted i took with the camera of the phone.\\n\\n", "\\n\\n  This phone is a beast! I cannot believe the price because I can match this up against my daughter\'s brand new Samsung feature for feature.Came beautifully packaged and ready to go right out of the box. I took the card out of my old phone and popped it in and it was ready to go.If you\'re on the fence do not hesitate. It is a beautiful phone and works like the most high-end brand.I love it!!!\\n\\n", "\\n\\n  Wish I could give this zero stars.I was so excited upon receiving this phone as it\'s such a good deal and seemed really good quality.A few days after good use, the phone started malfunctioning. It started freezing, and then shutting itself off saying \\"this device is corrupted.\\"And then turning itself back on and then freezing again and then repeating the process etc, over and over again.I\'m so annoyed, now I won\'t have a phone for another week.Unfortunately, this phone is a piece of garbage.\\n\\n", "\\n\\n  This cell phone is the best I have ever had in my life. I used to have Samsung cell phone before years ago so as other brand name phones I\'ve got from T-Mobile and these worked exactly for a year and were not usable right when the warranty was expiring.I got tired of this and bought my first  off-brand cell phone - ZTE ZMAX - it was a great phone for 2015, much better than Samsung I had prior to it for the fraction of the cost! It worked for 2 years until the battery got fully discharged and I wasn\'t able to charge it ever again. I then bought Huawei Honor 6x and had it for 3 years. It worked just fine until it started acting with major delays, so I knew it was time to get a new phone.After multiple hours of research I decided to go with Remi Note 8. Thanks to \\"frequency check\\" site I knew I had to get a Global version. I highly recommend to check the phone model and your provider to see how many bands will be supported. I have T-Mobile and any International Version of this phone wasn\'t working for T-Mobile LTE.Unfortunately Amazon didn\'t have any Global versions of Redmi Note 8 in stock, so I wend with less memory and Redmi Not 8 Pro. It looks like I overpaid a little because overall prices were high (I blame coronavirus for that lol), but let me tell you - I didn\'t regret my decision even once because Redmi Note 8 Pro is AMAZING!It feels great - solid, nice, works smooth! I just love it.It takes great pictures. Not as great (real looking) as my Canon Mark II takes, but much better than other phones. Selfies are also great.  The connection is the same as I had with Honor 6x (which supported more LTE bands by the way). I experienced a lost of connection while driving on Interstate as well as in multiple story office building, but it didn\'t bother me as it happened few times really.The screen feels great to touch. The colors are amazing. Fingerprint scanner on the back of the phone works like a charm. Face recognition feature also works great. Fast browser. Battery life is also great, but my old Honor 6x was giving me full day of usage on one charge. I understand this phone is a huge upgrade from Honor 6x overall because it\'s been 3 years between these phones which is a huge time frame in technical world, but Redmi Note 9 Pro amazes me every day and I am not even using it to full capacity.I\'ve got 64 gb one as the price difference for about $45 between this and 128 gb didn\'t do it for me. I am getting extra memory card which will last me for the duration of this phone\'s life. After all my old Honor 6x had 32 gb and 64 gm external card and I still was good on memory after 3 years on regular usage.My only doubt is the color. I\'ve got it in forest green and it\'s beautiful, but I wanted it in white. Unfortunately the description for white didn\'t indicate it\'s a Global version so I wend with green. It still looks pretty cool! Included silicone cover is a bonus. My charger came without US adapter, so I ended up buying 2 for around $5 and now have capability of charging my phone super fast.If you still thinking of buying it... considering newer Redmi Note is about to be announced, don\'t waste time - this phone is pretty amazing! Hoping it will last for few years.\\n\\n", "\\n\\n  Great phone for the price. At first I bought an Umidigi budget phone but that did not adequately meet my needs so it was returned. This phone has everything I need for the price. The only thing I took a star off was because the charger is European version and I really expected the phone to already have a screen protector installed like most budget or overseas unlocked phone. The one I got did not, and I don\'t really feel like having to dish another $10 bucks or so to order a screen protector when the standard has been pre-installed on most or all phones like this. Maybe someone got lazy overseas and did not put one on but now I have to search for one on Amazon and hope that my screen will be okay in the meanwhile.The phone is fast, looks really amazing (I love the green color--I\'ve never seen this color before on cellphones), and the MIUI is actually not bad even without an app drawer. I do have the Prime Nova Launcher already purchased so eventually I will revert to that launcher but right now just checking out Redmi\'s MIUI for a feel of it. Right out of the box there was an update to 11 from 10 (I assume the MIUI update). It was a seemless update. So far the signal is good with TMobile for my area and multimedia like Netflix is really snappy and bright. The screen and ratio is good for videos. Haven\'t tried the camera yet as I am not really a camera person. Will use it eventually and update my review overall in a few weeks or so.\\n\\n", "\\n\\n  This phone is amazing for the price. The fingerprint reader is extremely snappy, scrolling is buttery smooth, and it\'s lightning fast. Not to mention it\'s a beautiful piece of tech. I got the green model. My service is with Cricket Wireless in rural Maryland and I\'m getting all 5 bars of 4G LTE. I\'m truly impressed by this phone and would recommend it to anyone looking for a $220 phone with $750 specs. I\'m a happy camper.Update: After a few weeks using this phone I must say that it gets more amazing every day. I keep finding features while exploring the settings. I wasn\'t expecting an app drawer but in the settings there is an app drawer option. I\'m still a happy camper.\\n\\n", "\\n\\n  First Chinese phone other than a flagship Samsung and iPhone in over 6 years. couldn\'t be happier with this Redmi Note 8 Pro. Feels sleek in my hands, easy to navigate, not a ton of bloat ware, and battery lasts over 24 hours in between charges at least for the week I\'ve had it.It\'s running Android 9.0 and has already received 1 system update which is nice moving forward. The camera is better than my old Samsung Galaxy 8 which is saying quite a bit.The DDR is 6gb which is less than the newest Galaxy 10 at 8gb, but this phone is blazing fast. Definitely gonna stick with xiachow for future phones\\n\\n", "\\n\\n  The phone can take a micro sd card and can read past a 200gb micro sd card the phone can recognize a terabyte microSD card (1tb)proof. Pic related. The specs are in the photos that I have posted. this phone company is one of the best phone companies on the market and their stocks are amazing. I have not had any problems with this phone at all and is better than Apple and Samsung combined. it is an octo-core, the phone currently sits at 6gb of ram and the hard drive it has on it is 120gb i think but it is better than their new version because the new version does not have the miceo SD card slot but THIS PHONE DOES.-VVK\\n\\n", "\\n\\n  So I bought the phone because of the reviews and cost. It worked well for about 3 weeks then I noticed it started to freeze a lot and would go blank. Sometimes my apps won\'t load or they crash. I had replaced my Samsung Galaxy S8 for this thinking it would have been a better choice. But I\'m very disappointed. The seller also made me aware that because it\'s over 30 days since I bought it they can\'t replace the device. So I\'m now stuck with it. It\'s a pity.\\n\\n", "\\n\\n  The cellphone is excellent. Great specs for the price, great build quality and so far hasn\'t failed at all. I\'m knocking one star off because I bought the bundle with the 128GB cellphone +  64GB Memory card and case, BUT THE MEMORY CARD DIDN\'T COME INCLUDED.  I paid and extra $30 for these accessories and it\'s a rip off that the memory card was missing. Only the case was included in the box.\\n\\n", "\\n\\n  Was unsure at first, buyin an off-brand phone. But after a while it was easy to to use. Definitely a learning curve from Samsung. But I can\'t deny the value in the phone. Especially the camera. Things I really like about it are the camera the fast charge. Things I don\'t really care for is that it\'s not to rugged or water-resistant. I live in the real world where there is water. All in all good value in a phone.\\n\\n", "\\n\\n  Great phones but did not get my complete order.  I ordered two for Christmas and was patient but didn\'t get a reply.The 64gb cards didn\'t come with the phones as advertised in the package I ordered\\n\\n", "\\n\\n  The phone was great when it worked but bricked two months after purchase, would no longer charge or power on, couldn\'t get it replaced because it was over 30 days and the manufacturer claimed to be unable to issue a warranty in the United States. Ultimately tried getting it repaired, still didn\'t work, now it\'s a paper weight. do not buy.\\n\\n", "\\n\\n  El dise\\u00f1o y la calidad nada m\\u00e1s en el cargador ah\\u00ed si no me gust\\u00f3 mucho esta rraro el cargador es mucho la dimensi\\u00f3n es muy grande incomodo al momento de cargar el celular deber\\u00edan hacer el cargador un poco m\\u00e1s peque\\u00f1o !\\n\\n", "\\n\\n  It was send it to Ecuador it work great there\\n\\n", "\\n\\n  Unfortunately I have to give this a 1 star simply because the phone doesn\'t work. Whenever using it after a few days the operating system begins to glitch and starts over and erasing everything.\\n\\n", "\\n\\n  The phone is amazing, it works perfect with Mint mobile, it is very fast, the camera is very good. Just it comes without earphones and it comes with an European charger. But for me this phone is incredible.\\n\\n", "\\n\\n  The phone can take a micro sd card and can read past a 200gb micro sd card the phone can recognize a terabyte microSD card (1tb)proof. Pic related. The specs are in the photos that I have posted. this phone company is one of the best phone companies on the market and their stocks are amazing. I have not had any problems with this phone at all and is better than Apple and Samsung combined. it is an octo-core, the phone currently sits at 6gb of ram and the hard drive it has on it is 120gb i think but it is better than their new version because the new version does not have the miceo SD card slot but THIS PHONE DOES.-VVK\\n\\n", "\\n\\n  So I bought the phone because of the reviews and cost. It worked well for about 3 weeks then I noticed it started to freeze a lot and would go blank. Sometimes my apps won\'t load or they crash. I had replaced my Samsung Galaxy S8 for this thinking it would have been a better choice. But I\'m very disappointed. The seller also made me aware that because it\'s over 30 days since I bought it they can\'t replace the device. So I\'m now stuck with it. It\'s a pity.\\n\\n", "\\n\\n  The cellphone is excellent. Great specs for the price, great build quality and so far hasn\'t failed at all. I\'m knocking one star off because I bought the bundle with the 128GB cellphone +  64GB Memory card and case, BUT THE MEMORY CARD DIDN\'T COME INCLUDED.  I paid and extra $30 for these accessories and it\'s a rip off that the memory card was missing. Only the case was included in the box.\\n\\n", "\\n\\n  Was unsure at first, buyin an off-brand phone. But after a while it was easy to to use. Definitely a learning curve from Samsung. But I can\'t deny the value in the phone. Especially the camera. Things I really like about it are the camera the fast charge. Things I don\'t really care for is that it\'s not to rugged or water-resistant. I live in the real world where there is water. All in all good value in a phone.\\n\\n", "\\n\\n  Great phones but did not get my complete order.  I ordered two for Christmas and was patient but didn\'t get a reply.The 64gb cards didn\'t come with the phones as advertised in the package I ordered\\n\\n", "\\n\\n  The phone was great when it worked but bricked two months after purchase, would no longer charge or power on, couldn\'t get it replaced because it was over 30 days and the manufacturer claimed to be unable to issue a warranty in the United States. Ultimately tried getting it repaired, still didn\'t work, now it\'s a paper weight. do not buy.\\n\\n", "\\n\\n  El dise\\u00f1o y la calidad nada m\\u00e1s en el cargador ah\\u00ed si no me gust\\u00f3 mucho esta rraro el cargador es mucho la dimensi\\u00f3n es muy grande incomodo al momento de cargar el celular deber\\u00edan hacer el cargador un poco m\\u00e1s peque\\u00f1o !\\n\\n", "\\n\\n  It was send it to Ecuador it work great there\\n\\n", "\\n\\n  Unfortunately I have to give this a 1 star simply because the phone doesn\'t work. Whenever using it after a few days the operating system begins to glitch and starts over and erasing everything.\\n\\n", "\\n\\n  The phone is amazing, it works perfect with Mint mobile, it is very fast, the camera is very good. Just it comes without earphones and it comes with an European charger. But for me this phone is incredible.\\n\\n", "\\n\\n  *International version, Euro 5G only (for now)*The Nord N10 5G is a great budget minded phone, for $300. The SnapDragon 690 5G is a very capable processor and the Adreno 619L GPU is powerful enough to run the latest games and doesn\'t feel laggy (for games like COD Warzone etc etc) . Coming in with 6GB RAM (2GB less than the OnePlus flagships), 128GB storage and 90Hz refresh rate, the phone is snappy yet smooth as that 90Hz screen really makes a difference, giving you the feeling of a faster more premium hardware. For those on a budget, this phone is great! Just keep your expectations reasonable and  know what you are getting, as it is only Gorilla Glass 3 , not water resistant, and not as fast as say a Pixel 4A or OnePlus bigger flagship phones. It does come with some very cool features , using the Oxygen OS, such as RAM optimization and Game/ Fnatic mode where it will cut off use of all other apps while you game or watch movies, and directs all available resources to the apps you choose. Includes decent cameras (4 total) and a fingerprint read on the back (which I prefer). I have included the 3D Mark Benchmarks for Slingshot and Slingshot Extreme for those interested in raw power / numbers. Overall, this is a good deal and a great phone for those looking to save some money and also have a fast snappy phone capable of handling tougher applications and includes many features of better flagship phones. Enjoy!\\n\\n", "\\n\\n  The phone was really nice. I was excited to use it. But ended up returning it because I didn\'t want an international charger. I simply bought the US version a few weeks later.\\n\\n", "\\n\\n  The phone is pretty good. The complaints I have are that it came with a warp charger that is not for the US, so I had to order one separately. The other issue is that the phone shuts off and needs to be forced started. I have had the phone two weeks and so far this has happened twice. Both during the night, so my alarms didn\'t go off in the morning and both while the phone was fully charged.\\n\\n", "\\n\\n  This phone worked with T-Mobile 5G right out of the box  I love the fact the phone has a dual SIM card tray.\\n\\n", "\\n\\n  It\\u2019s a great phone, very satisfied with my purchase. Very recommended\\n\\n", "\\n\\n  Works very well with ATT, TMobile, AirTel, EE. Absolutely what I was looking for... No issue with transfer of all files from old phone... It worked like a charm. Fast charger works well (only slight inconvenience is: since it\'s a global version Charger needs a USA pin adapter... It\'s a bit wobbly... So I bought a US Version charger to fix that.  This global version Dual sim work very well with ATT and TMobile. I have had zero connections issues.I\'d say excellent smart phone and bonus is price.I also use AirTel (India) sims when I travel to India and also EE Sim for UK travel... All work very well.Supplier : delivery was on time as stated. Thank you for that.Sim 1 is 5G and sim2 is 4G (LTE)... But since 5G currently has patchy service anyway... 4G is what I get mostly on both Sims. I have no problem with that.\\n\\n", "\\n\\n  Unfortunately had to return it because it was the international version and I use verizon. Other than that, THIS IS AN AMAZING BUDGET PHONE!!! My previous phone was the oneplus 6. The bad reviews are coming from people who had extremely high expectations that they get from higher end phones or accidentally bought the international version like myself. ONLY thing I would recommend to the seller is to make the product title a little bit clearer that this particular model is not compatible with CDMA carriers (Version, etc.). And yes I now have the US Version and that\'s what I\'m basing my rating on, it\'s the same exact phone besides the CDMA thing!\\n\\n", "\\n\\n  After using some of the best phones in the market switched to the 1+ NORD N10. It can support 2 sims or one sim + micro SD card but not 2 sim card plus the micro sd card which  is not what i expected. Manufactures have switched to the hybrid Sim slots which is good for them but not for me.Camera is ok...pictures come blurry at times. Havent got a good one till now. (had the phone for less than 24 hors now).Its a good phone if you plan to use it for some browsing and calling. Needed a little time to understand the touch/swipe features.\\n\\n", "\\n\\n  I\'d purchased this phone to use it as per specs. is not working with T-mobile nor sprint as per specs of the product> return it, get an other! hassle and tine that I could use it more benefic!\\n\\n", "\\n\\n  Pesimo hace 1 mes lo compre y comenzo a no escucharse nada con problemas de audicion y llamas al costumer para reemplazo o devolucion y  lo que te dicen es que para areglarlo no hay mas opcion ...muy caro que cuesta.en verdad pa opcion de comprar por internet es una sorpresa...\\n\\n", "\\n\\n  *International version, Euro 5G only (for now)*The Nord N10 5G is a great budget minded phone, for $300. The SnapDragon 690 5G is a very capable processor and the Adreno 619L GPU is powerful enough to run the latest games and doesn\'t feel laggy (for games like COD Warzone etc etc) . Coming in with 6GB RAM (2GB less than the OnePlus flagships), 128GB storage and 90Hz refresh rate, the phone is snappy yet smooth as that 90Hz screen really makes a difference, giving you the feeling of a faster more premium hardware. For those on a budget, this phone is great! Just keep your expectations reasonable and  know what you are getting, as it is only Gorilla Glass 3 , not water resistant, and not as fast as say a Pixel 4A or OnePlus bigger flagship phones. It does come with some very cool features , using the Oxygen OS, such as RAM optimization and Game/ Fnatic mode where it will cut off use of all other apps while you game or watch movies, and directs all available resources to the apps you choose. Includes decent cameras (4 total) and a fingerprint read on the back (which I prefer). I have included the 3D Mark Benchmarks for Slingshot and Slingshot Extreme for those interested in raw power / numbers. Overall, this is a good deal and a great phone for those looking to save some money and also have a fast snappy phone capable of handling tougher applications and includes many features of better flagship phones. Enjoy!\\n\\n", "\\n\\n  The phone was really nice. I was excited to use it. But ended up returning it because I didn\'t want an international charger. I simply bought the US version a few weeks later.\\n\\n", "\\n\\n  The phone is pretty good. The complaints I have are that it came with a warp charger that is not for the US, so I had to order one separately. The other issue is that the phone shuts off and needs to be forced started. I have had the phone two weeks and so far this has happened twice. Both during the night, so my alarms didn\'t go off in the morning and both while the phone was fully charged.\\n\\n", "\\n\\n  This phone worked with T-Mobile 5G right out of the box  I love the fact the phone has a dual SIM card tray.\\n\\n", "\\n\\n  It\\u2019s a great phone, very satisfied with my purchase. Very recommended\\n\\n", "\\n\\n  Works very well with ATT, TMobile, AirTel, EE. Absolutely what I was looking for... No issue with transfer of all files from old phone... It worked like a charm. Fast charger works well (only slight inconvenience is: since it\'s a global version Charger needs a USA pin adapter... It\'s a bit wobbly... So I bought a US Version charger to fix that.  This global version Dual sim work very well with ATT and TMobile. I have had zero connections issues.I\'d say excellent smart phone and bonus is price.I also use AirTel (India) sims when I travel to India and also EE Sim for UK travel... All work very well.Supplier : delivery was on time as stated. Thank you for that.Sim 1 is 5G and sim2 is 4G (LTE)... But since 5G currently has patchy service anyway... 4G is what I get mostly on both Sims. I have no problem with that.\\n\\n", "\\n\\n  Unfortunately had to return it because it was the international version and I use verizon. Other than that, THIS IS AN AMAZING BUDGET PHONE!!! My previous phone was the oneplus 6. The bad reviews are coming from people who had extremely high expectations that they get from higher end phones or accidentally bought the international version like myself. ONLY thing I would recommend to the seller is to make the product title a little bit clearer that this particular model is not compatible with CDMA carriers (Version, etc.). And yes I now have the US Version and that\'s what I\'m basing my rating on, it\'s the same exact phone besides the CDMA thing!\\n\\n", "\\n\\n  After using some of the best phones in the market switched to the 1+ NORD N10. It can support 2 sims or one sim + micro SD card but not 2 sim card plus the micro sd card which  is not what i expected. Manufactures have switched to the hybrid Sim slots which is good for them but not for me.Camera is ok...pictures come blurry at times. Havent got a good one till now. (had the phone for less than 24 hors now).Its a good phone if you plan to use it for some browsing and calling. Needed a little time to understand the touch/swipe features.\\n\\n", "\\n\\n  I\'d purchased this phone to use it as per specs. is not working with T-mobile nor sprint as per specs of the product> return it, get an other! hassle and tine that I could use it more benefic!\\n\\n", "\\n\\n  Pesimo hace 1 mes lo compre y comenzo a no escucharse nada con problemas de audicion y llamas al costumer para reemplazo o devolucion y  lo que te dicen es que para areglarlo no hay mas opcion ...muy caro que cuesta.en verdad pa opcion de comprar por internet es una sorpresa...\\n\\n", "\\n\\n  The progression and evolution of Samsung has not gone the way I would\'ve foreseen it.  In the beginning when I first became a new fan, it was the Samsung S3.  I\'ve owned the S3, LG G3, S6 Edge, S7 Edge, S8, Note 8, S9, Note 9, S10 Plus, Note 10 Plus, S20 Plus, Note 20 Ultra, and now the S21 Ultra.  What got me on Samsung?  I felt Samsung actually listened to consumers and gave us the room to help with development.  \\"The next best thing\\" It was a work in progress with every release and I felt like I was a part of it.  I was also not an Apple fan with the limited custom features and controls.  Fast forward to the S21 series.  There\'s a saying, you either die a hero, or live long enough to become the villain.  It appears the entire time, Samsung was the villain in the making.  We knew Samsung wanted to prove Apple wrong, but I didn\'t realize Samsung wanted to actually become Apple.  They mocked Apple only to follow Apple, what a bunch of hypocrites.  The peak of Samsung when I felt it was the people\'s company was the S10 plus.  The S10+ offered it all, the little FanBoy items that made me feel life was good with Samsung: headphone jack, heart rate sensor, MST/NFC mobile payment technology, great screen, thin bezel, in screen fingerprint scanner, included AKG headphones, fast charger, and expanded storage.  Do you remember?  Then the slow decline: the Note10 Plus released with no headphone jack and the loss of MST mobile pay.  Then the S20 Plus, no headphone jack, no MST, no heart rate sensor.  And now, the S21 Ultra with no headphone jack, no MST, no heart rate sensor, no headphones, no fast charger and no expandable storage.What have we gain with the S21 Ultra?  At a high cost, the screen is the best smartphone screen in the industry.  Barnone with its 120hz refresh rate and adaptive resolution.  The in-screen fingerprint scanner is upgraded, the camera is now among the best in a very crowded and competitive pool.After using the S21 Ultra for a few days, I was underwhelmed, coming from the S20 Plus.  I found myself missing the S20 Plus, and more the S10 Plus, even with the new upgrades.  I\'ve lost enthusiasm and confidence in Samsung. The S21 Ultra\'s weight and size is not for me, I found myself with hand fatigue and not really enjoying using the S21 Ultra.  The SPen support is nice, but come on Samsung, this is a Galaxy S phone.  The Note 20 Ultra is actually the better phone than the S21 Ultra if you want productivity and comfort.There\'s no doubt the performance is noticeable particularly the high resolution and high refresh rate with the new Snapdragon 888, 12 gigs of memory and faster storage speeds.  But was it an advancement worth upgrading to...my 100% sure answer, definitive no.  There is a lacking of quality and value that I look for and want.  And in a way, Samsung I have a feeling knows that.  The pandemic and consumer behavior may have had something to do with it, but the S21 Ultra despite its advancements, left out too many great distinguishing Samsung features that defined a Samsung Galaxy S-series phone. The pre-order deal was so enticing to me, I jumped on it, with $700 of my old S20plus to trade up, and to also get $260 off of added buys - so I got the Buds Pro, S-pen, and a Samsung Case.  But I\'ve decided to keep my S20 Plus and paying the difference.What I plan to do now is keep the S21 Ultra as a backup phone and continue to use my S20 Plus and Notw 20 Ultra.  Truth is I still have the S10 Plus and continue to be completely nostalgic about it -- putting my sim card in it from time to time reminiscing how it could\'ve been instead of where we are now in the Samsung Galaxy S Line Up.Imagine the S21 Ultra having these features:  MTS/NFC payments, heart rate sensor, expandable storage, exceptional camera, best industry screen, IP68, Invictus protection, 120hz refresh rate with high resolution, 5000ma battery and everything else it has.That would be something amazing and exciting!!!If you still own the S10 Plus, keep it, if you own the S20 Plus, keep it.  The S21 Ultra, in my humble opinion is Samsung reducing itself to become the villain.  Don\'t start another lease agreement,  extend your contract, or get into another debt on the S21 Ultra.  It\'s harsh and it\'s my opinion.Rumor is we may not see the next Note this year, which disturbs me even more....stay tuned.  Samsung is trending toward Foldables, which I just don\'t get.\\n\\n", "\\n\\n  I start saying \\u201cdon\\u2019t pay attention to those 1-star reviews, which complain about no dual SIM support, no microSD, no charger, heaviness, etc.\\" We know the specs of what we\'re buying, if getting a microSD slot is paramount for some, they shouldn\\u2019t have bought the S21 in the first place.My experience with this phone has been excellent, having had almost every Galaxy S/Note iteration since 2010, S21 Ultra is no doubt the best smartphone Samsung has ever produced. Great high refresh QHD AMOLED display, solid built, powerful camera system with best-in-class zoom, improved fingerprint sensor, butter smooth interface, more-than-capable Snapdragon chipset, best battery life of any Galaxy S (one day with heavy use and two with light use). Yes, it is a heavy device but nowadays even midrange phones are weighting around 7 oz. Of course it\\u2019s not perfect but it\\u2019s close, low light photography could be better and should improve with software updates, speakers are just OK for a flagship, it ought to have faster charging capability (45W at least).That\\u2019s my summary, if you buy the S21 Ultra, you won\\u2019t be disappointed.\\n\\n", "\\n\\n  If you\'re coming from an older galaxy device as I was from the s8+ this upgrade is a HUGE jump. I was hesitant at first due to the lack of SD card expansion and the removal of the iris scanner but really, I\'m not missing my s8+ at all. The performance is just insane. Processor speed geekbench results are 2-4x the s8+. The display is absolutely gorgeous and the cameras are as well. She\'s a bit thick and heavy but not in a bad way. The phone feels great, solid in your hand. Very pleased with my decision to finally upgrade. I think the sweetspot may be 3-4 years in between upgrades as you really get A LOT out of it at that point. The differences generation to generation tend to be minimal.\\n\\n", "\\n\\n  The s21 Ultra is best smartphone on the market, 1440p 120fps oled makes for a screen that looks so good with its high pixel density. blacks are super black, this screen goes really bright too in the sun. really smooth too. one of the best screens I\'ve ever seen ever. newest 5nm snapdragon 888 processor makes it really fast and efficent. best main camera and telephoto camera ever. bettery life is ok, get like 6 hours sot with 1440p enabled depending how heavy you use your phone. just make sure to go throught the setting and change from fhd+ to qhd+ to get the sharpest display.only thing is its on the large side but doesn\'t feel that large because its taller than wider.don\'t get anything less than 256gb because there\'s no expandable storage.\\n\\n", "\\n\\n  I bought 2 Samsung Galaxy S21 Ultras from this seller on a sale for a brand new phone.  It was too good to be true but only a few hundred off.  This phone was meant to be unlocked but T-Mobile and Samsung couldn\'t understand why it wasn\'t working.  Upon the boot up screen there was a clue that the software wasn\'t original. Really glad we didn\'t put in any banking information, not sure if there was malware or spyware.  Essentially the boot up screen said SAMSUNG GALAXY, only instead of S21 ULTRA which all my old Samsungs had the full title in the boot screen.  At the bottom it said Powered By Android in small letters and showed the little Android dude.  All other Samsungs I\'ve had say Powered by Android is large white letters.Beware of scams at your cell provider\'s store as well.  They offered us a buy on e get one that wasn\'t an available deal.  Would have been stuck with either 2 non working phones with unofficial software or 2 full priced phones I couldn\'t cancel from the little store.  Do your homework on these large purchases.\\n\\n", "\\n\\n  I upgraded from the Galaxy s8 to the S21 Ultra with 256 gb of storage and 12gb of ram. I will start off by saying go with the Ultra or the base, you pay $200 extra for half an inch of screen on the plus (this is called decoy price, you see this at movies where the popcorn medium is only 1 dollar less than the large, but is 3 more than the small, so you might as well go large.)I\'ll give more detial at the end.Camera is super high quality, zoom is incredible. Front camera even takes good pics (I mean I looked good, so should you)Processor is as advertised, insanely fast, even at the standard limited benchmark (there is an enhanced processing mode to take away cpu 70% limit). Desktop mode is great, this phone is almost as fast in Dex as my actual Acer laptop.Battery life is phenomenal, can get 2 full days out of 1 charge if you use the phone less than 4 or 5 hours a day at 1080p res.1440p, super clear and one of the bargaining point for the Ultra over the base. The refresh rate of 120 hz is incredible, I spent the first 10 minutes just swiping on the phone in awe of this. The ultra is also the only version with the curved screen,, the s21 and plus have flat screens.. This phone does an excellent job of cooling, even witha case on. (FYI heat causes the major wear and tear on the internal components like the cpu, so better cooling means better lifespan and performance).Customizable routines allow you to add features to your phone, from automatically silencing when you show up to work or school, automatically going into power save mode at certain times like when you are asleep, or even for when you turn on your Bluetooth headphones your phone can automatically switch to 1440p resolution and turn Dolby atmos on movie mode sound. Dozens of scenarios or time stamps for each feature.If you are the friend that walks on the grass, don\'t worry about bringing that bulky charger for when your friends\' phones are about to die, this phone can wireless charge other devices (will stop charging when the phone drops to 30% minimum).If you are concerned about no color options, just remember, I had that beautiful orchid gray s8, and who got to see it? Nobody, because it was hidden behind a lovely teal case for 4 years.If the fact that Samsung dropped their charging from the 45w of the s20 series to a 25w for the s21, rest assured, there is very little added time for charging, and the 25w is less volatile than the 45w. This means, charging does not get the phone as hot, and the battery will have a better lifespan since slower charging is better long term.If you multi task a ton and/or save tons of files, consider spending the extra money to get the 512 gb edition, as it comes with an additional 4gb of ram (16gb total).Ram is what is used to have tabs open, so more ram means more tabs open while still maintaining speed and smoothness. The s21 ultra also has Spen support (need a case that can hold it).Why the ultra or base and not the plus?The s21 has a better ppi (pixel density, higher the density, better the picture) than the s21 plus. They both have the same 8gb of ram, the same storage sizes, same resolution, same cameras, same material, same flat screen, the same backwards wireless charging capability (same for ultra), etc. The only difference is the screen size and that the s21 plus has a 4800 mAh battery while the s21 has a 4000 mAh. The ultra however, offers higher resolution, much higher ppi, the larger screen, larger battery than both (5000mAh). The ultra has much more powerful camera as well, the curved screen, camera features and settings. So if you want all the features and performance and screen resolution (I like the stream movies  on my lunch breaks) then go with the Ultra, if you just want to upgrade to the newest and fastest phone, and you don\'t need to have 100000 tabs open, get the base s21.\\n\\n", "\\n\\n  1. Phone.  Let\'s not forget it\'s initial purpose of existence... communication.  I think it\'s a Verizon thing, but the sound quality of phone calls is uniquely satisfying and clear.2. Signal.  For carrier signal,  for me,  it is much better than my previous 4G device,  the Galaxy S8+. I cannot mention much about the 5G signal nor it\'s data speeds as the network is still fairly limited in my area.  Wifi is dramatically improved.  Bluetooth,  NFC, GPS, Wifi Hotspot,  and Wifi Direct seem extremely responsive and equally great.3. Performance.  This thing is a power house.  With the dual quad core CPU\'s, Snapdragon 888 SOC, Qualcomm Adreno 660 GPU, 120 Hz AMOLED display,  everything is snappy and quick.4. Battery.  5000 mAh ought to seem like a lot,  and it is.. Though with the performing hardware mentioned above,  don\'t expect a solid week\'s worth of gaming in a device of this caliber.  Power saving features exist for a reason.  Changing your display output to 720, enabling an aggressive power saving mode,  setting your screen brightness to the lowest value,  and limiting yourself to calls only,  you can get several days of use on a single charge.  Without those energy saving measures, expect about half to a full day\'s use on a single charge.5. Charging.  It lacks a 25 watt super fast charger,  or any charger at all.  It does come with a USC type C to type C cable though.  You get five varying levels of charging:  two with wireless,  three wired.  For wireless,  standard and fast charging.  Wired, standard,  fast,  and super fast.  With super fast,  it can fully charge a dead device in about an hour.  The slowest charge is around three hours.  For longevity,  don\'t super charge unless absolutely necessary.6. Camera(s). 12,000 x 9,000 pixels is a lot of depth. About 35 MB per photo at 108 megapixels.  There are Pro modes for video and stills as well.  8k at 24fps? I don\'t get that one.  But a solid 60fps for 4k video is outstanding.  Add the stability feature and you\'re now a video director and professional cameraman. The video and photos are beyond excellent. The 100x zoom is a comedic gimmick.  Let\'s get that out there.  The HDR low light photos are superior to any device I have used.  The video has no HDR capture support ):  . Shame.  The macro support is fantastic.  Crisp,  clear images in just about every shot.7. Storage.  This one is tough.  Samsung recently ditched expandable memory,  which really upset me initially.  It\'s a selling point.  If you intend to use lots of apps,  take lots of photos,  videos,  download oodles of stuff... choose wisely.  If you don\'t have a computer or infrequently dump your device data to a cloud service or another PC, get more storage.  I settled for the middle ground at 256 GB. After my apps are setup and good to go,  I have about 190 GB of usable storage remaining. Plenty... for now.8. OS. I could sit here and talk about Android 11 and Samsungs TouchWiz UI, but it won\'t matter.  Software gets updated now frequently than hardware,  and will forever change.  The software on this device is only slightly different from similar devices.  It\'s much better than previous revisions.  Both Samsung and Android allow for some more aggressive customizations on newer devices. It\'s nice,  to say the least.9. Features.  Power sharing is nice,  but with its beastly hardware,  you\'ll likely not want to share your precious battery with anyone,  nor anything else.  It\'s a neat,  almost useless feature to me. DEX by Samsung is still an infant.  Don\'t even mess with it.  Link to Windows is cool,  but needs some fine tuning to be better.  You still have a flashlight. That\'s cool.  The fingerprint reader is neat,  but tricky to learn since it\'s behind the main display.  It takes a while to get used to.  I wish we could add more than four fingerprints,  or allow more passes for each finger.  It isn\'t always consistent in every condition.  This phone supports the S-pen and select S-view cases as well.  They\'re not included,  and are fairly pricey accessories.10. Design. When LG started advertising the Chocolate with Christina Aguilera singing in the background,  I knew phones were competing with cars for our attention in ads.  The corners,  surfaces,  feels,  looks,  sharpness,  and radiant elegance is near perfection.  Dat camera bump,  though.... I almost wish they made a thicker battery,  maybe 8, 000 to 10,000 mAh, to craft a better balance and prevent the offsetting camera bump from existence.  Why does the edge panel have a bubble leveler for this device?  You can\'t use it! That\'s just silly.  The camera pimple...I don\'t like it.  YouTube is the only platform to support HDR10 for a device like this,  and it looks beautiful.  Super bright.  Super sharp.  Super..darn... that pimple is quite noticeable and slightly breaks immersion. This phone weighs less than my previous Galaxy S8+. It\'s only slightly larger as well.  That\'s impressive to me.Is it worth a grand?  Considering the fact that I paid as much as I did for my S8+? Yes.  It\'s a considerable upgrade.  I highly recommend a case.  Especially one that can add balance as to rid itself of the camera bump.  A screen protector is also recommended,  as with any device with such a large display.  I don\'t care that it has the latest Corning Gorilla Glass on it.  Micro scratches are a thing. And with a display like this,  you will want to preserve its perfections,  even if it has an adolescent pimple on one end.\\n\\n", "\\n\\n  Bran new phone came scratched right out of the box. Unbelievable.\\n\\n", "\\n\\n  Great phone bad price as of mid February. Better to get directly from Samsung if you have a trade in.\\n\\n", "\\n\\n  The battery does not last the whole day at least that you make a lot of comsupntion adjustments, it is a bit heavy and I was expecting better for the fingerprint reader I have a huawei P20 pro and is superior on this point\\n\\n", "\\n\\n  The progression and evolution of Samsung has not gone the way I would\'ve foreseen it.  In the beginning when I first became a new fan, it was the Samsung S3.  I\'ve owned the S3, LG G3, S6 Edge, S7 Edge, S8, Note 8, S9, Note 9, S10 Plus, Note 10 Plus, S20 Plus, Note 20 Ultra, and now the S21 Ultra.  What got me on Samsung?  I felt Samsung actually listened to consumers and gave us the room to help with development.  \\"The next best thing\\" It was a work in progress with every release and I felt like I was a part of it.  I was also not an Apple fan with the limited custom features and controls.  Fast forward to the S21 series.  There\'s a saying, you either die a hero, or live long enough to become the villain.  It appears the entire time, Samsung was the villain in the making.  We knew Samsung wanted to prove Apple wrong, but I didn\'t realize Samsung wanted to actually become Apple.  They mocked Apple only to follow Apple, what a bunch of hypocrites.  The peak of Samsung when I felt it was the people\'s company was the S10 plus.  The S10+ offered it all, the little FanBoy items that made me feel life was good with Samsung: headphone jack, heart rate sensor, MST/NFC mobile payment technology, great screen, thin bezel, in screen fingerprint scanner, included AKG headphones, fast charger, and expanded storage.  Do you remember?  Then the slow decline: the Note10 Plus released with no headphone jack and the loss of MST mobile pay.  Then the S20 Plus, no headphone jack, no MST, no heart rate sensor.  And now, the S21 Ultra with no headphone jack, no MST, no heart rate sensor, no headphones, no fast charger and no expandable storage.What have we gain with the S21 Ultra?  At a high cost, the screen is the best smartphone screen in the industry.  Barnone with its 120hz refresh rate and adaptive resolution.  The in-screen fingerprint scanner is upgraded, the camera is now among the best in a very crowded and competitive pool.After using the S21 Ultra for a few days, I was underwhelmed, coming from the S20 Plus.  I found myself missing the S20 Plus, and more the S10 Plus, even with the new upgrades.  I\'ve lost enthusiasm and confidence in Samsung. The S21 Ultra\'s weight and size is not for me, I found myself with hand fatigue and not really enjoying using the S21 Ultra.  The SPen support is nice, but come on Samsung, this is a Galaxy S phone.  The Note 20 Ultra is actually the better phone than the S21 Ultra if you want productivity and comfort.There\'s no doubt the performance is noticeable particularly the high resolution and high refresh rate with the new Snapdragon 888, 12 gigs of memory and faster storage speeds.  But was it an advancement worth upgrading to...my 100% sure answer, definitive no.  There is a lacking of quality and value that I look for and want.  And in a way, Samsung I have a feeling knows that.  The pandemic and consumer behavior may have had something to do with it, but the S21 Ultra despite its advancements, left out too many great distinguishing Samsung features that defined a Samsung Galaxy S-series phone. The pre-order deal was so enticing to me, I jumped on it, with $700 of my old S20plus to trade up, and to also get $260 off of added buys - so I got the Buds Pro, S-pen, and a Samsung Case.  But I\'ve decided to keep my S20 Plus and paying the difference.What I plan to do now is keep the S21 Ultra as a backup phone and continue to use my S20 Plus and Notw 20 Ultra.  Truth is I still have the S10 Plus and continue to be completely nostalgic about it -- putting my sim card in it from time to time reminiscing how it could\'ve been instead of where we are now in the Samsung Galaxy S Line Up.Imagine the S21 Ultra having these features:  MTS/NFC payments, heart rate sensor, expandable storage, exceptional camera, best industry screen, IP68, Invictus protection, 120hz refresh rate with high resolution, 5000ma battery and everything else it has.That would be something amazing and exciting!!!If you still own the S10 Plus, keep it, if you own the S20 Plus, keep it.  The S21 Ultra, in my humble opinion is Samsung reducing itself to become the villain.  Don\'t start another lease agreement,  extend your contract, or get into another debt on the S21 Ultra.  It\'s harsh and it\'s my opinion.Rumor is we may not see the next Note this year, which disturbs me even more....stay tuned.  Samsung is trending toward Foldables, which I just don\'t get.\\n\\n", "\\n\\n  I start saying \\u201cdon\\u2019t pay attention to those 1-star reviews, which complain about no dual SIM support, no microSD, no charger, heaviness, etc.\\" We know the specs of what we\'re buying, if getting a microSD slot is paramount for some, they shouldn\\u2019t have bought the S21 in the first place.My experience with this phone has been excellent, having had almost every Galaxy S/Note iteration since 2010, S21 Ultra is no doubt the best smartphone Samsung has ever produced. Great high refresh QHD AMOLED display, solid built, powerful camera system with best-in-class zoom, improved fingerprint sensor, butter smooth interface, more-than-capable Snapdragon chipset, best battery life of any Galaxy S (one day with heavy use and two with light use). Yes, it is a heavy device but nowadays even midrange phones are weighting around 7 oz. Of course it\\u2019s not perfect but it\\u2019s close, low light photography could be better and should improve with software updates, speakers are just OK for a flagship, it ought to have faster charging capability (45W at least).That\\u2019s my summary, if you buy the S21 Ultra, you won\\u2019t be disappointed.\\n\\n", "\\n\\n  If you\'re coming from an older galaxy device as I was from the s8+ this upgrade is a HUGE jump. I was hesitant at first due to the lack of SD card expansion and the removal of the iris scanner but really, I\'m not missing my s8+ at all. The performance is just insane. Processor speed geekbench results are 2-4x the s8+. The display is absolutely gorgeous and the cameras are as well. She\'s a bit thick and heavy but not in a bad way. The phone feels great, solid in your hand. Very pleased with my decision to finally upgrade. I think the sweetspot may be 3-4 years in between upgrades as you really get A LOT out of it at that point. The differences generation to generation tend to be minimal.\\n\\n", "\\n\\n  The s21 Ultra is best smartphone on the market, 1440p 120fps oled makes for a screen that looks so good with its high pixel density. blacks are super black, this screen goes really bright too in the sun. really smooth too. one of the best screens I\'ve ever seen ever. newest 5nm snapdragon 888 processor makes it really fast and efficent. best main camera and telephoto camera ever. bettery life is ok, get like 6 hours sot with 1440p enabled depending how heavy you use your phone. just make sure to go throught the setting and change from fhd+ to qhd+ to get the sharpest display.only thing is its on the large side but doesn\'t feel that large because its taller than wider.don\'t get anything less than 256gb because there\'s no expandable storage.\\n\\n", "\\n\\n  I bought 2 Samsung Galaxy S21 Ultras from this seller on a sale for a brand new phone.  It was too good to be true but only a few hundred off.  This phone was meant to be unlocked but T-Mobile and Samsung couldn\'t understand why it wasn\'t working.  Upon the boot up screen there was a clue that the software wasn\'t original. Really glad we didn\'t put in any banking information, not sure if there was malware or spyware.  Essentially the boot up screen said SAMSUNG GALAXY, only instead of S21 ULTRA which all my old Samsungs had the full title in the boot screen.  At the bottom it said Powered By Android in small letters and showed the little Android dude.  All other Samsungs I\'ve had say Powered by Android is large white letters.Beware of scams at your cell provider\'s store as well.  They offered us a buy on e get one that wasn\'t an available deal.  Would have been stuck with either 2 non working phones with unofficial software or 2 full priced phones I couldn\'t cancel from the little store.  Do your homework on these large purchases.\\n\\n", "\\n\\n  I upgraded from the Galaxy s8 to the S21 Ultra with 256 gb of storage and 12gb of ram. I will start off by saying go with the Ultra or the base, you pay $200 extra for half an inch of screen on the plus (this is called decoy price, you see this at movies where the popcorn medium is only 1 dollar less than the large, but is 3 more than the small, so you might as well go large.)I\'ll give more detial at the end.Camera is super high quality, zoom is incredible. Front camera even takes good pics (I mean I looked good, so should you)Processor is as advertised, insanely fast, even at the standard limited benchmark (there is an enhanced processing mode to take away cpu 70% limit). Desktop mode is great, this phone is almost as fast in Dex as my actual Acer laptop.Battery life is phenomenal, can get 2 full days out of 1 charge if you use the phone less than 4 or 5 hours a day at 1080p res.1440p, super clear and one of the bargaining point for the Ultra over the base. The refresh rate of 120 hz is incredible, I spent the first 10 minutes just swiping on the phone in awe of this. The ultra is also the only version with the curved screen,, the s21 and plus have flat screens.. This phone does an excellent job of cooling, even witha case on. (FYI heat causes the major wear and tear on the internal components like the cpu, so better cooling means better lifespan and performance).Customizable routines allow you to add features to your phone, from automatically silencing when you show up to work or school, automatically going into power save mode at certain times like when you are asleep, or even for when you turn on your Bluetooth headphones your phone can automatically switch to 1440p resolution and turn Dolby atmos on movie mode sound. Dozens of scenarios or time stamps for each feature.If you are the friend that walks on the grass, don\'t worry about bringing that bulky charger for when your friends\' phones are about to die, this phone can wireless charge other devices (will stop charging when the phone drops to 30% minimum).If you are concerned about no color options, just remember, I had that beautiful orchid gray s8, and who got to see it? Nobody, because it was hidden behind a lovely teal case for 4 years.If the fact that Samsung dropped their charging from the 45w of the s20 series to a 25w for the s21, rest assured, there is very little added time for charging, and the 25w is less volatile than the 45w. This means, charging does not get the phone as hot, and the battery will have a better lifespan since slower charging is better long term.If you multi task a ton and/or save tons of files, consider spending the extra money to get the 512 gb edition, as it comes with an additional 4gb of ram (16gb total).Ram is what is used to have tabs open, so more ram means more tabs open while still maintaining speed and smoothness. The s21 ultra also has Spen support (need a case that can hold it).Why the ultra or base and not the plus?The s21 has a better ppi (pixel density, higher the density, better the picture) than the s21 plus. They both have the same 8gb of ram, the same storage sizes, same resolution, same cameras, same material, same flat screen, the same backwards wireless charging capability (same for ultra), etc. The only difference is the screen size and that the s21 plus has a 4800 mAh battery while the s21 has a 4000 mAh. The ultra however, offers higher resolution, much higher ppi, the larger screen, larger battery than both (5000mAh). The ultra has much more powerful camera as well, the curved screen, camera features and settings. So if you want all the features and performance and screen resolution (I like the stream movies  on my lunch breaks) then go with the Ultra, if you just want to upgrade to the newest and fastest phone, and you don\'t need to have 100000 tabs open, get the base s21.\\n\\n", "\\n\\n  1. Phone.  Let\'s not forget it\'s initial purpose of existence... communication.  I think it\'s a Verizon thing, but the sound quality of phone calls is uniquely satisfying and clear.2. Signal.  For carrier signal,  for me,  it is much better than my previous 4G device,  the Galaxy S8+. I cannot mention much about the 5G signal nor it\'s data speeds as the network is still fairly limited in my area.  Wifi is dramatically improved.  Bluetooth,  NFC, GPS, Wifi Hotspot,  and Wifi Direct seem extremely responsive and equally great.3. Performance.  This thing is a power house.  With the dual quad core CPU\'s, Snapdragon 888 SOC, Qualcomm Adreno 660 GPU, 120 Hz AMOLED display,  everything is snappy and quick.4. Battery.  5000 mAh ought to seem like a lot,  and it is.. Though with the performing hardware mentioned above,  don\'t expect a solid week\'s worth of gaming in a device of this caliber.  Power saving features exist for a reason.  Changing your display output to 720, enabling an aggressive power saving mode,  setting your screen brightness to the lowest value,  and limiting yourself to calls only,  you can get several days of use on a single charge.  Without those energy saving measures, expect about half to a full day\'s use on a single charge.5. Charging.  It lacks a 25 watt super fast charger,  or any charger at all.  It does come with a USC type C to type C cable though.  You get five varying levels of charging:  two with wireless,  three wired.  For wireless,  standard and fast charging.  Wired, standard,  fast,  and super fast.  With super fast,  it can fully charge a dead device in about an hour.  The slowest charge is around three hours.  For longevity,  don\'t super charge unless absolutely necessary.6. Camera(s). 12,000 x 9,000 pixels is a lot of depth. About 35 MB per photo at 108 megapixels.  There are Pro modes for video and stills as well.  8k at 24fps? I don\'t get that one.  But a solid 60fps for 4k video is outstanding.  Add the stability feature and you\'re now a video director and professional cameraman. The video and photos are beyond excellent. The 100x zoom is a comedic gimmick.  Let\'s get that out there.  The HDR low light photos are superior to any device I have used.  The video has no HDR capture support ):  . Shame.  The macro support is fantastic.  Crisp,  clear images in just about every shot.7. Storage.  This one is tough.  Samsung recently ditched expandable memory,  which really upset me initially.  It\'s a selling point.  If you intend to use lots of apps,  take lots of photos,  videos,  download oodles of stuff... choose wisely.  If you don\'t have a computer or infrequently dump your device data to a cloud service or another PC, get more storage.  I settled for the middle ground at 256 GB. After my apps are setup and good to go,  I have about 190 GB of usable storage remaining. Plenty... for now.8. OS. I could sit here and talk about Android 11 and Samsungs TouchWiz UI, but it won\'t matter.  Software gets updated now frequently than hardware,  and will forever change.  The software on this device is only slightly different from similar devices.  It\'s much better than previous revisions.  Both Samsung and Android allow for some more aggressive customizations on newer devices. It\'s nice,  to say the least.9. Features.  Power sharing is nice,  but with its beastly hardware,  you\'ll likely not want to share your precious battery with anyone,  nor anything else.  It\'s a neat,  almost useless feature to me. DEX by Samsung is still an infant.  Don\'t even mess with it.  Link to Windows is cool,  but needs some fine tuning to be better.  You still have a flashlight. That\'s cool.  The fingerprint reader is neat,  but tricky to learn since it\'s behind the main display.  It takes a while to get used to.  I wish we could add more than four fingerprints,  or allow more passes for each finger.  It isn\'t always consistent in every condition.  This phone supports the S-pen and select S-view cases as well.  They\'re not included,  and are fairly pricey accessories.10. Design. When LG started advertising the Chocolate with Christina Aguilera singing in the background,  I knew phones were competing with cars for our attention in ads.  The corners,  surfaces,  feels,  looks,  sharpness,  and radiant elegance is near perfection.  Dat camera bump,  though.... I almost wish they made a thicker battery,  maybe 8, 000 to 10,000 mAh, to craft a better balance and prevent the offsetting camera bump from existence.  Why does the edge panel have a bubble leveler for this device?  You can\'t use it! That\'s just silly.  The camera pimple...I don\'t like it.  YouTube is the only platform to support HDR10 for a device like this,  and it looks beautiful.  Super bright.  Super sharp.  Super..darn... that pimple is quite noticeable and slightly breaks immersion. This phone weighs less than my previous Galaxy S8+. It\'s only slightly larger as well.  That\'s impressive to me.Is it worth a grand?  Considering the fact that I paid as much as I did for my S8+? Yes.  It\'s a considerable upgrade.  I highly recommend a case.  Especially one that can add balance as to rid itself of the camera bump.  A screen protector is also recommended,  as with any device with such a large display.  I don\'t care that it has the latest Corning Gorilla Glass on it.  Micro scratches are a thing. And with a display like this,  you will want to preserve its perfections,  even if it has an adolescent pimple on one end.\\n\\n", "\\n\\n  Bran new phone came scratched right out of the box. Unbelievable.\\n\\n", "\\n\\n  Great phone bad price as of mid February. Better to get directly from Samsung if you have a trade in.\\n\\n", "\\n\\n  The battery does not last the whole day at least that you make a lot of comsupntion adjustments, it is a bit heavy and I was expecting better for the fingerprint reader I have a huawei P20 pro and is superior on this point\\n\\n", "\\n\\n  Update 8/31/20 IF YOU DIDN\'T RECEIVE YOUR WIRED AKG headphones, it\'s because Samsung decided not to add it to the box for US customers.Call Samsung USA at (800) 726-7864 to request yours for free, it\'s a bit of a hassle, but they sent mine at the end. You haven\'t been scammed if you don\'t find the wired headphones  in the box!Original review: I say it\'s the best, with a grain of salt, read the cons to know why!To start off, Samsung did an amazing job with this phone, so much that they rendered the fairly new, still very expensive, S20 Ultra, almost obsolete!But I\'m not gonna review both units here, so for those of you looking for quick pros & cons, here you go.Pros:- AMAZING display, I had so many high end phones, including the IPhone 11 pro max and Google Pixel 4XL & even the note 10, but this screen here bests all of them. The high refresh rate, the beautiful colors, and the better ratio (it\'s a little wider than the S20 ultra for example), all this makes for an outstanding screen.- Great main camera. The pictures are just perfect in almost all light conditions. I dunno how much better is the 108 MP mode, it bothered me a little that cropping a 108 MP picture didn\'t yield the perfect result, but all in all, the camera is top notch, in all its modes. The videos are even better. You won\'t find a phone with a better main camera on the market.- The S pen is pretty useful for taking notes! I didn\'t feel like I needed it for anything else except, may be, for a selfie, so eventhough it isn\'t the biggest selling point, it\'s worth mentioning.- It looks great! Yup, design wise, that phone looks really good, that it feels bad putting any covers on it. I personally just ordered a very slim, transparent case & I wouldn\'t recommend anything else.There are some added gimmicky features that you can find almost everywhere online, but I personally loved the direct share, where I can show anything I want from my phone and cast it to a smart TV or one with a Google chrome cast attached to it, it happened a lot before that I needed to show many people at the same time, whatever it is that was on my phone, photos or a certain app, and that feature here makes it so easy.Cons:- I dunno how this isn\'t mentioned anywhere, but the selfie camera isn\'t great at all in low light conditions. Yes in the morning, outdoor, it is very good, but other than that it\'s just not great! I could see myself buying the next Google Pixel instead, just for this.- Battery life isn\'t good enough either. It\'s worse than my S20 Ultra, and it was no surprise, since Samsung decided to give this phone a smaller battery \\ud83d\\ude44I find myself charging it twice a day, which really isn\'t practical.Just for those 2 points, added to the fact that it\'s a super expensive phone, I had to give it 4 stars.Now if it gets the Google Pixel software for the selfie camera, and a full day of battery life that would have been the best phone ever made! But I guess we\'ll have to wait for next year for that!\\n\\n", "\\n\\n\\n  Your browser does not support HTML5 video.\\n\\n\\n  \\u00a0I got this on launch day and it had a defect where the S pen wasn\'t registering in a large circular area on the screen. Amazon sent me a replacement and it had the exact same failure. I\'m done with it. I\'ve had 2 other notes in the past and loved them, but having this almost $1500 phone fail right out of the box is where my love of the Note ends.IMPORTANT EDIT:  I Noticed this same issue occurring with my Note 10+ after I returned this phone (twice). This phenomenon was being caused by a Steelie magnetic mount on the back of the case. So if you are using a magnetic mount or have the phone close to a magnetic field, you will encounter this exact same issue.I have changed the review score to reflect this new information.\\n\\n", "\\n\\n  I do not recommend buying.  the charger stopped working after just 2 hours of use.  and did not bring the headphones.\\n\\n", "\\n\\n  Purchased new phone, arrived damaged. Deceptively packaged with screen protectors. Pay very close attention to the device you receive.\\n\\n", "\\n\\n  The cameras, the S-pen, the AMOLED screen quality, the 120 Hz refresh rate, the 5G data connection, the build quality, etc. are all top notch. This phone will probably hold the crown for best Android phone for a good while, and it has key feature bumps that made me especially want this phone--namely the 5G and the 120 Hz screen.I would definitely recommend a solid case if you\'re planning to spend this much money on a phone. I bought a Spigen case which effectively reduces the camera bump on the back to allow the phone to sit flat on a desk. The IP68 rating means that it will be fine with water and dust, but drop protection is still a must. I saw a stat recently that something like 2/3 of people report incurring drop damage to their phone (for all phones not specifically this phone).Other thoughts: I think it\'s interesting that most middle class people can afford the best phone that you can possibly purchase for a product that is in your pocket, everyday, all the time. You can\'t say that about cars, houses, clothes, but you could definitely swing buying the best phone that money can buy once every 3-4 years if it\'s important enough to you. For me it is, and I\'m very happy with this phone.Lastly: Google Pixel, 1+, Apple, etc. can only hope to match some of the features that this phone has to offer, but I highly doubt that they will exceed this phone\'s specs on yet to be release products. Just my opinion as a phone guy, but the best that they could hope to do is give you a better value on specific features. If you\'re somebody looking for the best value on a calling and texting machine, then this phone is not for you. This phone is for somebody that wants the best cameras, pocket computing power, & screen quality that money can buy you right now.\\n\\n", "\\n\\n  Whites are a bit dull not as bright as my note 10+ .poor battery life, takes too long to charge. Can\'t use 120hz and top rez at same time.\\n\\n", "\\n\\n  La pantalla se ve impresionante, se escucha mejor que ningun otro telefono que habia tenido, y hace unas fotos espectaculares, ademas que para el trabajo las funciones del lapiz me van genial, me ha encantado!\\n\\n", "\\n\\n  It came today. When opened the box, there was some small scratches on both plastic protector and body. It seems it was previously soled, returned and reshipped.\\n\\n", "\\n\\n  Received a used phone . Very disappointed!!\\n\\n", "\\n\\n  I\'m upgrading from a US (at & t) note 10+I play a silly game with not much with graphics, but I did notice a huge stutter at some points. Then just browsing and scrolling pages it is not smooth when you go slow. After all that I ran geekbench AND SCORED TERRIBLE!!!! WTH.... I\'ll try some different things and update if needed.  ..\\n\\n", "\\n\\n  This is false advertisement it\'s not 6gb of RAM it only has 4gb very upset I would put a negative 5 because I don\'t like to get ripped off so buyer beware and also like to add the Box wasn\'t sealed it with no stickers and barely any information on the box about the spec\'s very suspicious\\n\\n", "\\n\\n  Don\'t buy! It\'s 4gb of ram! Not 6gb! Customer support from BREED is utter garbageWill change review if something is done EDIT: THEY CHANGED IT TO NOT SHOW 6GB BUT CHARGE SAME PRICE FOR 4GB\\n\\n", "\\n\\n  I purchased the 128GB with 4GB ram model in all black.  My wife\'s S8+ that was close to becoming non-functional and I needed a new phone asap.  I had previously purchased an A20s for my son and so I first ordered the A30s until I did some research regarding my mobile provider T-Mobile in the US.I cancelled the A30s and got the A51 primarily because of the supported LTE bands. T-Mobile uses the following bands2, 4, 5, 12, 66, 71The A30s only supports band 5 from the that list!However, the A51 supports band 2, 4, 5, 12 and 66.  I was gladly willing to pay a little more to ensure I had maximum connectivity with my carrier so I cancelled the A30s and purchased the A51 instead.Now with that primary consideration out of the way, on to the rest of the review.  I\'ll start with the best parts first.1.  Call quality, reception and connectivityThe call quality is excellent on this phone, right up there with my s10+.  I think the microphone quality has been improved because my wife loves using the speakerphone and on her hold s8+, her voice occasionally cut out here and there as the mic tried to pick up her voice.  Also, the sound quality of the voice has improved as well which further helps to understand the conversation.  Reception has been about the same compared to my s10+, which is to say pretty good.  We measured on signel strength and asu.  The mobile data speeds are excellent even in areas that are typically weaker in signal strength.2.  ScreenSamsung AMOLEDs are the best in the business when it comes to screen quality.  We are a little relieved the screen is not curved because this allows us to get a robust case to protect everything.  The colors, quality and resolution are all indistuingishable compared to my s10+.  The front camera is a tiny pinhole so the entire body is pretty much all screen.  There is an in-screen fingerprint reader which is optical, rather than infrasonic on my s10+ but it is still reasonably fast to unlock the phone.  Yes it is slightly slower than my s10+ but we\'re talking milliseconds of difference.3.  General usabilityMy wife is not a gamer so I can\'t say anything about the gaming experience but she does use a ton of media and productivity apps.  For all of her use on them so far, she says they feel snappy.  They all open fast and transition well and she multitasks as much as before without a shred of difference.  When we first setup the phone, we were concerned because there was some UI lag but realized a lot of processing was being used during the Samsung Switch, which transfered her entire old phone to the new phone.  Once the switch was done, we rebooted and the phone was responsive and fast.4.  CameraThe camera hardware has some beefy specs.  But for a mostly point-and-shooter, it\'s hard to really go wrong many camera setups.  Picture quality looks great in the light and not as good in the dark compared to my s10+.  The slower camera speed is noticeable, transitioning between the main camera/wide/macro takes about a half second, where on my s10+ is pretty much instant.  The shutter is just as fast, luckily.  If camera speeds are important to you, you would probably not be happy with this phone.5.  BatteryI have to admit, we were looking forward to getting more usable time out of the battery.  The battery is 4000mah unit and the s8+ was only 3500mah.  However, through the typical daily use, we found that the end-of-day percentage left were about the same.  We average about 4 hours of on-screen time scattered throughout the day with app use and web-browsing and the battery was around 40% left, which is the same as the s8+.  If long battery life is important to you, you would not be happy with this phone but keep in mind, it can easily last an entire busy day on a single charge.Overall, we like the phone for the price of under $300.\\n\\n", "\\n\\n  LTE working on T-Mobile in US with Mint mobile, after configuring APN!Great budget phone with a fantastic screen and pretty decent camera, and enough ram for the typical person.\\n\\n", "\\n\\n  I researched this exact model and every website says that this model comes with NFC, but it doesn\'t. I noticed a customer ask the question if this model has NFC and it seems it was the seller who said it does have NFC. This phone is an international phone and it has some things in the settings that are in Spanish when I chose \\"English\\" in the setup. This phone also came with Android Auto preinstalled, but there is no way to open the app. Uninstalling and reinstalling doesn\'t help either. Not pleased that this phone doesn\'t have NFC and the fact it has software bugs and it cost me $300 before tax. There are other phones out there for a lower price and even better specs. Not sure if will buy another Samsung phone after this experience.\\n\\n", "\\n\\n  I\'m happy with my purchase however I received the wrong color I ordered the black one but I do find the blue pretty so I\'ll be keeping it...phone works excellent on cricket wireless in Pennsylvania...I will recommend this phone.\\n\\n", "\\n\\n  After learning about the A51 differences I would like to say that model SM-A515F/DS has 128GB internal storage, 4GB of RAM and doesn\'t have NFC setting. Model SM-A515F/DSN has 128GB internal storage, 6GB of RAM and has the NFC setting.I purchased the Samsung Galaxy A51 Prism Crush Black phone April 27, 2020 and two days later the phone was at my doorstep (just the phone). The box came in completely sealed and it had all the accessories. After going through all the configuration (I did not setup fingerprint or face recognition at the beginning) I was in business. The colors on the Samsung Galaxy A51 are amazing. I did make a change under Settings > Display > Screen Mode, from Natural to Vivid and turn on Dark Mode. The fingerprint is under Settings > Biometrics and Security > Fingerprints. It took me a while to be able to setup fingerprint. Honestly did it like 30 times until it read 100%. You will have to move the finger to different angles until it reads your fingerprint completely. Every time it reads new lines the percentage goes higher. Once I was done, I tested it and it worked fine. I used all other 9 fingers different angles to see if it would let me login, and it DID NOT. The phone does take great pictures. I tested the macro on one of my dogs nose and WOW, the pic was stunning. The pic of a lizard was taken in macro. Calls are clear and it shows LTE with strong signal.  I am registered with MetroPCS and my dad with AT&T. I used my dad\'s AT&T sim card and it worked (picture shows Metro by T-Mobile, AT&T).The phone does have 4GB of RAM. When I purchased mine the price had drop to the point I couldn\'t pass it. I didn\'t see anything on Amazon page at that time, but I don\'t care, I\'m very happy with the phone.Aside from the A51, I purchased a Feitenn Samsung Galaxy A51 Metal Case (ASIN B0839C38GM). The case is sturdy and it DOES protect the phone. The screen protector IS NOT attached (together) to the metal case like it shows on the pictures, and the screen protector IS NOT gorilla glass, it is just regular and it doesn\'t have the whole for the front camera. I placed an order for 3 Tempered Glass (ASIN B082S7NCB8).Thanks\\n\\n", "\\n\\n  Got the phone, 4 gig ram, might not be a such thing as 6 gig . Every online seller seems to be the same few people amazon or not, it will work , camera is great but most carriers wont see the iemi and you most likely will get something like h+ . As much as i dont want to, i will have to return the phone . Samsung and att couldnt help me . I will try the us unlock a50\\n\\n", "\\n\\n  Happy to receive the phone a day early, the finger print censor isn\'t as good as it could be but the face recognition is amazing especially on a lower end phone. The last Samsung I had was a galaxy note 8, I have tried other android phones from Motorola to lg and nothing can compare to a samsung. I haven\'t had the phone long will update in a month. But so far happy with the phone. I use cricket as my carrier and was able to put my sim card in and it read it right away. I\'m getting decent service on the phone better than what I did with my previous phone. I like how light the phone feels, it also fits well in my hands for texting and calling. I don\'t need all the high end bells and whistles so the phone does everything I need for It is an amazing budget phone.\\n\\n", "\\n\\n  This is a really nice phone, after 3 month I\'m finally writing a review and all I can say that this phone is worth it. It come with an extra case as well and the back looks spectacular with the rainbow reflection. Another amazing thing about the phone is the responsiveness because it is quite quick and it handles everything you throw at it. The camera quality is really good, finger print works good, face id is quick, the display looks very good, and overall I would recommend this phone to anyone.\\n\\n", "\\n\\n  This is false advertisement it\'s not 6gb of RAM it only has 4gb very upset I would put a negative 5 because I don\'t like to get ripped off so buyer beware and also like to add the Box wasn\'t sealed it with no stickers and barely any information on the box about the spec\'s very suspicious\\n\\n", "\\n\\n  Don\'t buy! It\'s 4gb of ram! Not 6gb! Customer support from BREED is utter garbageWill change review if something is done EDIT: THEY CHANGED IT TO NOT SHOW 6GB BUT CHARGE SAME PRICE FOR 4GB\\n\\n", "\\n\\n  I purchased the 128GB with 4GB ram model in all black.  My wife\'s S8+ that was close to becoming non-functional and I needed a new phone asap.  I had previously purchased an A20s for my son and so I first ordered the A30s until I did some research regarding my mobile provider T-Mobile in the US.I cancelled the A30s and got the A51 primarily because of the supported LTE bands. T-Mobile uses the following bands2, 4, 5, 12, 66, 71The A30s only supports band 5 from the that list!However, the A51 supports band 2, 4, 5, 12 and 66.  I was gladly willing to pay a little more to ensure I had maximum connectivity with my carrier so I cancelled the A30s and purchased the A51 instead.Now with that primary consideration out of the way, on to the rest of the review.  I\'ll start with the best parts first.1.  Call quality, reception and connectivityThe call quality is excellent on this phone, right up there with my s10+.  I think the microphone quality has been improved because my wife loves using the speakerphone and on her hold s8+, her voice occasionally cut out here and there as the mic tried to pick up her voice.  Also, the sound quality of the voice has improved as well which further helps to understand the conversation.  Reception has been about the same compared to my s10+, which is to say pretty good.  We measured on signel strength and asu.  The mobile data speeds are excellent even in areas that are typically weaker in signal strength.2.  ScreenSamsung AMOLEDs are the best in the business when it comes to screen quality.  We are a little relieved the screen is not curved because this allows us to get a robust case to protect everything.  The colors, quality and resolution are all indistuingishable compared to my s10+.  The front camera is a tiny pinhole so the entire body is pretty much all screen.  There is an in-screen fingerprint reader which is optical, rather than infrasonic on my s10+ but it is still reasonably fast to unlock the phone.  Yes it is slightly slower than my s10+ but we\'re talking milliseconds of difference.3.  General usabilityMy wife is not a gamer so I can\'t say anything about the gaming experience but she does use a ton of media and productivity apps.  For all of her use on them so far, she says they feel snappy.  They all open fast and transition well and she multitasks as much as before without a shred of difference.  When we first setup the phone, we were concerned because there was some UI lag but realized a lot of processing was being used during the Samsung Switch, which transfered her entire old phone to the new phone.  Once the switch was done, we rebooted and the phone was responsive and fast.4.  CameraThe camera hardware has some beefy specs.  But for a mostly point-and-shooter, it\'s hard to really go wrong many camera setups.  Picture quality looks great in the light and not as good in the dark compared to my s10+.  The slower camera speed is noticeable, transitioning between the main camera/wide/macro takes about a half second, where on my s10+ is pretty much instant.  The shutter is just as fast, luckily.  If camera speeds are important to you, you would probably not be happy with this phone.5.  BatteryI have to admit, we were looking forward to getting more usable time out of the battery.  The battery is 4000mah unit and the s8+ was only 3500mah.  However, through the typical daily use, we found that the end-of-day percentage left were about the same.  We average about 4 hours of on-screen time scattered throughout the day with app use and web-browsing and the battery was around 40% left, which is the same as the s8+.  If long battery life is important to you, you would not be happy with this phone but keep in mind, it can easily last an entire busy day on a single charge.Overall, we like the phone for the price of under $300.\\n\\n", "\\n\\n  LTE working on T-Mobile in US with Mint mobile, after configuring APN!Great budget phone with a fantastic screen and pretty decent camera, and enough ram for the typical person.\\n\\n", "\\n\\n  I researched this exact model and every website says that this model comes with NFC, but it doesn\'t. I noticed a customer ask the question if this model has NFC and it seems it was the seller who said it does have NFC. This phone is an international phone and it has some things in the settings that are in Spanish when I chose \\"English\\" in the setup. This phone also came with Android Auto preinstalled, but there is no way to open the app. Uninstalling and reinstalling doesn\'t help either. Not pleased that this phone doesn\'t have NFC and the fact it has software bugs and it cost me $300 before tax. There are other phones out there for a lower price and even better specs. Not sure if will buy another Samsung phone after this experience.\\n\\n", "\\n\\n  I\'m happy with my purchase however I received the wrong color I ordered the black one but I do find the blue pretty so I\'ll be keeping it...phone works excellent on cricket wireless in Pennsylvania...I will recommend this phone.\\n\\n", "\\n\\n  After learning about the A51 differences I would like to say that model SM-A515F/DS has 128GB internal storage, 4GB of RAM and doesn\'t have NFC setting. Model SM-A515F/DSN has 128GB internal storage, 6GB of RAM and has the NFC setting.I purchased the Samsung Galaxy A51 Prism Crush Black phone April 27, 2020 and two days later the phone was at my doorstep (just the phone). The box came in completely sealed and it had all the accessories. After going through all the configuration (I did not setup fingerprint or face recognition at the beginning) I was in business. The colors on the Samsung Galaxy A51 are amazing. I did make a change under Settings > Display > Screen Mode, from Natural to Vivid and turn on Dark Mode. The fingerprint is under Settings > Biometrics and Security > Fingerprints. It took me a while to be able to setup fingerprint. Honestly did it like 30 times until it read 100%. You will have to move the finger to different angles until it reads your fingerprint completely. Every time it reads new lines the percentage goes higher. Once I was done, I tested it and it worked fine. I used all other 9 fingers different angles to see if it would let me login, and it DID NOT. The phone does take great pictures. I tested the macro on one of my dogs nose and WOW, the pic was stunning. The pic of a lizard was taken in macro. Calls are clear and it shows LTE with strong signal.  I am registered with MetroPCS and my dad with AT&T. I used my dad\'s AT&T sim card and it worked (picture shows Metro by T-Mobile, AT&T).The phone does have 4GB of RAM. When I purchased mine the price had drop to the point I couldn\'t pass it. I didn\'t see anything on Amazon page at that time, but I don\'t care, I\'m very happy with the phone.Aside from the A51, I purchased a Feitenn Samsung Galaxy A51 Metal Case (ASIN B0839C38GM). The case is sturdy and it DOES protect the phone. The screen protector IS NOT attached (together) to the metal case like it shows on the pictures, and the screen protector IS NOT gorilla glass, it is just regular and it doesn\'t have the whole for the front camera. I placed an order for 3 Tempered Glass (ASIN B082S7NCB8).Thanks\\n\\n", "\\n\\n  Got the phone, 4 gig ram, might not be a such thing as 6 gig . Every online seller seems to be the same few people amazon or not, it will work , camera is great but most carriers wont see the iemi and you most likely will get something like h+ . As much as i dont want to, i will have to return the phone . Samsung and att couldnt help me . I will try the us unlock a50\\n\\n", "\\n\\n  Happy to receive the phone a day early, the finger print censor isn\'t as good as it could be but the face recognition is amazing especially on a lower end phone. The last Samsung I had was a galaxy note 8, I have tried other android phones from Motorola to lg and nothing can compare to a samsung. I haven\'t had the phone long will update in a month. But so far happy with the phone. I use cricket as my carrier and was able to put my sim card in and it read it right away. I\'m getting decent service on the phone better than what I did with my previous phone. I like how light the phone feels, it also fits well in my hands for texting and calling. I don\'t need all the high end bells and whistles so the phone does everything I need for It is an amazing budget phone.\\n\\n", "\\n\\n  This is a really nice phone, after 3 month I\'m finally writing a review and all I can say that this phone is worth it. It come with an extra case as well and the back looks spectacular with the rainbow reflection. Another amazing thing about the phone is the responsiveness because it is quite quick and it handles everything you throw at it. The camera quality is really good, finger print works good, face id is quick, the display looks very good, and overall I would recommend this phone to anyone.\\n\\n", "\\n\\n  After having Samsung and LG phones for the past 10+ years, I took a chance with the Redmi 9. What a fantastic phone this has been. And, for a fraction of the cost. I will admit, my Samsung S9 was a great phone and did perform slightly faster. However for the price point, it\'s not even an issue. The battery life on this phone surpasses that of the S9 by a long shot. The dual SIM feature allows me to have one phone with two numbers, eliminating my seconds cell phone for business. All in all, this phone is a true winner and I will continue with this brand.\\n\\n", "\\n\\n  I had the note 7, note 8 Pro and I just purchased the 9 dual SIM for my son. These phones are absolutely unbeatable at twice the price. Very durable, great processors, nice screen, face recognition is flawless.\\n\\n", "\\n\\n  Saludos compr\\u00e9 el tel\\u00e9fono y le met\\u00ed la sin car de metro PCS y se refleja pero no puedo realizar llamadas ni nada y en la rese\\u00f1a dice que es debloqueado de f\\u00e1brica\\n\\n", "\\n\\n  Cons:The MIUI is the most obnoxious UI I have ever used. It\'s just not as clean feeling as stock android or other phones I\'ve used.There is no option in the boot loader to wipe cache partition. So if your phone starts acting up your only option is to reinstall the OS.The phone dialer has asian characters on it. Replaced with stock android phone/text/contacts apps.Text messaging has constant nag screens to use their Xioami cloud service. Fixed with replacing with stock android apps.I kept getting popups to activate the sim card even though the phone was already working with my provider. It was fixed by disabling notifications for that app.The fingerprint reader is....awkward. It works. But it just isn\'t very responsive. The one on my Huawei phone was flawless.The wifi takes a minute to connect. Once connected it\'s fine. Again, my Huawei phone was instantaneous. It would connect to the wifi immediately.Pros:Excellent battery life.Runs fast enough for what I use it for.Very bright screen.Other:The phone gets better reception in some areas and worse in others than my old Huawei phone. So I guess it\'s kind of a wash. Neither positive nor negative.Probably going to root this thing and install stock android at some point. The UI really is miserable.\\n\\n", "\\n\\n  I have been using my new phone for nearly two months now. I am very happy with it! The phone came with the US standard charger as well as a clear phone case and screen protection layer is already on! I charge the battery about every 3-4 days. I am not a heavy phone user. This phone suits my needs in every way!!\\n\\n", "\\n\\n  This phone was awesome. It had a beautiful display, it was fast, photos were beautiful the phone did not feel like the price. It felt high quality.It was 4g LTE with voLTE. Unfortunately cricket stated they don\'t support xiaomi phones. The phone service however worked and I made phone calls with no issue and text messages. I will definitely be looking into xiaomi as a top brand. I\'m coming from iPhones and Samsung models.\\n\\n", "\\n\\n  We were able to get it to work with ATT. I had initially started a return request but after toggling a setting, it now works.It\'s a nice phone. Has 128GB storage.Will worry about the 5g, VoLTE later in 2022.\\n\\n", "\\n\\n  First time buy the brand phone, phone is amazing, big battery, big screen, great memory, only 4 start because of the wrong charge\\n\\n", "\\n\\n  All in all a great phone, but I was unable to alphabetize my apps!!! That\'s a deal breaker\\n\\n", "\\n\\n  this mobile has a failure closes the call while I\'m talking, and it does it constantly, in hands-free and normal call.\\n\\n", "\\n\\n  After having Samsung and LG phones for the past 10+ years, I took a chance with the Redmi 9. What a fantastic phone this has been. And, for a fraction of the cost. I will admit, my Samsung S9 was a great phone and did perform slightly faster. However for the price point, it\'s not even an issue. The battery life on this phone surpasses that of the S9 by a long shot. The dual SIM feature allows me to have one phone with two numbers, eliminating my seconds cell phone for business. All in all, this phone is a true winner and I will continue with this brand.\\n\\n", "\\n\\n  I had the note 7, note 8 Pro and I just purchased the 9 dual SIM for my son. These phones are absolutely unbeatable at twice the price. Very durable, great processors, nice screen, face recognition is flawless.\\n\\n", "\\n\\n  Saludos compr\\u00e9 el tel\\u00e9fono y le met\\u00ed la sin car de metro PCS y se refleja pero no puedo realizar llamadas ni nada y en la rese\\u00f1a dice que es debloqueado de f\\u00e1brica\\n\\n", "\\n\\n  Cons:The MIUI is the most obnoxious UI I have ever used. It\'s just not as clean feeling as stock android or other phones I\'ve used.There is no option in the boot loader to wipe cache partition. So if your phone starts acting up your only option is to reinstall the OS.The phone dialer has asian characters on it. Replaced with stock android phone/text/contacts apps.Text messaging has constant nag screens to use their Xioami cloud service. Fixed with replacing with stock android apps.I kept getting popups to activate the sim card even though the phone was already working with my provider. It was fixed by disabling notifications for that app.The fingerprint reader is....awkward. It works. But it just isn\'t very responsive. The one on my Huawei phone was flawless.The wifi takes a minute to connect. Once connected it\'s fine. Again, my Huawei phone was instantaneous. It would connect to the wifi immediately.Pros:Excellent battery life.Runs fast enough for what I use it for.Very bright screen.Other:The phone gets better reception in some areas and worse in others than my old Huawei phone. So I guess it\'s kind of a wash. Neither positive nor negative.Probably going to root this thing and install stock android at some point. The UI really is miserable.\\n\\n", "\\n\\n  I have been using my new phone for nearly two months now. I am very happy with it! The phone came with the US standard charger as well as a clear phone case and screen protection layer is already on! I charge the battery about every 3-4 days. I am not a heavy phone user. This phone suits my needs in every way!!\\n\\n", "\\n\\n  This phone was awesome. It had a beautiful display, it was fast, photos were beautiful the phone did not feel like the price. It felt high quality.It was 4g LTE with voLTE. Unfortunately cricket stated they don\'t support xiaomi phones. The phone service however worked and I made phone calls with no issue and text messages. I will definitely be looking into xiaomi as a top brand. I\'m coming from iPhones and Samsung models.\\n\\n", "\\n\\n  We were able to get it to work with ATT. I had initially started a return request but after toggling a setting, it now works.It\'s a nice phone. Has 128GB storage.Will worry about the 5g, VoLTE later in 2022.\\n\\n", "\\n\\n  First time buy the brand phone, phone is amazing, big battery, big screen, great memory, only 4 start because of the wrong charge\\n\\n", "\\n\\n  All in all a great phone, but I was unable to alphabetize my apps!!! That\'s a deal breaker\\n\\n", "\\n\\n  this mobile has a failure closes the call while I\'m talking, and it does it constantly, in hands-free and normal call.\\n\\n"]'
In [20]:
with open("amazon.json", "w") as outfile:
    outfile.write(json_file)
In [21]:
import pandas as pd
df = pd.read_json("amazon.json")
df.to_csv("amazon_csv.csv")
df.to_excel (r'amazon_csv.xlsx', index = None, header=True)
df
Out[21]:
0
0	
1	\n\n Lo primero, he de decir que esta opinión...
2	\n\n Spedizione ottima, ordinato domenica e r...
3	\n\n Il telefono è una bomba è davvero bello ...
4	\n\n Overall I have this phone now for a few ...
...	...
289	\n\n This phone was awesome. It had a beautif...
290	\n\n We were able to get it to work with ATT....
291	\n\n First time buy the brand phone, phone is...
292	\n\n All in all a great phone, but I was unab...
293	\n\n this mobile has a failure closes the cal...
294 rows × 1 columns

In [22]:
import nltk
nltk.download('wordnet')
[nltk_data] Downloading package wordnet to
[nltk_data]     C:\Users\win0920\AppData\Roaming\nltk_data...
[nltk_data]   Package wordnet is already up-to-date!
Out[22]:
True
In [23]:
df = df.replace('\n','', regex=True)
df.fillna("Not Available")
df.rename(columns={0: 'comment'})
Out[23]:
comment
0	
1	Lo primero, he de decir que esta opinión es ...
2	Spedizione ottima, ordinato domenica e ricev...
3	Il telefono è una bomba è davvero bello , l'...
4	Overall I have this phone now for a few days...
...	...
289	This phone was awesome. It had a beautiful d...
290	We were able to get it to work with ATT. I h...
291	First time buy the brand phone, phone is ama...
292	All in all a great phone, but I was unable t...
293	this mobile has a failure closes the call wh...
294 rows × 1 columns

In [24]:
from nltk.tokenize import word_tokenize, RegexpTokenizer
In [25]:
words = []
for i in df[0]:
    tokenizer = RegexpTokenizer(r'\w+')
    word = tokenizer.tokenize(i)
    words.extend(word)
words
Out[25]:
['Lo',
 'primero',
 'he',
 'de',
 'decir',
 'que',
 'esta',
 'opinión',
 'es',
 'la',
 'de',
 'un',
 'comprador',
 'real',
 'nadie',
 'me',
 'ha',
 'pagado',
 'por',
 'ella',
 'ni',
 'me',
 'ha',
 'ofrecido',
 'productos',
 'gratis',
 'Lo',
 'digo',
 'porque',
 'le',
 'pongo',
 '5',
 'estrellas',
 'al',
 'Xiaomi',
 'Redmi',
 'Note',
 '10',
 'Pro',
 'de',
 '6',
 'GB',
 'de',
 'RAM',
 'y',
 '128',
 'GB',
 'de',
 'almacenamiento',
 'interno',
 'Adquirido',
 'hace',
 'un',
 'par',
 'de',
 'semanas',
 'he',
 'de',
 'decir',
 'que',
 'el',
 'teléfono',
 'me',
 'está',
 'resultando',
 'tan',
 'satisfactorio',
 'como',
 'mi',
 'anterior',
 'Huawei',
 'P30',
 'Lite',
 'caído',
 'en',
 'acto',
 'de',
 'servicio',
 'pero',
 'con',
 'el',
 'añadido',
 'de',
 'más',
 'memoria',
 'RAM',
 'un',
 'procesador',
 'más',
 'potente',
 'y',
 'una',
 'pantalla',
 'mayor',
 'No',
 'se',
 'calienta',
 'nada',
 'el',
 'sensor',
 'de',
 'huellas',
 'lateral',
 'funciona',
 'a',
 'la',
 'perfección',
 'el',
 'reconocimiento',
 'facial',
 'va',
 'como',
 'un',
 'tiro',
 'y',
 'el',
 'conjunto',
 'de',
 'cámaras',
 'es',
 'más',
 'que',
 'satisfactorio',
 'Puedes',
 'hacer',
 'fotos',
 'incluso',
 'a',
 'máximo',
 'de',
 'resolución',
 '108',
 'mpx',
 'y',
 'luego',
 'hacer',
 'recortes',
 'pudiendo',
 'así',
 'suplir',
 'perfectamente',
 'la',
 'falta',
 'de',
 'un',
 'pequeño',
 'zoom',
 'óptico',
 'Los',
 'juegos',
 'se',
 'ejecutan',
 'sin',
 'problemas',
 'y',
 'el',
 'streaming',
 'va',
 'muy',
 'fluido',
 'La',
 'carga',
 'de',
 'su',
 'batería',
 'de',
 '5',
 '000',
 'mAh',
 'es',
 'muy',
 'rápida',
 'y',
 'el',
 'NFC',
 'funciona',
 'a',
 'la',
 'perfección',
 'De',
 'momento',
 'estoy',
 'muy',
 'satisfecho',
 'Spedizione',
 'ottima',
 'ordinato',
 'domenica',
 'e',
 'ricevuto',
 'martedì',
 'Aveva',
 'un',
 'app',
 'di',
 'Windtre',
 'installata',
 'non',
 'ho',
 'capito',
 'se',
 'si',
 'tratti',
 'di',
 'una',
 'versione',
 'brandizzata',
 'o',
 'globale',
 'ad',
 'ogni',
 'modo',
 'aveva',
 'solo',
 'quella',
 'è',
 'bastato',
 'rimuoverla',
 'Telefono',
 'piuttosto',
 'grande',
 'con',
 'un',
 'ottima',
 'fotocamera',
 'ed',
 'una',
 'buona',
 'usabilità',
 'per',
 'uso',
 'quotidiano',
 'schermo',
 'amoled',
 'davvero',
 'stupendo',
 'Peccato',
 'che',
 'non',
 'ci',
 'sia',
 'l',
 'opzione',
 'per',
 'disabilitare',
 'la',
 'ricarica',
 'rapida',
 'bisognerebbe',
 'procurarsi',
 'un',
 'caricatore',
 'più',
 'lento',
 'a',
 'parte',
 'Vedremo',
 'se',
 'riscontrerò',
 'il',
 'tanto',
 'discusso',
 'problema',
 'al',
 'sensore',
 'di',
 'prossimità',
 'avendo',
 'effettuato',
 'solo',
 'poche',
 'telefonate',
 'finora',
 'non',
 'l',
 'ho',
 'riscontrato',
 'ma',
 'non',
 'è',
 'escluso',
 'che',
 'lo',
 'riscontri',
 'Si',
 'spera',
 'che',
 'questi',
 'problemi',
 'vengano',
 'risolti',
 'al',
 'più',
 'presto',
 'con',
 'gli',
 'aggiornamenti',
 'della',
 'Miui',
 'Il',
 'telefono',
 'è',
 'una',
 'bomba',
 'è',
 'davvero',
 'bello',
 'l',
 'unica',
 'pecca',
 'sta',
 'sulla',
 'batteria',
 'pensavo',
 'durasse',
 'di',
 'più',
 'visto',
 'che',
 'ha',
 '5020',
 'di',
 'batteria',
 'Deluso',
 'dalla',
 'batteria',
 'Overall',
 'I',
 'have',
 'this',
 'phone',
 'now',
 'for',
 'a',
 'few',
 'days',
 'and',
 'it',
 's',
 'good',
 'The',
 'battery',
 'is',
 'great',
 'it',
 'works',
 'fine',
 'but',
 'there',
 'is',
 'one',
 'major',
 'problem',
 'I',
 'think',
 'that',
 's',
 'the',
 'reason',
 'for',
 'one',
 'star',
 'and',
 'it',
 's',
 'the',
 'fact',
 'that',
 'when',
 'you',
 're',
 'on',
 'a',
 'call',
 'the',
 'screen',
 'is',
 'not',
 'turned',
 'off',
 'and',
 'you',
 'can',
 'push',
 'some',
 'buttons',
 'with',
 'your',
 'face',
 'It',
 'happened',
 'to',
 'me',
 'that',
 'it',
 'mutes',
 'my',
 'call',
 'or',
 'turn',
 'on',
 'the',
 'loudspeaker',
 'or',
 'put',
 'the',
 'call',
 'on',
 'hold',
 'to',
 'that',
 'is',
 'a',
 'major',
 'issue',
 'for',
 'me',
 'that',
 'shows',
 'this',
 'product',
 'is',
 'not',
 'mature',
 'enough',
 'I',
 'm',
 'quite',
 'disappointed',
 'Otherwise',
 'for',
 'the',
 'rest',
 'it',
 'does',
 'the',
 'job',
 'so',
 'far',
 'La',
 'cosa',
 'che',
 'mi',
 'ha',
 'dato',
 'sui',
 'nervi',
 'e',
 'appartentemente',
 'non',
 'c',
 'è',
 'rimedio',
 'è',
 'il',
 'sensore',
 'di',
 'prossimità',
 'che',
 'disattiva',
 'lo',
 'schermo',
 'durante',
 'le',
 'chiamate',
 'che',
 'non',
 'funziona',
 'MAI',
 'bene',
 'attivando',
 'cose',
 'a',
 'caso',
 'spesso',
 'se',
 'lo',
 'si',
 'tiene',
 'con',
 'la',
 'spalla',
 'impazzisce',
 'e',
 'a',
 'volte',
 'si',
 'stacca',
 'la',
 'chiamata',
 'si',
 'attiva',
 'il',
 'mute',
 'o',
 'inspiegabilmente',
 'si',
 'attiva',
 'il',
 'flash',
 'della',
 'fotocamera',
 'PERCHÈ',
 'creandomi',
 'non',
 'pochi',
 'disagi',
 'anche',
 'con',
 'gli',
 'audio',
 'di',
 'Whatsapp',
 'Per',
 'il',
 'resto',
 'sono',
 'abbastanza',
 'soddisfatto',
 'batteria',
 'dura',
 'quasi',
 'due',
 'giorni',
 'pieni',
 'utilizzando',
 'in',
 'prevalenza',
 'social',
 'e',
 'con',
 'l',
 'hotspot',
 'acceso',
 'almeno',
 '3',
 'ore',
 'al',
 'giorno',
 'fotocamera',
 'che',
 'non',
 'fa',
 'troppo',
 'rimpiangere',
 'il',
 'top',
 'di',
 'gamma',
 'Mi10T',
 'e',
 'processore',
 'scattante',
 'ne',
 'fanno',
 'un',
 'ottimo',
 'fascia',
 'media',
 'Lo',
 'schermo',
 'è',
 'molto',
 'brillante',
 'essendo',
 'un',
 'super',
 'AMOLED',
 'Altri',
 'difetti',
 'le',
 'fotocamere',
 'sporgono',
 'come',
 'un',
 'balcone',
 'e',
 'c',
 'è',
 'bisogno',
 'di',
 'una',
 'cover',
 'abbastanza',
 'importante',
 'per',
 'evitare',
 'che',
 'si',
 'fracassino',
 'il',
 'già',
 'citato',
 'SENSORE',
 'DI',
 'PROSSIMITA',
 'e',
 'la',
 'qualità',
 'delle',
 'foto',
 'al',
 'buio',
 'rispeto',
 'ad',
 'altri',
 'concorrenti',
 'di',
 'fascia',
 'media',
 'ottima',
 'la',
 'camera',
 'grandangolare',
 'e',
 'super',
 'grandangolare',
 'Valido',
 'nel',
 'complesso',
 'ma',
 'delusione',
 'totale',
 'per',
 'il',
 'sensore',
 'sopra',
 'citato',
 'Amazon',
 'una',
 'garanzia',
 'arrivato',
 'in',
 'anticipo',
 'e',
 'ben',
 'imballato',
 '4',
 'stelle',
 'Arrivato',
 'prima',
 'del',
 'previsto',
 'complimenti',
 'al',
 'venditore',
 'ed',
 'a',
 'Amazon',
 'come',
 'sempre',
 'Dopo',
 'qualche',
 'giorno',
 'di',
 'utilizzo',
 'posso',
 'dire',
 'che',
 'è',
 'davvero',
 'un',
 'ottimo',
 'smartphone',
 'veloce',
 'e',
 'fluido',
 'anche',
 'dopo',
 'ore',
 'di',
 'utilizzo',
 'Fotocamera',
 'e',
 'batteria',
 'eccezionali',
 'Por',
 'defecto',
 'la',
 'pantalla',
 'viene',
 'a',
 '60',
 'h',
 'lo',
 'cambié',
 'a',
 '120',
 'y',
 'duró',
 'la',
 'bateria',
 'medio',
 'diaEl',
 'senson',
 'de',
 'proximidad',
 'para',
 'hablar',
 'no',
 'apaga',
 'la',
 'pantalla',
 'al',
 'acercarlo',
 'a',
 'la',
 'oreja',
 'lo',
 'que',
 'hace',
 'que',
 'cada',
 'vez',
 'que',
 'hablopulse',
 'todo',
 'Al',
 'hablar',
 'con',
 'el',
 'altavoz',
 'se',
 'quejan',
 'todos',
 'de',
 'que',
 'no',
 'se',
 'me',
 'escucha',
 'tengo',
 'que',
 'poner',
 'el',
 'micrófono',
 'a',
 '10',
 'cm',
 'máximo',
 'o',
 'no',
 'me',
 'entienden',
 'nada',
 'La',
 'duración',
 'de',
 'la',
 'batería',
 'dos',
 'días',
 'con',
 'poco',
 'uso',
 'Doveva',
 'arrivare',
 'tra',
 'il',
 '27',
 'e',
 'il',
 '29',
 'aprile',
 'invece',
 'sorpresa',
 'è',
 'arrivato',
 'il',
 '26',
 'Cellulare',
 'top',
 'La',
 'consegna',
 'è',
 'stata',
 'iper',
 'veloce',
 'ci',
 'ha',
 'messo',
 'soltanto',
 'due',
 'giorni',
 'Imballaggio',
 'accurato',
 'e',
 'sicuro',
 'Lo',
 'primero',
 'he',
 'de',
 'decir',
 'que',
 'esta',
 'opinión',
 'es',
 'la',
 'de',
 'un',
 'comprador',
 'real',
 'nadie',
 'me',
 'ha',
 'pagado',
 'por',
 'ella',
 'ni',
 'me',
 'ha',
 'ofrecido',
 'productos',
 'gratis',
 'Lo',
 'digo',
 'porque',
 'le',
 'pongo',
 '5',
 'estrellas',
 'al',
 'Xiaomi',
 'Redmi',
 'Note',
 '10',
 'Pro',
 'de',
 '6',
 'GB',
 'de',
 'RAM',
 'y',
 '128',
 'GB',
 'de',
 'almacenamiento',
 'interno',
 'Adquirido',
 'hace',
 'un',
 'par',
 'de',
 'semanas',
 'he',
 'de',
 'decir',
 'que',
 'el',
 'teléfono',
 'me',
 'está',
 'resultando',
 'tan',
 'satisfactorio',
 'como',
 'mi',
 'anterior',
 'Huawei',
 'P30',
 'Lite',
 'caído',
 'en',
 'acto',
 'de',
 'servicio',
 'pero',
 'con',
 'el',
 'añadido',
 'de',
 'más',
 'memoria',
 'RAM',
 'un',
 'procesador',
 'más',
 'potente',
 'y',
 'una',
 'pantalla',
 'mayor',
 'No',
 'se',
 'calienta',
 'nada',
 'el',
 'sensor',
 'de',
 'huellas',
 'lateral',
 'funciona',
 'a',
 'la',
 'perfección',
 'el',
 'reconocimiento',
 'facial',
 'va',
 'como',
 'un',
 'tiro',
 'y',
 'el',
 'conjunto',
 'de',
 'cámaras',
 'es',
 'más',
 'que',
 'satisfactorio',
 'Puedes',
 'hacer',
 'fotos',
 'incluso',
 'a',
 'máximo',
 'de',
 'resolución',
 '108',
 'mpx',
 'y',
 'luego',
 'hacer',
 'recortes',
 'pudiendo',
 'así',
 'suplir',
 'perfectamente',
 'la',
 'falta',
 'de',
 'un',
 'pequeño',
 'zoom',
 'óptico',
 'Los',
 'juegos',
 'se',
 'ejecutan',
 'sin',
 'problemas',
 'y',
 'el',
 'streaming',
 'va',
 'muy',
 'fluido',
 'La',
 'carga',
 'de',
 'su',
 'batería',
 'de',
 '5',
 '000',
 'mAh',
 'es',
 'muy',
 'rápida',
 'y',
 'el',
 'NFC',
 'funciona',
 'a',
 'la',
 'perfección',
 'De',
 'momento',
 'estoy',
 'muy',
 'satisfecho',
 'Spedizione',
 'ottima',
 'ordinato',
 'domenica',
 'e',
 'ricevuto',
 'martedì',
 'Aveva',
 'un',
 'app',
 'di',
 'Windtre',
 'installata',
 'non',
 'ho',
 'capito',
 'se',
 'si',
 'tratti',
 'di',
 'una',
 'versione',
 'brandizzata',
 'o',
 'globale',
 'ad',
 'ogni',
 'modo',
 ...]
In [26]:
len(words)
Out[26]:
36697
In [27]:
from nltk import FreqDist
frequency = FreqDist(words)
frequency
Out[27]:
FreqDist({'the': 1411, 'I': 907, 'and': 821, 'a': 803, 'it': 738, 'is': 714, 'to': 669, 'phone': 658, 'with': 411, 'of': 369, ...})
In [28]:
unique_words = []
for i in frequency:
    unique_words.append(i)
len(unique_words)
Out[28]:
3788
In [29]:
from nltk import WordNetLemmatizer
lemmatizer = WordNetLemmatizer()
for i in unique_words:
    print("{} : {}".format(i, lemmatizer.lemmatize(i)))
the : the
I : I
and : and
a : a
it : it
is : is
to : to
phone : phone
with : with
of : of
for : for
in : in
this : this
The : The
that : that
t : t
on : on
s : s
my : my
you : you
was : wa
have : have
but : but
not : not
as : a
It : It
so : so
no : no
good : good
screen : screen
can : can
me : me
camera : camera
de : de
has : ha
are : are
very : very
an : an
Samsung : Samsung
or : or
all : all
el : el
get : get
like : like
had : had
be : be
at : at
y : y
great : great
from : from
than : than
which : which
use : use
will : will
la : la
battery : battery
que : que
only : only
better : better
one : one
because : because
This : This
about : about
your : your
phones : phone
if : if
price : price
time : time
just : just
device : device
2 : 2
fast : fast
more : more
don : don
Note : Note
con : con
T : T
would : would
ve : ve
well : well
they : they
es : e
now : now
there : there
really : really
best : best
un : un
when : when
quality : quality
card : card
But : But
some : some
life : life
even : even
out : out
m : m
been : been
If : If
up : up
3 : 3
much : much
version : version
days : day
using : using
also : also
new : new
charger : charger
other : other
en : en
apps : apps
Ultra : Ultra
Xiaomi : Xiaomi
does : doe
9 : 9
any : any
still : still
Redmi : Redmi
4 : 4
US : US
didn : didn
works : work
display : display
se : se
So : So
old : old
do : do
case : case
day : day
bought : bought
fingerprint : fingerprint
5 : 5
app : app
Mobile : Mobile
work : work
amazing : amazing
go : go
S21 : S21
off : off
charging : charging
nice : nice
Android : Android
doesn : doesn
we : we
far : far
what : what
got : got
want : want
charge : charge
same : same
little : little
high : high
feature : feature
did : did
after : after
by : by
10 : 10
pero : pero
mobile : mobile
am : am
1 : 1
thing : thing
able : able
used : used
issue : issue
could : could
years : year
box : box
8 : 8
sim : sim
first : first
buy : buy
Galaxy : Galaxy
super : super
every : every
mode : mode
most : most
support : support
features : feature
storage : storage
e : e
You : You
looks : look
last : last
everything : everything
back : back
say : say
And : And
lo : lo
enough : enough
while : while
came : came
After : After
S : S
al : al
Pro : Pro
come : come
memory : memory
point : point
Amazon : Amazon
its : it
brand : brand
update : update
calls : call
ever : ever
There : There
Plus : Plus
few : few
re : re
comes : come
need : need
over : over
LTE : LTE
celular : celular
were : were
ram : ram
worked : worked
happy : happy
call : call
two : two
specs : spec
sin : sin
di : di
todo : todo
Not : Not
right : right
i : i
My : My
clear : clear
wifi : wifi
service : service
LG : LG
resolution : resolution
previous : previous
then : then
software : software
color : color
video : video
since : since
recommend : recommend
make : make
excellent : excellent
muy : muy
NFC : NFC
non : non
è : è
il : il
actually : actually
those : those
games : game
made : made
deal : deal
love : love
less : le
beautiful : beautiful
heavy : heavy
started : started
rate : rate
see : see
light : light
way : way
una : una
fine : fine
para : para
completely : completely
having : having
take : take
long : long
bad : bad
pretty : pretty
calling : calling
full : full
their : their
takes : take
issues : issue
many : many
purchased : purchased
6 : 6
RAM : RAM
che : che
find : find
UI : UI
end : end
etc : etc
looking : looking
another : another
20 : 20
For : For
review : review
large : large
them : them
something : something
almost : almost
here : here
read : read
receive : receive
going : going
know : know
people : people
lot : lot
reader : reader
through : through
wasn : wasn
reviews : review
hours : hour
won : won
data : data
Great : Great
working : working
por : por
per : per
put : put
return : return
cell : cell
already : already
though : though
under : under
stock : stock
keep : keep
international : international
until : until
found : found
model : model
performance : performance
before : before
MIUI : MIUI
settings : setting
too : too
Google : Google
5G : 5G
photos : photo
flagship : flagship
S20 : S20
getting : getting
s21 : s21
si : si
think : think
top : top
pay : pay
power : power
being : being
give : give
anything : anything
absolutely : absolutely
worth : worth
note : note
Battery : Battery
android : android
where : where
ha : ha
Overall : Overall
quite : quite
awesome : awesome
ll : ll
pictures : picture
fantastic : fantastic
into : into
took : took
without : without
That : That
Camera : Camera
big : big
bit : bit
xiaomi : xiaomi
value : value
30 : 30
open : open
plus : plus
snappy : snappy
s8 : s8
A51 : A51
teléfono : teléfono
Huawei : Huawei
La : La
bright : bright
bien : bien
definitely : definitely
again : again
isn : isn
4G : 4G
unlock : unlock
Apple : Apple
makes : make
cameras : camera
smooth : smooth
feel : feel
mi : mi
sensor : sensor
o : o
hear : hear
budget : budget
experience : experience
AT : AT
cargador : cargador
upgrade : upgrade
size : size
overall : overall
finger : finger
128GB : 128GB
cannot : cannot
bloatware : bloatware
should : should
haven : haven
SIM : SIM
wireless : wireless
Wifi : Wifi
signal : signal
12 : 12
option : option
slightly : slightly
Unfortunately : Unfortunately
They : They
cost : cost
setup : setup
refresh : refresh
s10 : s10
más : más
funciona : funciona
fact : fact
AMOLED : AMOLED
Just : Just
huge : huge
either : either
may : may
her : her
ya : ya
decided : decided
piece : piece
ordered : ordered
protector : protector
year : year
cool : cool
things : thing
money : money
quick : quick
start : start
such : such
week : week
feels : feel
ultra : ultra
le : le
pantalla : pantalla
No : No
disappointed : disappointed
due : due
del : del
poco : poco
system : system
A : A
buen : buen
este : este
Phone : Phone
Will : Will
play : play
100 : 100
weight : weight
connected : connected
couldn : couldn
expect : expect
unlocked : unlocked
around : around
tried : tried
hardware : hardware
iPhone : iPhone
home : home
Also : Also
supported : supported
carriers : carrier
both : both
speed : speed
V30 : V30
300 : 300
change : change
sure : sure
speeds : speed
main : main
headphone : headphone
jack : jack
decent : decent
weeks : week
normal : normal
standard : standard
needs : need
All : All
0 : 0
processor : processor
times : time
different : different
saying : saying
6x : 6x
wide : wide
perfect : perfect
these : these
micro : micro
setting : setting
difference : difference
S8 : S8
S10 : S10
We : We
000 : 000
build : build
provider : provider
pen : pen
area : area
Yes : Yes
voice : voice
worse : worse
sometimes : sometimes
bands : band
macro : macro
buying : buying
Very : Very
how : how
solid : solid
Lo : Lo
nada : nada
zoom : zoom
mAh : mAh
uso : uso
batteria : batteria
star : star
face : face
shows : show
job : job
media : medium
smartphone : smartphone
negative : negative
else : else
custom : custom
never : never
videos : video
Excelente : Excelente
equipo : equipo
llegó : llegó
company : company
los : los
google : google
green : green
d : d
carrier : carrier
gets : get
seen : seen
scanner : scanner
help : help
Snapdragon : Snapdragon
own : own
understand : understand
pro : pro
global : global
said : said
7 : 7
reception : reception
IS : IS
away : away
slot : slot
slower : slower
Fast : Fast
Other : Other
once : once
installed : installed
sound : sound
running : running
50 : 50
seem : seem
brightness : brightness
stuck : stuck
64 : 64
mention : mention
pleased : pleased
usage : usage
however : however
improved : improved
network : network
automatically : automatically
What : What
available : available
left : left
least : least
series : series
expandable : expandable
doing : doing
wrong : wrong
easy : easy
included : included
night : night
purchase : purchase
front : front
done : done
Honor : Honor
between : between
gb : gb
extra : extra
order : order
seller : seller
dual : dual
higher : higher
carga : carga
batería : batería
dura : dura
highly : highly
needed : needed
las : la
problems : problem
El : El
calidad : calidad
son : son
minutes : minute
galaxy : galaxy
speaker : speaker
opinion : opinion
means : mean
let : let
tech : tech
seems : seems
part : part
control : control
game : game
wanted : wanted
market : market
When : When
colors : color
research : research
faster : faster
anyone : anyone
water : water
yet : yet
itself : itself
bump : bump
headphones : headphone
add : add
GB : GB
está : está
problemas : problemas
momento : momento
l : l
major : major
turn : turn
rest : rest
audio : audio
120 : 120
become : become
On : On
side : side
compatible : compatible
particular : particular
charges : charge
built : built
As : As
Really : Really
wife : wife
send : send
precio : precio
hay : hay
llego : llego
comprar : comprar
adaptador : adaptador
producto : producto
puedo : puedo
caja : caja
mucho : mucho
kind : kind
second : second
seconds : second
responsive : responsive
gorgeous : gorgeous
expected : expected
breaker : breaker
shouldn : shouldn
half : half
6GB : 6GB
replace : replace
Verizon : Verizon
IMEI : IMEI
spent : spent
okay : okay
European : European
pre : pre
noticed : noticed
Chinese : Chinese
66 : 66
fully : fully
LCD : LCD
hand : hand
email : email
account : account
bigger : bigger
simply : simply
single : single
angles : angle
remove : remove
Global : Global
However : However
fix : fix
save : save
U : U
expectations : expectation
longer : longer
whole : whole
Screen : Screen
models : model
curved : curved
extremely : extremely
noticeable : noticeable
later : later
powerful : powerful
incredible : incredible
Mi : Mi
supports : support
twice : twice
continue : continue
In : In
she : she
Pixel : Pixel
ok : ok
Performance : Performance
Once : Once
drawer : drawer
angle : angle
close : close
SD : SD
OS : OS
black : black
care : care
knew : knew
Version : Version
recognition : recognition
6gb : 6gb
coming : coming
myself : myself
nor : nor
felt : felt
us : u
entire : entire
heart : heart
MST : MST
1440p : 1440p
boot : boot
base : base
NOT : NOT
4GB : 4GB
A30s : A30s
hace : hace
como : como
perfectamente : perfectamente
telefono : telefono
happened : happened
hold : hold
product : product
metro : metro
live : live
talk : talk
Pros : Pros
Cons : Cons
graphics : graphic
switch : switch
connection : connection
Me : Me
changed : changed
redmi : redmi
Then : Then
online : online
AMAZING : AMAZING
past : past
immediately : immediately
Metro : Metro
11 : 11
Update : Update
ratio : ratio
transfer : transfer
why : why
lasts : last
impressed : impressed
pics : pic
cheap : cheap
important : important
says : say
low : low
browsing : browsing
regular : regular
next : next
unit : unit
try : try
picture : picture
doubt : doubt
instead : instead
allow : allow
decir : decir
esta : esta
real : real
128 : 128
va : va
hacer : hacer
fotos : fotos
108 : 108
ottima : ottima
solo : solo
fotocamera : fotocamera
schermo : schermo
davvero : davvero
più : più
problema : problema
sensore : sensore
problem : problem
reason : reason
c : c
tiene : tiene
cover : cover
drop : drop
sounds : sound
annoying : annoying
fixed : fixed
install : install
goes : go
received : received
daily : daily
dark : dark
buck : buck
our : our
recommended : recommended
mejor : mejor
Llegó : Llegó
tiempo : tiempo
compra : compra
alta : alta
empaquetado : empaquetado
fue : fue
americano : americano
bandas : bandas
three : three
touch : touch
antes : ante
embargo : embargo
phenomenal : phenomenal
look : look
text : text
barely : barely
loud : loud
number : number
basic : basic
64mp : 64mp
images : image
gaming : gaming
paying : paying
print : print
lacks : lack
wish : wish
notch : notch
dropped : dropped
bar : bar
thought : thought
package : package
type : type
slots : slot
tired : tired
flawless : flawless
Definitely : Definitely
months : month
From : From
lacking : lacking
always : always
behind : behind
bottom : bottom
create : create
APN : APN
txts : txts
OLED : OLED
blacks : black
accounts : account
Every : Every
generation : generation
restore : restore
honestly : honestly
decision : decision
run : run
Thank : Thank
premium : premium
store : store
factory : factory
reset : reset
With : With
space : space
Even : Even
watching : watching
pic : pic
easily : easily
BUT : BUT
adjust : adjust
cellphone : cellphone
band : band
password : password
finally : finally
IPS : IPS
medium : medium
strength : strength
International : International
true : true
By : By
apparently : apparently
check : check
unable : unable
AirTel : AirTel
advertised : advertised
web : web
YouTube : YouTube
multiple : multiple
cons : con
none : none
glass : glass
fan : fan
photo : photo
Got : Got
portrait : portrait
ended : ended
currently : currently
cut : cut
Do : Do
nothing : nothing
Both : Both
neat : neat
First : First
MP : MP
Especially : Especially
allows : allows
upgraded : upgraded
bunch : bunch
month : month
user : user
Bluetooth : Bluetooth
OnePlus : OnePlus
pixel : pixel
usable : usable
white : white
capability : capability
At : At
TMobile : TMobile
hands : hand
ton : ton
forward : forward
newest : newest
sd : sd
microSD : microSD
accessories : accessory
missing : missing
capable : capable
feeling : feeling
Glass : Glass
movies : movie
ATT : ATT
Sim : Sim
who : who
exact : exact
S9 : S9
limited : limited
villain : villain
888 : 888
added : added
Don : Don
density : density
screens : screen
Samsungs : Samsungs
internal : internal
devices : device
4gb : 4gb
tabs : tab
larger : larger
saving : saving
pimple : pimple
Super : Super
compared : compared
business : business
cricket : cricket
he : he
ni : ni
grande : grande
días : días
wait : wait
stars : star
replacement : replacement
aplicaciones : aplicaciones
arrived : arrived
Call : Call
poor : poor
gonna : gonna
especially : especially
whatever : whatever
USA : USA
Can : Can
must : must
800 : 800
texting : texting
hassle : hassle
bucks : buck
equal : equal
biggest : biggest
went : went
comparison : comparison
including : including
although : although
impressive : impressive
browser : browser
notice : notice
certain : certain
shot : shot
resistant : resistant
switched : switched
adapter : adapter
protect : protect
connect : connect
hard : hard
returned : returned
edge : edge
might : might
soon : soon
selfie : selfie
120hz : 120hz
protection : protection
attention : attention
information : information
small : small
flat : flat
fairly : fairly
porque : porque
almacenamiento : almacenamiento
par : par
satisfactorio : satisfactorio
servicio : servicio
memoria : memoria
procesador : procesador
mayor : mayor
perfección : perfección
cámaras : cámaras
incluso : incluso
máximo : máximo
así : así
pequeño : pequeño
Los : Los
fluido : fluido
su : su
estoy : estoy
ho : ho
ad : ad
ed : ed
amoled : amoled
ci : ci
rapida : rapida
parte : parte
prossimità : prossimità
ma : ma
gli : gli
della : della
attiva : attiva
anche : anche
abbastanza : abbastanza
giorni : giorni
hotspot : hotspot
acceso : acceso
ore : ore
giorno : giorno
gamma : gamma
ottimo : ottimo
fascia : fascia
citato : citato
grandangolare : grandangolare
arrivato : arrivato
utilizzo : utilizzo
veloce : veloce
Por : Por
60 : 60
h : h
bateria : bateria
medio : medio
hablar : hablar
apaga : apaga
vez : vez
Al : Al
tengo : tengo
dos : do
27 : 27
29 : 29
sorpresa : sorpresa
Works : Works
functional : functional
future : future
updates : update
ROM : ROM
Although : Although
becoming : becoming
quickly : quickly
satisfied : satisfied
drive : drive
Amazing : Amazing
often : often
MetroPCS : MetroPCS
brings : brings
bang : bang
present : present
Good : Good
emails : email
record : record
regresar : regresar
Es : Es
camara : camara
ahí : ahí
relación : relación
gama : gama
probar : probar
Muy : Muy
rapido : rapido
primera : primera
64GB : 64GB
usarlo : usarlo
trae : trae
América : América
funcione : funcione
2G : 2G
reboot : reboot
frequently : frequently
freeze : freeze
modelo : modelo
Ahora : Ahora
verde : verde
gustó : gustó
después : después
costo : costo
beneficio : beneficio
sí : sí
punto : punto
aprox : aprox
tienes : tienes
casi : casi
excelente : excelente
unos : unos
cámara : cámara
rendimiento : rendimiento
corriente : corriente
había : había
Saludos : Saludos
cargar : cargar
pesado : pesado
cual : cual
ago : ago
quarter : quarter
complain : complain
slowmo : slowmo
hide : hide
afraid : afraid
lovely : lovely
looked : looked
fit : fit
Side : Side
detection : detection
button : button
incoming : incoming
known : known
called : called
literally : literally
45 : 45
Honestly : Honestly
function : function
making : making
receiving : receiving
consider : consider
keeping : keeping
250 : 250
course : course
lasted : lasted
error : error
Ecuador : Ecuador
daño : daño
covered : covered
reading : reading
speak : speak
crystal : crystal
runs : run
x : x
dump : dump
knock : knock
Launcher : Launcher
totally : totally
launcher : launcher
charged : charged
whereas : whereas
unfortunately : unfortunately
breakers : breaker
returning : returning
moderate : moderate
Tmobile : Tmobile
guarantee : guarantee
networks : network
iphone : iphone
gave : gave
bars : bar
Wish : Wish
Huge : Huge
opening : opening
Display : Display
alright : alright
mess : mess
4g : 4g
720 : 720
checks : check
One : One
womp : womp
shipped : shipped
Mine : Mine
com : com
gone : gone
Still : Still
customer : customer
beats : beat
straight : straight
constantly : constantly
quirks : quirk
compare : compare
security : security
sign : sign
Secondly : Secondly
frame : frame
33 : 33
corner : corner
aspect : aspect
January : January
VoLTE : VoLTE
indicated : indicated
status : status
thru : thru
prefer : prefer
follow : follow
process : process
4k : 4k
repeating : repeating
across : across
head : head
gives : give
notifications : notification
internet : internet
People : People
penny : penny
Many : Many
plenty : plenty
forever : forever
points : point
insane : insane
owned : owned
playing : playing
ive : ive
MB : MB
yes : yes
x1 : x1
uninstall : uninstall
sold : sold
indian : indian
useless : useless
Model : Model
wipe : wipe
date : date
asks : asks
downloaded : downloaded
computer : computer
hate : hate
samsung : samsung
vibration : vibration
haptic : haptic
feedback : feedback
description : description
exactly : exactly
About : About
tablet : tablet
capacity : capacity
above : above
Sometimes : Sometimes
stop : stop
updated : updated
beware : beware
Blu : Blu
Pure : Pure
Xioami : Xioami
meant : meant
edition : edition
native : native
recording : recording
conversation : conversation
assume : assume
indicate : indicate
recorder : recorder
caller : caller
failed : failed
American : American
enable : enable
VoWifi : VoWifi
enabled : enabled
Considering : Considering
meet : meet
Get : Get
Of : Of
name : name
gigs : gig
quad : quad
nearly : nearly
bezel : bezel
bother : bother
despite : despite
HUGE : HUGE
5000mAh : 5000mAh
movie : movie
Prime : Prime
Netflix : Netflix
typically : typically
remaining : remaining
several : several
throughout : throughout
lag : lag
tax : tax
background : background
bulky : bulky
possible : possible
bulk : bulk
consistent : consistent
toe : toe
amazon : amazon
debloated : debloated
third : third
fits : fit
lags : lag
beast : beast
legit : legit
additional : additional
outlets : outlet
maybe : maybe
snapdragon : snapdragon
fastest : fastest
messaging : messaging
1080p : 1080p
lg : lg
stick : stick
matter : matter
volume : volume
daughter : daughter
pin : pin
external : external
Coming : Coming
conditions : condition
sale : sale
G7 : G7
mine : mine
slow : slow
rather : rather
initial : initial
summary : summary
reasonable : reasonable
gorilla : gorilla
durable : durable
clean : clean
metal : metal
appears : appears
sturdy : sturdy
contrast : contrast
Software : Software
experienced : experienced
iPhones : iPhones
primary : primary
photography : photography
view : view
40 : 40
Happy : Happy
effect : effect
reasonably : reasonably
seemed : seemed
flawlessly : flawlessly
download : download
sent : sent
messages : message
expansion : expansion
intend : intend
separately : separately
mid : mid
consideration : consideration
average : average
options : option
output : output
interface : interface
luck : luck
GPS : GPS
manufacturer : manufacturer
stay : stay
forced : forced
posted : posted
ready : ready
zero : zero
excited : excited
freezing : freezing
warranty : warranty
fraction : fraction
acting : acting
Thanks : Thanks
wend : wend
Mark : Mark
lost : lost
charm : charm
giving : giving
world : world
bonus : bonus
thinking : thinking
newer : newer
overseas : overseas
hope : hope
eventually : eventually
person : person
camper : camper
expecting : expecting
24 : 24
8gb : 8gb
core : core
THIS : THIS
PHONE : PHONE
DOES : DOES
replaced : replaced
paid : paid
learning : learning
Things : Things
starts : start
Mint : Mint
N10 : N10
Adreno : Adreno
GPU : GPU
latest : latest
90Hz : 90Hz
Gorilla : Gorilla
choose : choose
total : total
Slingshot : Slingshot
numbers : number
during : during
EE : EE
files : file
India : India
sims : sims
travel : travel
stated : stated
mostly : mostly
title : title
CDMA : CDMA
plan : plan
opcion : opcion
beginning : beginning
S3 : S3
Edge : Edge
die : die
offered : offered
remember : remember
industry : industry
upgrades : upgrade
productivity : productivity
trade : trade
Case : Case
ought : ought
Processor : Processor
differences : difference
Powered : Powered
letters : letter
256 : 256
processing : processing
cpu : cpu
cooling : cooling
lifespan : lifespan
show : show
each : each
worry : worry
concerned : concerned
45w : 45w
25w : 25w
Why : Why
ppi : ppi
breaks : break
Let : Let
existence : existence
Hz : Hz
Power : Power
aggressive : aggressive
C : C
HDR : HDR
superior : superior
upset : upset
initially : initially
lots : lot
cloud : cloud
likely : likely
balance : balance
sealed : sealed
cancelled : cancelled
areas : area
talking : talking
admit : admit
typical : typical
percentage : percentage
lower : lower
SM : SM
A515F : A515F
Settings : Settings
Mode : Mode
reads : read
tested : tested
dad : dad
ASIN : ASIN
gig : gig
tan : tan
juegos : juegos
escucha : escucha
avoid : avoid
launch : launch
tenido : tenido
today : today
hasta : hasta
otro : otro
muchísimo : muchísimo
unas : unas
buenos : buenos
sea : sea
años : años
razón : razón
impresionante : impresionante
desde : desde
ninguna : ninguna
thoughts : thought
equipment : equipment
properly : properly
aunque : aunque
ningun : ningun
told : told
wouldn : wouldn
set : set
everywhere : everywhere
taking : taking
asked : asked
God : God
happens : happens
YOUR : YOUR
ear : ear
To : To
Original : Original
Price : Price
Your : Your
mentioning : mentioning
bothered : bothered
pros : pro
FL : FL
Received : Received
popped : popped
considering : considering
loved : loved
level : level
Better : Better
IR : IR
blaster : blaster
believe : believe
heats : heat
till : till
genial : genial
mes : me
compre : compre
friend : friend
PCS : PCS
She : She
plastic : plastic
field : field
bring : bring
possibly : possibly
direct : direct
fail : fail
match : match
packaged : packaged
scrolling : scrolling
DIDN : DIDN
morning : morning
smart : smart
rating : rating
release : release
AKG : AKG
upgrading : upgrading
putting : putting
IP68 : IP68
class : class
geekbench : geekbench
wider : wider
mentioned : mentioned
wired : wired
modes : mode
outstanding : outstanding
recently : recently
selling : selling
middle : middle
sit : sit
share : share
cars : car
silly : silly
scratches : scratch
request : request
free : free
attached : attached
Now : Now
guess : guess
failure : failure
EDIT : EDIT
magnetic : magnetic
probably : probably
body : body
previously : previously
primero : primero
opinión : opinión
comprador : comprador
nadie : nadie
pagado : pagado
ella : ella
ofrecido : ofrecido
productos : productos
gratis : gratis
digo : digo
pongo : pongo
estrellas : estrellas
interno : interno
Adquirido : Adquirido
semanas : semanas
resultando : resultando
anterior : anterior
P30 : P30
Lite : Lite
caído : caído
acto : acto
añadido : añadido
potente : potente
calienta : calienta
huellas : huellas
lateral : lateral
reconocimiento : reconocimiento
facial : facial
tiro : tiro
conjunto : conjunto
Puedes : Puedes
resolución : resolución
mpx : mpx
luego : luego
recortes : recortes
pudiendo : pudiendo
suplir : suplir
falta : falta
óptico : óptico
ejecutan : ejecutan
streaming : streaming
rápida : rápida
De : De
satisfecho : satisfecho
Spedizione : Spedizione
ordinato : ordinato
domenica : domenica
ricevuto : ricevuto
martedì : martedì
Aveva : Aveva
Windtre : Windtre
installata : installata
capito : capito
tratti : tratti
versione : versione
brandizzata : brandizzata
globale : globale
ogni : ogni
modo : modo
aveva : aveva
quella : quella
bastato : bastato
rimuoverla : rimuoverla
Telefono : Telefono
piuttosto : piuttosto
buona : buona
usabilità : usabilità
quotidiano : quotidiano
stupendo : stupendo
Peccato : Peccato
sia : sia
opzione : opzione
disabilitare : disabilitare
ricarica : ricarica
bisognerebbe : bisognerebbe
procurarsi : procurarsi
caricatore : caricatore
lento : lento
Vedremo : Vedremo
riscontrerò : riscontrerò
tanto : tanto
discusso : discusso
avendo : avendo
effettuato : effettuato
poche : poche
telefonate : telefonate
finora : finora
riscontrato : riscontrato
escluso : escluso
riscontri : riscontri
Si : Si
spera : spera
questi : questi
problemi : problemi
vengano : vengano
risolti : risolti
presto : presto
aggiornamenti : aggiornamenti
Miui : Miui
Il : Il
bomba : bomba
bello : bello
unica : unica
pecca : pecca
sta : sta
sulla : sulla
pensavo : pensavo
durasse : durasse
visto : visto
5020 : 5020
Deluso : Deluso
dalla : dalla
turned : turned
push : push
buttons : button
mutes : mute
loudspeaker : loudspeaker
mature : mature
Otherwise : Otherwise
cosa : cosa
dato : dato
sui : sui
nervi : nervi
appartentemente : appartentemente
rimedio : rimedio
disattiva : disattiva
durante : durante
chiamate : chiamate
funziona : funziona
MAI : MAI
bene : bene
attivando : attivando
cose : cose
caso : caso
spesso : spesso
spalla : spalla
impazzisce : impazzisce
volte : volta
stacca : stacca
chiamata : chiamata
mute : mute
inspiegabilmente : inspiegabilmente
flash : flash
PERCHÈ : PERCHÈ
creandomi : creandomi
pochi : pochi
disagi : disagi
Whatsapp : Whatsapp
Per : Per
resto : resto
sono : sono
soddisfatto : soddisfatto
quasi : quasi
pieni : pieni
utilizzando : utilizzando
prevalenza : prevalenza
social : social
almeno : almeno
fa : fa
troppo : troppo
rimpiangere : rimpiangere
Mi10T : Mi10T
processore : processore
scattante : scattante
ne : ne
fanno : fanno
molto : molto
brillante : brillante
essendo : essendo
Altri : Altri
difetti : difetti
fotocamere : fotocamere
sporgono : sporgono
balcone : balcone
bisogno : bisogno
importante : importante
evitare : evitare
fracassino : fracassino
già : già
SENSORE : SENSORE
DI : DI
PROSSIMITA : PROSSIMITA
qualità : qualità
delle : delle
foto : foto
buio : buio
rispeto : rispeto
altri : altri
concorrenti : concorrenti
Valido : Valido
nel : nel
complesso : complesso
delusione : delusione
totale : totale
sopra : sopra
garanzia : garanzia
anticipo : anticipo
ben : ben
imballato : imballato
stelle : stelle
Arrivato : Arrivato
prima : prima
previsto : previsto
complimenti : complimenti
venditore : venditore
sempre : sempre
Dopo : Dopo
qualche : qualche
posso : posso
dire : dire
dopo : dopo
Fotocamera : Fotocamera
eccezionali : eccezionali
defecto : defecto
viene : viene
cambié : cambié
duró : duró
diaEl : diaEl
senson : senson
proximidad : proximidad
acercarlo : acercarlo
oreja : oreja
cada : cada
hablopulse : hablopulse
altavoz : altavoz
quejan : quejan
todos : todos
poner : poner
micrófono : micrófono
cm : cm
entienden : entienden
duración : duración
Doveva : Doveva
arrivare : arrivare
tra : tra
aprile : aprile
invece : invece
26 : 26
Cellulare : Cellulare
consegna : consegna
stata : stata
iper : iper
messo : messo
soltanto : soltanto
Imballaggio : Imballaggio
accurato : accurato
sicuro : sicuro
fee : fee
costs : cost
radios : radio
miss : miss
80 : 80
Those : Those
cafeteria : cafeteria
pain : pain
substantial : substantial
buggy : buggy
sporadic : sporadic
glitches : glitch
installing : installing
difficult : difficult
recent : recent
Develop : Develop
viable : viable
recovery : recovery
ROMs : ROMs
fortunately : fortunately
likeliness : likeliness
awsome : awsome
solution : solution
greatly : greatly
increase : increase
yesterday : yesterday
pleasant : pleasant
eyes : eye
worrying : worrying
hoping : hoping
west : west
Going : Going
sticking : sticking
frustrating : frustrating
gift : gift
anniversary : anniversary
mad : mad
Corresponde : Corresponde
expectativas : expectativas
Angeles : Angeles
encanto : encanto
tuve : tuve
venia : venia
deabloqueado : deabloqueado
respecto : respecto
mucha : mucha
funcionamiento : funcionamiento
gral : gral
pesar : pesar
última : última
actualización : actualización
raro : raro
fuera : fuera
acabo : acabo
cambiar : cambiar
otra : otra
desventaja : desventaja
razonable : razonable
concidero : concidero
sellado : sellado
orden : orden
quede : quede
convencido : convencido
duda : duda
gran : gran
trajo : trajo
incluido : incluido
bueno : bueno
según : según
Lamentablemente : Lamentablemente
operadores : operadores
Estados : Estados
Unidos : Unidos
tube : tube
europa : europa
usamos : usamos
europeas : europeas
posiblemente : posiblemente
puede : puede
sería : sería
agradable : agradable
operadoras : operadoras
lemon : lemon
thank : thank
Había : Había
comprado : comprado
TELMOV : TELMOV
tuvieron : tuvieron
mal : mal
tino : tino
pegarle : pegarle
santo : santo
seña : seña
qué : qué
cuánto : cuánto
costó : costó
amantes : amantes
ajeno : ajeno
sacaron : sacaron
mí : mí
entregaron : entregaron
vacía : vacía
hecho : hecho
reembolso : reembolso
dinero : dinero
volví : volví
vendedor : vendedor
sellos : sellos
Amazón : Amazón
cajita : cajita
sellada : sellada
era : era
degradado : degradado
verdecito : verdecito
principio : principio
calentó : calentó
arriba : arriba
específicamente : específicamente
donde : donde
están : están
horas : horas
normalizó : normalizó
funcionando : funcionando
rapidísima : rapidísima
general : general
cuestión : cuestión
Estoy : Estoy
casada : casada
terminales : terminales
precios : precios
competitivos : competitivos
satisfecha : satisfecha
contratiempos : contratiempos
temas : temas
Gran : Gran
Durante : Durante
semana : semana
funcionó : funcionó
partir : partir
2da : 2da
empecé : empecé
notar : notar
teclado : teclado
alentaba : alentaba
En : En
movía : movía
estaba : estaba
escribiendo : escribiendo
hacía : hacía
desastre : desastre
enviar : enviar
mensajes : mensajes
escribir : escribir
notas : notas
También : También
pasado : pasado
ocasiones : ocasiones
reinicia : reinicia
llevo : llevo
meses : me
Traté : Traté
devolverlo : devolverlo
venció : venció
plazo : plazo
recomiendo : recomiendo
esos : esos
detalles : detalles
pueden : pueden
llegar : llegar
ser : ser
desesperantes : desesperantes
reiniciar : reiniciar
móvil : móvil
seguirlo : seguirlo
usando : usando
siempre : siempre
soluciona : soluciona
razonablemente : razonablemente
tenía : tenía
viejito : viejito
comparación : comparación
duraba : duraba
doble : doble
indicado : indicado
alguna : alguna
pude : pude
adquirir : adquirir
Telmov : Telmov
busque : busque
otros : otros
proveedores : proveedores
pesos : peso
encontré : encontré
capacidad : capacidad
Tecnolife : Tecnolife
equiparable : equiparable
sonido : sonido
ambos : ambo
lados : lados
único : único
malo : malo
insignificante : insignificante
completa : completa
52mins : 52mins
día : día
Las : Las
contras : contra
desbloquear : desbloquear
Parece : Parece
frecuente : frecuente
Sugiero : Sugiero
esperar : esperar
actualizaciones : actualizaciones
simplemente : simplemente
mismas : mismas
capacidades : capacidades
alguno : alguno
estimado : estimado
elegido : elegido
blanco : blanco
yo : yo
pedido : pedido
Dejando : Dejando
lado : lado
ese : ese
detalle : detalle
perfecto : perfecto
Compre : Compre
articulo : articulo
tema : tema
tienda : tienda
funciono : funciono
correctamente : correctamente
entrar : entrar
descargar : descargar
igual : igual
registrar : registrar
cuenta : cuenta
Hablando : Hablando
considero : considero
celulares : celulares
Xoami : Xoami
ó : ó
Huawie : Huawie
excelentes : excelentes
espacio : espacio
almacenar : almacenar
archivos : archivos
Un : Un
recomendable : recomendable
queja : queja
eh : eh
batallado : batallado
querer : querer
necesario : necesario
hora : hora
tendras : tendras
cargado : cargado
genera : genus
suficiente : suficiente
friccion : friccion
sostener : sostener
Nececita : Nececita
entrada : entrada
europea : europea
absolute : absolute
favorite : favorite
overdue : overdue
Between : Between
4K : 4K
64Mp : 64Mp
warn : warn
slows : slows
down : down
math : math
incredibly : incredibly
break : break
asking : asking
Day : Day
narrower : narrower
shorter : shorter
PROSScreen : PROSScreen
novel : novel
pleasing : pleasing
CONSI : CONSI
callers : caller
leave : leave
message : message
subpar : subpar
equalizer : equalizer
line : line
ring : ring
dialed : dialed
EVERY : EVERY
GSM : GSM
sooo : sooo
praise : praise
stacks : stack
cleanest : cleanest
500 : 500
picky : picky
latency : latency
novedad : novedad
importado : importado
tuvo : tuvo
ningún : ningún
owning : owning
A70 : A70
liked : liked
crap : crap
universal : universal
broke : broke
YAY : YAY
comparing : comparing
Apps : Apps
perfectly : perfectly
Buy : Buy
720G : 720G
2400 : 2400
1080 : 1080
FHD : FHD
64MP : 64MP
Major : Major
equip : equip
affinity : affinity
Bloatware : Bloatware
functionalities : functionality
ridiculous : ridiculous
inferior : inferior
brew : brew
flexware : flexware
buyers : buyer
buena : buena
inversion : inversion
gusto : gusto
sobresale : sobresale
carcaza : carcaza
nota : nota
Funciona : Funciona
toma : toma
buenas : buenas
gigante : gigante
Tardare : Tardare
short : short
fake : fake
LOVE : LOVE
Seriously : Seriously
alone : alone
crisp : crisp
phantom : phantom
touches : touch
touched : touched
hover : hover
thinks : think
tapped : tapped
accept : accept
based : based
coverage : coverage
Insert : Insert
intermittently : intermittently
lose : lose
crummy : crummy
activated : activated
instructions : instruction
HOURS : HOURS
diminishing : diminishing
75 : 75
Swapping : Swapping
existing : existing
warnings : warning
whiners : whiner
moaning : moaning
warned : warned
closest : closest
nifty : nifty
cpus : cpu
6g : 6g
spry : spry
boxes : box
downer : downer
UPDATE : UPDATE
21 : 21
Shipping : Shipping
spare : spare
Carrier : Carrier
Wingalpha : Wingalpha
worried : worried
anxiety : anxiety
P : P
normally : normally
loyal : loyal
spades : spade
recharging : recharging
Never : Never
generations : generation
unfair : unfair
Firstly : Firstly
risk : risk
Lately : Lately
Venmo : Venmo
unauthorized : unauthorized
ins : in
breach : breach
customizable : customizable
Flagship : Flagship
moot : moot
split : split
drag : drag
float : float
window : window
screenThirdly : screenThirdly
mms : mm
outgoing : outgoing
2021 : 2021
subscribers : subscriber
3G : 3G
dig : dig
downstream : downstream
Fourthly : Fourthly
Looked : Looked
Fifth : Fifth
minor : minor
tall : tall
Light : Light
bleed : bleed
grays : gray
bleeding : bleeding
Sixth : Sixth
transferring : transferring
seamless : seamless
allowed : allowed
Had : Had
unlike : unlike
seamlessness : seamlessness
focused : focused
negatives : negative
positives : positive
themselves : themselves
instance : instance
rear : rear
mp : mp
Conclusion : Conclusion
holdover : holdover
Either : Either
Edit : Edit
16 : 16
Forgot : Forgot
waterproof : waterproof
usually : usually
skews : skews
readily : readily
explained : explained
nervous : nervous
ordering : ordering
1k : 1k
researching : researching
affordable : affordable
alternatives : alternative
alternative : alternative
Robin : Robin
Hood : Hood
frugal : frugal
standards : standard
banned : banned
hence : hence
browse : browse
Photos : Photos
nicely : nicely
Seller : Seller
within : within
shipping : shipping
Little : Little
ur : ur
palms : palm
Initially : Initially
Play : Play
crazy : crazy
below : below
Razer : Razer
boots : boot
flawlessbattery : flawlessbattery
netflix : netflix
smsthe : smsthe
48 : 48
48MB : 48MB
adjustment : adjustment
flip : flip
x2 : x2
magnification : magnification
fumbling : fumbling
ALL : ALL
camerassettings : camerassettings
BASE : BASE
cleaning : cleaning
theirs : theirs
IMO : IMO
acordado : acordado
Bien : Bien
empacado : empacado
tal : tal
descripción : descripción
versión : versión
REALLY : REALLY
FEEL : FEEL
CHEATED : CHEATED
sell : sell
M2003J6B2G : M2003J6B2G
M2003J6A1I : M2003J6A1I
DEMAND : DEMAND
MY : MY
REFUND : REFUND
iMyFone : iMyFone
LockWiper : LockWiper
Eventually : Eventually
Worth : Worth
equipped : equipped
lcd : lcd
panels : panel
improvement : improvement
tooooooo : tooooooo
loooooong : loooooong
Lasts : Lasts
3days : 3days
Moderate : Moderate
joke : joke
radio : radio
motor : motor
removed : removed
intensity : intensity
soft : soft
hi : hi
tapping : tapping
default : default
seriously : seriously
precise : precise
menu : menu
isVersion : isVersion
V11 : V11
QJZEUXM : QJZEUXM
MIUI11 : MIUI11
According : According
EEA : EEA
batteries : battery
comfortable : comfortable
unqualified : unqualified
USE : USE
signals : signal
weak : weak
intermittent : intermittent
interrupted : interrupted
punches : punch
ways : way
pop : pop
frequent : frequent
outages : outage
disconnected : disconnected
miui : miui
unlimited : unlimited
originally : originally
2018 : 2018
uogradeable : uogradeable
XL : XL
shattered : shattered
sad : sad
gesture : gesture
relied : relied
recordings : recording
lobbying : lobbying
campaign : campaign
stifle : stifle
competition : competition
Further : Further
evidence : evidence
users : user
srticlrs : srticlrs
activates : activates
catches : catch
faint : faint
whisper : whisper
mouth : mouth
tries : try
heard : heard
Xl : Xl
hails : hail
Save : Save
comparable : comparable
respects : respect
trying : trying
absent : absent
roundabout : roundabout
Calling : Calling
staff : staff
Jio : Jio
hurt : hurt
eye : eye
Moba : Moba
System : System
Start : Start
Return : Return
Took : Took
Weeks : Weeks
Part : Part
Money : Money
Back : Back
Around : Around
Short : Short
Give : Give
Star : Star
Getting : Getting
Bad : Bad
Steal : Steal
Terrible : Terrible
Where : Where
rival : rival
common : common
stylus : stylus
misleading : misleading
Octacore : Octacore
64mb : 64mb
lens : lens
shoots : shoot
via : via
MicroSD : MicroSD
infinity : infinity
geek : geek
ten : ten
wake : wake
wring : wring
neck : neck
constitutes : constitutes
glued : glued
Note8 : Note8
3000mAh : 3000mAh
required : required
reboots : reboots
closing : closing
HD : HD
players : player
aren : aren
espec : espec
somewhat : somewhat
spoiled : spoiled
construction : construction
brands : brand
relative : relative
TL : TL
DR : DR
240 : 240
doubtful : doubtful
destroys : destroys
links : link
oops : oops
Upgrading : Upgrading
A1 : A1
smoothly : smoothly
versatile : versatile
stabilization : stabilization
5x : 5x
scenic : scenic
views : view
GCam : GCam
lapse : lapse
spheres : sphere
gripe : gripe
Lycamobile : Lycamobile
MVNO : MVNO
correctly : correctly
cuz : cuz
grip : grip
wil : wil
upcoming : upcoming
shouldnt : shouldnt
400 : 400
dlls : dlls
amaze : amaze
cube : cube
block : block
outlet : outlet
apt : apt
720g : 720g
chip : chip
skins : skin
handy : handy
wanna : wanna
phoneCons : phoneCons
Doesn : Doesn
frequencies : frequency
stupid : stupid
accuracy : accuracy
mediocre : mediocre
Bloated : Bloated
surprised : surprised
deleting : deleting
trash : trash
Go : Go
Wal : Wal
Mart : Mart
prepaid : prepaid
cellular : cellular
Walmart : Walmart
write : write
addition : addition
bluetooth : bluetooth
supplied : supplied
booster : booster
solves : solves
incapable : incapable
solving : solving
planty : planty
Here : Here
2XLLove : 2XLLove
phoneAll : phoneAll
resolved : resolved
Audio : Audio
fire : fire
imo : imo
greatBattery : greatBattery
Revised : Revised
Returned : Returned
earlier : earlier
Researched : Researched
adneauseum : adneauseum
revise : revise
rooted : rooted
becomes : becomes
Device : Device
retainer : retainer
NEVER : NEVER
listed : listed
Website : Website
Esta : Esta
Solo : Solo
sistema : sistema
cuelga : cuelga
WhatsApp : WhatsApp
Específicamente : Específicamente
cuando : cuando
estamos : estamos
recibiendo : recibiendo
encantó : encantó
opción : opción
remoto : remoto
oara : oara
tv : tv
algunos : algunos
estuche : estuche
provide : provide
impression : impression
elaborate : elaborate
form : form
opinionsFirst : opinionsFirst
reflects : reflects
differently : differently
various : various
fault : fault
rim : rim
cause : cause
concern : concern
obviously : obviously
deep : deep
AMOLES : AMOLES
XR : XR
matches : match
Outdoor : Outdoor
visibility : visibility
installs : installs
booting : booting
ideally : ideally
Hopefully : Hopefully
slowness : slowness
installer : installer
helpful : helpful
dedicated : dedicated
intensive : intensive
subway : subway
surfers : surfer
asphalt : asphalt
complained : complained
heating : heating
concernCameras : concernCameras
snapped : snapped
standing : standing
group : group
snap : snap
gathering : gathering
XS : XS
Max : Max
capabilities : capability
produces : produce
blur : blur
Regarding : Regarding
artificial : artificial
preferred : preferred
farConnectivity : farConnectivity
Upload : Upload
WiFi : WiFi
speedIt : speedIt
monster : monster
4500 : 4500
mAmp : mAmp
damn : damn
reached : reached
played : played
watched : watched
browsed : browsed
18W : 18W
North : North
27W : 27W
Essential : Essential
additions : addition
TVs : TVs
retrieval : retrieval
arrives : arrives
lastly : lastly
mm : mm
Hardly : Hardly
ms : m
shaping : shaping
nowPlease : nowPlease
insights : insight
searching : searching
combination : combination
consumption : consumption
personal : personal
Same : Same
shots : shot
Headphone : Headphone
Jack : Jack
special : special
ignore : ignore
suggest : suggest
apple : apple
modified : modified
filled : filled
prevents : prevents
centain : centain
USB : USB
installation : installation
developer : developer
register : register
location : location
sketchy : sketchy
illegal : illegal
Anytime : Anytime
log : log
access : access
hoops : hoop
hiding : hiding
2019 : 2019
logs : log
activity : activity
creating : creating
steps : step
worst : worst
5T : 5T
7T : 7T
Asus : Asus
Zen : Zen
Everything : Everything
arrival : arrival
unscratched : unscratched
Puerto : Puerto
Rico : Rico
wondering : wondering
Claro : Claro
Provided : Provided
utterly : utterly
Witch : Witch
bummer : bummer
brick : brick
bricks : brick
against : against
Came : Came
beautifully : beautifully
fence : fence
hesitate : hesitate
upon : upon
malfunctioning : malfunctioning
shutting : shutting
corrupted : corrupted
turning : turning
annoyed : annoyed
garbage : garbage
expiring : expiring
ZTE : ZTE
ZMAX : ZMAX
2015 : 2015
prior : prior
discharged : discharged
delays : delay
Remi : Remi
frequency : frequency
site : site
versions : version
overpaid : overpaid
prices : price
blame : blame
coronavirus : coronavirus
lol : lol
tell : tell
regret : regret
Canon : Canon
II : II
Selfies : Selfies
driving : driving
Interstate : Interstate
story : story
office : office
building : building
Fingerprint : Fingerprint
Face : Face
technical : technical
amazes : amazes
duration : duration
32 : 32
gm : gm
forest : forest
Included : Included
silicone : silicone
announced : announced
waste : waste
Hoping : Hoping
Umidigi : Umidigi
adequately : adequately
dish : dish
Maybe : Maybe
someone : someone
lazy : lazy
search : search
meanwhile : meanwhile
cellphones : cellphone
Nova : Nova
revert : revert
checking : checking
Right : Right
seemless : seemless
multimedia : multimedia
Haven : Haven
buttery : buttery
lightning : lightning
Cricket : Cricket
Wireless : Wireless
rural : rural
Maryland : Maryland
truly : truly
220 : 220
750 : 750
finding : finding
exploring : exploring
happier : happier
Feels : Feels
sleek : sleek
navigate : navigate
bloat : bloat
ware : ware
moving : moving
DDR : DDR
blazing : blazing
xiachow : xiachow
200gb : 200gb
recognize : recognize
terabyte : terabyte
1tb : 1tb
proof : proof
Pic : Pic
related : related
companies : company
stocks : stock
combined : combined
octo : octo
sits : sits
120gb : 120gb
miceo : miceo
VVK : VVK
blank : blank
load : load
crash : crash
choice : choice
aware : aware
pity : pity
hasn : hasn
knocking : knocking
bundle : bundle
Memory : Memory
THE : THE
MEMORY : MEMORY
CARD : CARD
COME : COME
INCLUDED : INCLUDED
rip : rip
Only : Only
Was : Was
unsure : unsure
buyin : buyin
curve : curve
deny : deny
rugged : rugged
complete : complete
Christmas : Christmas
patient : patient
reply : reply
64gb : 64gb
cards : card
bricked : bricked
claimed : claimed
United : United
States : States
Ultimately : Ultimately
repaired : repaired
paper : paper
diseño : diseño
rraro : rraro
dimensión : dimensión
incomodo : incomodo
deberían : deberían
Whenever : Whenever
operating : operating
begins : begin
glitch : glitch
erasing : erasing
earphones : earphone
Euro : Euro
Nord : Nord
minded : minded
SnapDragon : SnapDragon
690 : 690
619L : 619L
laggy : laggy
COD : COD
Warzone : Warzone
2GB : 2GB
flagships : flagship
4A : 4A
Oxygen : Oxygen
optimization : optimization
Game : Game
Fnatic : Fnatic
watch : watch
directs : directs
resources : resource
Includes : Includes
3D : 3D
Benchmarks : Benchmarks
Extreme : Extreme
interested : interested
raw : raw
handling : handling
tougher : tougher
applications : application
includes : includes
Enjoy : Enjoy
complaints : complaint
warp : warp
shuts : shuts
alarms : alarm
tray : tray
Absolutely : Absolutely
slight : slight
inconvenience : inconvenience
Charger : Charger
wobbly : wobbly
Dual : Dual
connections : connection
UK : UK
Supplier : Supplier
delivery : delivery
sim2 : sim2
patchy : patchy
anyway : anyway
Sims : Sims
verizon : verizon
AN : AN
BUDGET : BUDGET
oneplus : oneplus
accidentally : accidentally
ONLY : ONLY
clearer : clearer
basing : basing
besides : besides
NORD : NORD
Manufactures : Manufactures
hybrid : hybrid
blurry : blurry
Havent : Havent
hors : hors
Its : Its
Needed : Needed
swipe : swipe
sprint : sprint
tine : tine
benefic : benefic
Pesimo : Pesimo
comenzo : comenzo
escucharse : escucharse
audicion : audicion
llamas : llama
costumer : costumer
reemplazo : reemplazo
devolucion : devolucion
te : te
dicen : dicen
areglarlo : areglarlo
mas : ma
caro : caro
cuesta : cuesta
verdad : verdad
pa : pa
progression : progression
evolution : evolution
foreseen : foreseen
became : became
G3 : G3
S6 : S6
S7 : S7
listened : listened
consumers : consumer
room : room
development : development
progress : progress
controls : control
hero : hero
prove : prove
realize : realize
mocked : mocked
hypocrites : hypocrite
peak : peak
FanBoy : FanBoy
items : item
payment : payment
technology : technology
thin : thin
expanded : expanded
decline : decline
Note10 : Note10
released : released
loss : loss
gain : gain
Barnone : Barnone
adaptive : adaptive
among : among
crowded : crowded
competitive : competitive
pool : pool
underwhelmed : underwhelmed
enthusiasm : enthusiasm
confidence : confidence
fatigue : fatigue
enjoying : enjoying
SPen : SPen
comfort : comfort
particularly : particularly
advancement : advancement
answer : answer
definitive : definitive
knows : know
pandemic : pandemic
consumer : consumer
behavior : behavior
advancements : advancement
distinguishing : distinguishing
defined : defined
enticing : enticing
jumped : jumped
700 : 700
S20plus : S20plus
260 : 260
buys : buy
Buds : Buds
backup : backup
Notw : Notw
Truth : Truth
nostalgic : nostalgic
reminiscing : reminiscing
Line : Line
Up : Up
Imagine : Imagine
MTS : MTS
payments : payment
exceptional : exceptional
Invictus : Invictus
5000ma : 5000ma
exciting : exciting
humble : humble
reducing : reducing
lease : lease
agreement : agreement
extend : extend
contract : contract
debt : debt
harsh : harsh
Rumor : Rumor
disturbs : disturbs
tuned : tuned
trending : trending
toward : toward
Foldables : Foldables
heaviness : heaviness
paramount : paramount
place : place
iteration : iteration
2010 : 2010
produced : produced
QHD : QHD
butter : butter
chipset : chipset
nowadays : nowadays
midrange : midrange
weighting : weighting
oz : oz
improve : improve
speakers : speaker
OK : OK
45W : 45W
older : older
jump : jump
hesitant : hesitant
lack : lack
removal : removal
iris : iris
results : result
4x : 4x
thick : thick
sweetspot : sweetspot
LOT : LOT
tend : tend
minimal : minimal
120fps : 120fps
oled : oled
sun : sun
5nm : 5nm
efficent : efficent
telephoto : telephoto
bettery : bettery
sot : sot
depending : depending
throught : throught
fhd : fhd
qhd : qhd
sharpest : sharpest
taller : taller
256gb : 256gb
Ultras : Ultras
hundred : hundred
Upon : Upon
clue : clue
original : original
glad : glad
banking : banking
malware : malware
spyware : spyware
Essentially : Essentially
SAMSUNG : SAMSUNG
GALAXY : GALAXY
ULTRA : ULTRA
showed : showed
dude : dude
Beware : Beware
scams : scam
Would : Would
unofficial : unofficial
priced : priced
cancel : cancel
homework : homework
purchases : purchase
12gb : 12gb
200 : 200
inch : inch
decoy : decoy
popcorn : popcorn
dollar : dollar
detial : detial
Front : Front
mean : mean
insanely : insanely
benchmark : benchmark
enhanced : enhanced
70 : 70
limit : limit
Desktop : Desktop
Dex : Dex
actual : actual
Acer : Acer
laptop : laptop
res : re
bargaining : bargaining
hz : hz
swiping : swiping
awe : awe
witha : witha
FYI : FYI
heat : heat
causes : cause
wear : wear
tear : tear
components : component
Customizable : Customizable
routines : routine
silencing : silencing
school : school
asleep : asleep
Dolby : Dolby
atmos : atmos
Dozens : Dozens
scenarios : scenario
stamps : stamp
walks : walk
grass : grass
bringing : bringing
friends : friend
drops : drop
minimum : minimum
orchid : orchid
gray : gray
Nobody : Nobody
hidden : hidden
teal : teal
s20 : s20
assured : assured
volatile : volatile
hot : hot
term : term
multi : multi
task : task
tons : ton
spending : spending
512 : 512
16gb : 16gb
Ram : Ram
maintaining : maintaining
smoothness : smoothness
Spen : Spen
sizes : size
material : material
backwards : backwards
4800 : 4800
4000 : 4000
offers : offer
stream : stream
lunch : lunch
100000 : 100000
forget : forget
purpose : purpose
communication : communication
uniquely : uniquely
satisfying : satisfying
Signal : Signal
dramatically : dramatically
Hotspot : Hotspot
Direct : Direct
equally : equally
house : house
CPU : CPU
SOC : SOC
Qualcomm : Qualcomm
660 : 660
5000 : 5000
Though : Though
performing : performing
caliber : caliber
exist : exist
Changing : Changing
enabling : enabling
lowest : lowest
limiting : limiting
yourself : yourself
Without : Without
energy : energy
measures : measure
Charging : Charging
25 : 25
watt : watt
USC : USC
cable : cable
five : five
varying : varying
levels : level
Wired : Wired
dead : dead
hour : hour
slowest : slowest
longevity : longevity
unless : unless
necessary : necessary
pixels : pixel
depth : depth
35 : 35
megapixels : megapixels
stills : still
8k : 8k
24fps : 24fps
60fps : 60fps
Add : Add
stability : stability
director : director
professional : professional
cameraman : cameraman
beyond : beyond
100x : 100x
comedic : comedic
gimmick : gimmick
capture : capture
Shame : Shame
Crisp : Crisp
Storage : Storage
tough : tough
ditched : ditched
oodles : oodles
stuff : stuff
wisely : wisely
infrequently : infrequently
PC : PC
settled : settled
ground : ground
190 : 190
Plenty : Plenty
TouchWiz : TouchWiz
similar : similar
revisions : revision
customizations : customizations
Features : Features
sharing : sharing
beastly : beastly
precious : precious
DEX : DEX
infant : infant
Link : Link
Windows : Windows
tuning : tuning
flashlight : flashlight
tricky : tricky
learn : learn
four : four
fingerprints : fingerprint
passes : pass
condition : condition
select : select
cases : case
pricey : pricey
Design : Design
advertising : advertising
Chocolate : Chocolate
Christina : Christina
Aguilera : Aguilera
singing : singing
competing : competing
ads : ad
corners : corner
surfaces : surface
sharpness : sharpness
radiant : radiant
elegance : elegance
near : near
perfection : perfection
Dat : Dat
thicker : thicker
craft : craft
prevent : prevent
offsetting : offsetting
panel : panel
bubble : bubble
leveler : leveler
platform : platform
HDR10 : HDR10
sharp : sharp
darn : darn
immersion : immersion
weighs : weighs
Is : Is
grand : grand
considerable : considerable
rid : rid
Corning : Corning
Micro : Micro
preserve : preserve
perfections : perfection
adolescent : adolescent
Bran : Bran
scratched : scratched
Unbelievable : Unbelievable
February : February
directly : directly
comsupntion : comsupntion
adjustments : adjustment
huawei : huawei
P20 : P20
expensive : expensive
dunno : dunno
notes : note
personally : personally
cast : cast
mount : mount
pocket : pocket
somebody : somebody
false : false
advertisement : advertisement
ripped : ripped
buyer : buyer
Box : Box
stickers : sticker
spec : spec
suspicious : suspicious
Customer : Customer
BREED : BREED
utter : utter
garbageWill : garbageWill
THEY : THEY
CHANGED : CHANGED
IT : IT
TO : TO
SHOW : SHOW
CHARGE : CHARGE
SAME : SAME
PRICE : PRICE
FOR : FOR
asap : asap
A20s : A20s
regarding : regarding
primarily : primarily
uses : us
following : following
bands2 : bands2
71The : 71The
list : list
gladly : gladly
willing : willing
ensure : ensure
maximum : maximum
connectivity : connectivity
parts : part
connectivityThe : connectivityThe
microphone : microphone
loves : love
speakerphone : speakerphone
occasionally : occasionally
mic : mic
pick : pick
further : further
helps : help
Reception : Reception
measured : measured
signel : signel
asu : asu
weaker : weaker
ScreenSamsung : ScreenSamsung
AMOLEDs : AMOLEDs
relieved : relieved
robust : robust
indistuingishable : indistuingishable
tiny : tiny
pinhole : pinhole
optical : optical
infrasonic : infrasonic
milliseconds : millisecond
General : General
usabilityMy : usabilityMy
gamer : gamer
transition : transition
multitasks : multitasks
shred : shred
realized : realized
Switch : Switch
transfered : transfered
rebooted : rebooted
CameraThe : CameraThe
beefy : beefy
shooter : shooter
setups : setup
Picture : Picture
transitioning : transitioning
instant : instant
shutter : shutter
luckily : luckily
BatteryI : BatteryI
4000mah : 4000mah
3500mah : 3500mah
scattered : scattered
mind : mind
busy : busy
configuring : configuring
researched : researched
website : website
ask : ask
question : question
Spanish : Spanish
chose : chose
English : English
Auto : Auto
preinstalled : preinstalled
Uninstalling : Uninstalling
reinstalling : reinstalling
bugs : bug
blue : blue
Pennsylvania : Pennsylvania
DS : DS
DSN : DSN
Prism : Prism
Crush : Crush
Black : Black
April : April
2020 : 2020
doorstep : doorstep
configuration : configuration
Natural : Natural
Vivid : Vivid
Dark : Dark
Biometrics : Biometrics
Security : Security
Fingerprints : Fingerprints
move : move
lines : line
fingers : finger
login : login
DID : DID
dogs : dog
nose : nose
WOW : WOW
stunning : stunning
lizard : lizard
taken : taken
Calls : Calls
strong : strong
registered : registered
pass : pas
page : page
Aside : Aside
Feitenn : Feitenn
Metal : Metal
B0839C38GM : B0839C38GM
together : together
placed : placed
Tempered : Tempered
B082S7NCB8 : B082S7NCB8
wont : wont
iemi : iemi
dont : dont
att : att
couldnt : couldnt
a50 : a50
early : early
censor : censor
Motorola : Motorola
bells : bell
whistles : whistle
writing : writing
spectacular : spectacular
rainbow : rainbow
reflection : reflection
Another : Another
responsiveness : responsiveness
handles : handle
throw : throw
id : id
chance : chance
perform : perform
surpasses : surpasses
eliminating : eliminating
winner : winner
These : These
unbeatable : unbeatable
processors : processor
compré : compré
metí : metí
car : car
refleja : refleja
realizar : realizar
llamadas : llamadas
reseña : reseña
dice : dice
debloqueado : debloqueado
fábrica : fábrica
obnoxious : obnoxious
loader : loader
cache : cache
partition : partition
reinstall : reinstall
dialer : dialer
asian : asian
characters : character
Replaced : Replaced
contacts : contact
Text : Text
constant : constant
nag : nag
Fixed : Fixed
replacing : replacing
kept : kept
popups : popups
activate : activate
disabling : disabling
awkward : awkward
minute : minute
Again : Again
instantaneous : instantaneous
Excellent : Excellent
Runs : Runs
others : others
wash : wash
Neither : Neither
positive : positive
Probably : Probably
root : root
miserable : miserable
layer : layer
suits : suit
voLTE : voLTE
toggling : toggling
Has : Has
5g : 5g
2022 : 2022
alphabetize : alphabetize
closes : close
Mate : Mate
SE : SE
disappoint : disappoint
beat : beat
champ : champ
pony : pony
excess : excess
cheaper : cheaper
Moto : Moto
Does : Does
seamlessly : seamlessly
stayed : stayed
ballgame : ballgame
dog : dog
bowl : bowl
hopefully : hopefully
Hasta : Hasta
básico : básico
rápidamente : rápidamente
jugado : jugado
básicos : básicos
respondido : respondido
retrasos : retrasos
atorones : atorones
FATAL : FATAL
HORRIBLE : HORRIBLE
prácticamente : prácticamente
adorno : adorno
salen : salen
acercando : acercando
quieres : quieres
fotografiar : fotografiar
bastante : bastante
ruido : ruido
tarde : tarde
noche : noche
viniendo : viniendo
antigüedad : antigüedad
mejora : mejora
experiencia : experiencia
graphic : graphic
delivered : delivered
accurate : accurate
Comes : Comes
Sent : Sent
Bought : Bought
extended : extended
Review : Review
pending : pending
encanta : encanta
bonito : bonito
rápido : rápido
país : país
CR : CR
señal : señal
Actualización : Actualización
sigue : sigue
dar : dar
tenerlo : tenerlo
molesto : molesto
materian : materian
rayo : rayo
bordes : bordes
tuviera : tuviera
desepcionado : desepcionado
materia : materia
supone : supone
debería : debería
rayarse : rayarse
fácilmente : fácilmente
recommendation : recommendation
interruptions : interruption
unusable : unusable
BS : BS
Providers : Providers
individual : individual
impossible : impossible
hassles : hassle
Unbridle : Unbridle
capitalism : capitalism
monopolies : monopoly
Didn : Didn
connecting : connecting
WIFI : WIFI
Panera : Panera
bread : bread
BOTTOM : BOTTOM
TOP : TOP
hearing : hearing
towards : towards
kinda : kinda
weird : weird
Brite : Brite
responding : responding
trip : trip
Tanzania : Tanzania
celluar : celluar
hooked : hooked
EXCELLENT : EXCELLENT
tour : tour
guide : guide
begin : begin
FE : FE
regrets : regret
Receiving : Receiving
Space : Space
Coast : Coast
youngest : youngest
s7 : s7
reliability : reliability
31 : 31
IF : IF
YOU : YOU
RECEIVE : RECEIVE
WIRED : WIRED
customers : customer
726 : 726
7864 : 7864
yours : yours
scammed : scammed
grain : grain
salt : salt
rendered : rendered
obsolete : obsolete
units : unit
IPhone : IPhone
max : max
4XL : 4XL
bests : best
example : example
cropping : cropping
yield : yield
result : result
useful : useful
except : except
eventhough : eventhough
Yup : Yup
design : design
wise : wise
covers : cover
slim : slim
transparent : transparent
gimmicky : gimmicky
TV : TV
chrome : chrome
anywhere : anywhere
outdoor : outdoor
surprise : surprise
smaller : smaller
practical : practical
HTML5 : HTML5
defect : defect
registering : registering
circular : circular
1500 : 1500
ends : end
IMPORTANT : IMPORTANT
Noticed : Noticed
occurring : occurring
phenomenon : phenomenon
caused : caused
Steelie : Steelie
encounter : encounter
score : score
reflect : reflect
stopped : stopped
Purchased : Purchased
damaged : damaged
Deceptively : Deceptively
protectors : protector
Pay : Pay
crown : crown
key : key
bumps : bump
namely : namely
planning : planning
spend : spend
Spigen : Spigen
effectively : effectively
reduces : reduces
desk : desk
dust : dust
saw : saw
stat : stat
report : report
incurring : incurring
damage : damage
specifically : specifically
interesting : interesting
afford : afford
everyday : everyday
houses : house
clothes : clothes
swing : swing
Lastly : Lastly
offer : offer
exceed : exceed
products : product
guy : guy
specific : specific
machine : machine
wants : want
computing : computing
Whites : Whites
dull : dull
rez : rez
habia : habia
espectaculares : espectaculares
ademas : ademas
trabajo : trabajo
funciones : funciones
lapiz : lapiz
van : van
encantado : encantado
opened : opened
soled : soled
reshipped : reshipped
stutter : stutter
pages : page
ran : ran
AND : AND
SCORED : SCORED
TERRIBLE : TERRIBLE
WTH : WTH
In [30]:
from nltk.stem import LancasterStemmer
stemmer = LancasterStemmer()
for i in unique_words:
    print("{} : {}".format(i, stemmer.stem(i)))
the : the
I : i
and : and
a : a
it : it
is : is
to : to
phone : phon
with : with
of : of
for : for
in : in
this : thi
The : the
that : that
t : t
on : on
s : s
my : my
you : you
was : was
have : hav
but : but
not : not
as : as
It : it
so : so
no : no
good : good
screen : screen
can : can
me : me
camera : camer
de : de
has : has
are : ar
very : very
an : an
Samsung : samsung
or : or
all : al
el : el
get : get
like : lik
had : had
be : be
at : at
y : y
great : gre
from : from
than : than
which : which
use : us
will : wil
la : la
battery : battery
que : que
only : on
better : bet
one : on
because : becaus
This : thi
about : about
your : yo
phones : phon
if : if
price : pric
time : tim
just : just
device : dev
2 : 2
fast : fast
more : mor
don : don
Note : not
con : con
T : t
would : would
ve : ve
well : wel
they : they
es : es
now : now
there : ther
really : real
best : best
un : un
when : when
quality : qual
card : card
But : but
some : som
life : lif
even : ev
out : out
m : m
been : been
If : if
up : up
3 : 3
much : much
version : vert
days : day
using : us
also : also
new : new
charger : charg
other : oth
en : en
apps : ap
Ultra : ultr
Xiaomi : xiaom
does : doe
9 : 9
any : any
still : stil
Redmi : redm
4 : 4
US : us
didn : didn
works : work
display : display
se : se
So : so
old : old
do : do
case : cas
day : day
bought : bought
fingerprint : fingerprint
5 : 5
app : ap
Mobile : mobl
work : work
amazing : amaz
go : go
S21 : s21
off : off
charging : charg
nice : nic
Android : android
doesn : doesn
we : we
far : far
what : what
got : got
want : want
charge : charg
same : sam
little : littl
high : high
feature : feat
did : did
after : aft
by : by
10 : 10
pero : pero
mobile : mobl
am : am
1 : 1
thing : thing
able : abl
used : us
issue : issu
could : could
years : year
box : box
8 : 8
sim : sim
first : first
buy : buy
Galaxy : galaxy
super : sup
every : every
mode : mod
most : most
support : support
features : feat
storage : stor
e : e
You : you
looks : look
last : last
everything : everyth
back : back
say : say
And : and
lo : lo
enough : enough
while : whil
came : cam
After : aft
S : s
al : al
Pro : pro
come : com
memory : mem
point : point
Amazon : amazon
its : it
brand : brand
update : upd
calls : cal
ever : ev
There : ther
Plus : plu
few : few
re : re
comes : com
need : nee
over : ov
LTE : lte
celular : celul
were : wer
ram : ram
worked : work
happy : happy
call : cal
two : two
specs : spec
sin : sin
di : di
todo : todo
Not : not
right : right
i : i
My : my
clear : clear
wifi : wif
service : serv
LG : lg
resolution : resolv
previous : prevy
then : then
software : softw
color : col
video : video
since : sint
recommend : recommend
make : mak
excellent : excel
muy : muy
NFC : nfc
non : non
è : è
il : il
actually : act
those : thos
games : gam
made : mad
deal : deal
love : lov
less : less
beautiful : beauty
heavy : heavy
started : start
rate : rat
see : see
light : light
way : way
una : un
fine : fin
para : par
completely : complet
having : hav
take : tak
long : long
bad : bad
pretty : pretty
calling : cal
full : ful
their : their
takes : tak
issues : issu
many : many
purchased : purchas
6 : 6
RAM : ram
che : che
find : find
UI : ui
end : end
etc : etc
looking : look
another : anoth
20 : 20
For : for
review : review
large : larg
them : them
something : someth
almost : almost
here : her
read : read
receive : receiv
going : going
know : know
people : peopl
lot : lot
reader : read
through : through
wasn : wasn
reviews : review
hours : hour
won : won
data : dat
Great : gre
working : work
por : por
per : per
put : put
return : return
cell : cel
already : already
though : though
under : und
stock : stock
keep : keep
international : intern
until : until
found : found
model : model
performance : perform
before : bef
MIUI : miu
settings : set
too : too
Google : googl
5G : 5g
photos : photo
flagship : flag
S20 : s20
getting : get
s21 : s21
si : si
think : think
top : top
pay : pay
power : pow
being : being
give : giv
anything : anyth
absolutely : absolv
worth : wor
note : not
Battery : battery
android : android
where : wher
ha : ha
Overall : overal
quite : quit
awesome : awesom
ll : ll
pictures : pict
fantastic : fantast
into : into
took : took
without : without
That : that
Camera : camer
big : big
bit : bit
xiaomi : xiaom
value : valu
30 : 30
open : op
plus : plu
snappy : snappy
s8 : s8
A51 : a51
teléfono : teléfono
Huawei : huawe
La : la
bright : bright
bien : bien
definitely : definit
again : again
isn : isn
4G : 4g
unlock : unlock
Apple : appl
makes : mak
cameras : camera
smooth : smoo
feel : feel
mi : mi
sensor : sens
o : o
hear : hear
budget : budget
experience : expery
AT : at
cargador : cargad
upgrade : upgrad
size : siz
overall : overal
finger : fing
128GB : 128gb
cannot : cannot
bloatware : bloatw
should : should
haven : hav
SIM : sim
wireless : wireless
Wifi : wif
signal : sign
12 : 12
option : opt
slightly : slight
Unfortunately : unfortun
They : they
cost : cost
setup : setup
refresh : refresh
s10 : s10
más : más
funciona : funcion
fact : fact
AMOLED : amol
Just : just
huge : hug
either : eith
may : may
her : her
ya : ya
decided : decid
piece : piec
ordered : ord
protector : protect
year : year
cool : cool
things : thing
money : money
quick : quick
start : start
such : such
week : week
feels : feel
ultra : ultr
le : le
pantalla : pantall
No : no
disappointed : disappoint
due : due
del : del
poco : poco
system : system
A : a
buen : buen
este : est
Phone : phon
Will : wil
play : play
100 : 100
weight : weight
connected : connect
couldn : couldn
expect : expect
unlocked : unlock
around : around
tried : tri
hardware : hardw
iPhone : iphon
home : hom
Also : also
supported : support
carriers : carry
both : both
speed : spee
V30 : v30
300 : 300
change : chang
sure : sur
speeds : spee
main : main
headphone : headphon
jack : jack
decent : dec
weeks : week
normal : norm
standard : standard
needs : nee
All : al
0 : 0
processor : process
times : tim
different : diff
saying : say
6x : 6x
wide : wid
perfect : perfect
these : thes
micro : micro
setting : set
difference : diff
S8 : s8
S10 : s10
We : we
000 : 000
build : build
provider : provid
pen : pen
area : are
Yes : ye
voice : voic
worse : wors
sometimes : sometim
bands : band
macro : macro
buying : buy
Very : very
how : how
solid : solid
Lo : lo
nada : nad
zoom : zoom
mAh : mah
uso : uso
batteria : batter
star : star
face : fac
shows : show
job : job
media : med
smartphone : smartphon
negative : neg
else : els
custom : custom
never : nev
videos : video
Excelente : excel
equipo : equipo
llegó : llegó
company : company
los : los
google : googl
green : green
d : d
carrier : carry
gets : get
seen : seen
scanner : scan
help : help
Snapdragon : snapdragon
own : own
understand : understand
pro : pro
global : glob
said : said
7 : 7
reception : receiv
IS : is
away : away
slot : slot
slower : slow
Fast : fast
Other : oth
once : ont
installed : instal
sound : sound
running : run
50 : 50
seem : seem
brightness : bright
stuck : stuck
64 : 64
mention : ment
pleased : pleas
usage : us
however : howev
improved : improv
network : network
automatically : autom
What : what
available : avail
left : left
least : least
series : sery
expandable : expand
doing : doing
wrong : wrong
easy : easy
included : includ
night : night
purchase : purchas
front : front
done : don
Honor : hon
between : between
gb : gb
extra : extr
order : ord
seller : sel
dual : dual
higher : high
carga : carg
batería : baterí
dura : dur
highly : high
needed : nee
las : las
problems : problem
El : el
calidad : calidad
son : son
minutes : minut
galaxy : galaxy
speaker : speak
opinion : opin
means : mean
let : let
tech : tech
seems : seem
part : part
control : control
game : gam
wanted : want
market : market
When : when
colors : col
research : research
faster : fast
anyone : anyon
water : wat
yet : yet
itself : itself
bump : bump
headphones : headphon
add : ad
GB : gb
está : está
problemas : problema
momento : momento
l : l
major : maj
turn : turn
rest : rest
audio : audio
120 : 120
become : becom
On : on
side : sid
compatible : compat
particular : particul
charges : charg
built : built
As : as
Really : real
wife : wif
send : send
precio : precio
hay : hay
llego : llego
comprar : compr
adaptador : adaptad
producto : producto
puedo : puedo
caja : caj
mucho : mucho
kind : kind
second : second
seconds : second
responsive : respond
gorgeous : gorg
expected : expect
breaker : break
shouldn : shouldn
half : half
6GB : 6gb
replace : replac
Verizon : verizon
IMEI : ime
spent : spent
okay : okay
European : europ
pre : pre
noticed : not
Chinese : chines
66 : 66
fully : ful
LCD : lcd
hand : hand
email : email
account : account
bigger : big
simply : simply
single : singl
angles : angl
remove : remov
Global : glob
However : howev
fix : fix
save : sav
U : u
expectations : expect
longer : long
whole : whol
Screen : screen
models : model
curved : curv
extremely : extrem
noticeable : not
later : lat
powerful : pow
incredible : incred
Mi : mi
supports : support
twice : twic
continue : continu
In : in
she : she
Pixel : pixel
ok : ok
Performance : perform
Once : ont
drawer : draw
angle : angl
close : clos
SD : sd
OS : os
black : black
care : car
knew : knew
Version : vert
recognition : recognit
6gb : 6gb
coming : com
myself : myself
nor : nor
felt : felt
us : us
entire : entir
heart : heart
MST : mst
1440p : 1440p
boot : boot
base : bas
NOT : not
4GB : 4gb
A30s : a30s
hace : hac
como : como
perfectamente : perfecta
telefono : telefono
happened : hap
hold : hold
product : produc
metro : metro
live : liv
talk : talk
Pros : pro
Cons : con
graphics : graph
switch : switch
connection : connect
Me : me
changed : chang
redmi : redm
Then : then
online : onlin
AMAZING : amaz
past : past
immediately : immedy
Metro : metro
11 : 11
Update : upd
ratio : ratio
transfer : transf
why : why
lasts : last
impressed : impress
pics : pic
cheap : cheap
important : import
says : say
low : low
browsing : brows
regular : regul
next : next
unit : unit
try : try
picture : pict
doubt : doubt
instead : instead
allow : allow
decir : decir
esta : est
real : real
128 : 128
va : va
hacer : hac
fotos : foto
108 : 108
ottima : ottim
solo : solo
fotocamera : fotocamer
schermo : schermo
davvero : davvero
più : più
problema : problem
sensore : sens
problem : problem
reason : reason
c : c
tiene : tien
cover : cov
drop : drop
sounds : sound
annoying : annoy
fixed : fix
install : instal
goes : goe
received : receiv
daily : dai
dark : dark
buck : buck
our : our
recommended : recommend
mejor : mej
Llegó : llegó
tiempo : tiempo
compra : compr
alta : alt
empaquetado : empaquetado
fue : fue
americano : americano
bandas : banda
three : three
touch : touch
antes : ant
embargo : embargo
phenomenal : phenom
look : look
text : text
barely : bar
loud : loud
number : numb
basic : bas
64mp : 64mp
images : im
gaming : gam
paying : pay
print : print
lacks : lack
wish : wish
notch : notch
dropped : drop
bar : bar
thought : thought
package : pack
type : typ
slots : slot
tired : tir
flawless : flawless
Definitely : definit
months : month
From : from
lacking : lack
always : alway
behind : behind
bottom : bottom
create : cre
APN : apn
txts : txts
OLED : ol
blacks : black
accounts : account
Every : every
generation : gen
restore : rest
honestly : honest
decision : decid
run : run
Thank : thank
premium : prem
store : stor
factory : fact
reset : reset
With : with
space : spac
Even : ev
watching : watch
pic : pic
easily : easy
BUT : but
adjust : adjust
cellphone : cellphon
band : band
password : password
finally : fin
IPS : ip
medium : med
strength : strength
International : intern
true : tru
By : by
apparently : app
check : check
unable : un
AirTel : airtel
advertised : advert
web : web
YouTube : youtub
multiple : multipl
cons : con
none : non
glass : glass
fan : fan
photo : photo
Got : got
portrait : portrait
ended : end
currently : cur
cut : cut
Do : do
nothing : noth
Both : both
neat : neat
First : first
MP : mp
Especially : espec
allows : allow
upgraded : upgrad
bunch : bunch
month : mon
user : us
Bluetooth : bluetoo
OnePlus : onepl
pixel : pixel
usable : us
white : whit
capability : cap
At : at
TMobile : tmobl
hands : hand
ton : ton
forward : forward
newest : newest
sd : sd
microSD : microsd
accessories : access
missing : miss
capable : cap
feeling : feel
Glass : glass
movies : movy
ATT : at
Sim : sim
who : who
exact : exact
S9 : s9
limited : limit
villain : villain
888 : 888
added : ad
Don : don
density : dens
screens : screens
Samsungs : samsung
internal : intern
devices : dev
4gb : 4gb
tabs : tab
larger : larg
saving : sav
pimple : pimpl
Super : sup
compared : comp
business : busy
cricket : cricket
he : he
ni : ni
grande : grand
días : día
wait : wait
stars : star
replacement : replac
aplicaciones : aplicac
arrived : ar
Call : cal
poor : poor
gonna : gonn
especially : espec
whatever : whatev
USA : us
Can : can
must : must
800 : 800
texting : text
hassle : hassl
bucks : buck
equal : eq
biggest : biggest
went : went
comparison : comparison
including : includ
although : although
impressive : impress
browser : brows
notice : not
certain : certain
shot : shot
resistant : resist
switched : switch
adapter : adapt
protect : protect
connect : connect
hard : hard
returned : return
edge : edg
might : might
soon : soon
selfie : selfy
120hz : 120hz
protection : protect
attention : at
information : inform
small : smal
flat : flat
fairly : fair
porque : porqu
almacenamiento : almacenamiento
par : par
satisfactorio : satisfactorio
servicio : servicio
memoria : memor
procesador : procesad
mayor : may
perfección : perfección
cámaras : cámaras
incluso : incluso
máximo : máximo
así : así
pequeño : pequeño
Los : los
fluido : fluido
su : su
estoy : estoy
ho : ho
ad : ad
ed : ed
amoled : amol
ci : ci
rapida : rapid
parte : part
prossimità : prossimità
ma : ma
gli : gli
della : dell
attiva : attiv
anche : anch
abbastanza : abbastanz
giorni : giorn
hotspot : hotspot
acceso : acceso
ore : or
giorno : giorno
gamma : gamm
ottimo : ottimo
fascia : fasc
citato : citato
grandangolare : grandangol
arrivato : arrivato
utilizzo : utilizzo
veloce : veloc
Por : por
60 : 60
h : h
bateria : bater
medio : medio
hablar : habl
apaga : apag
vez : vez
Al : al
tengo : tengo
dos : dos
27 : 27
29 : 29
sorpresa : sorpres
Works : work
functional : funct
future : fut
updates : upd
ROM : rom
Although : although
becoming : becom
quickly : quick
satisfied : satisfy
drive : driv
Amazing : amaz
often : oft
MetroPCS : metropc
brings : bring
bang : bang
present : pres
Good : good
emails : email
record : record
regresar : regres
Es : es
camara : camar
ahí : ahí
relación : relación
gama : gam
probar : prob
Muy : muy
rapido : rapido
primera : primer
64GB : 64gb
usarlo : usarlo
trae : tra
América : améric
funcione : funt
2G : 2g
reboot : reboot
frequently : frequ
freeze : freez
modelo : modelo
Ahora : ahor
verde : verd
gustó : gustó
después : despué
costo : costo
beneficio : beneficio
sí : sí
punto : punto
aprox : aprox
tienes : tien
casi : cas
excelente : excel
unos : uno
cámara : cámara
rendimiento : rendimiento
corriente : corry
había : habí
Saludos : saludo
cargar : carg
pesado : pesado
cual : cual
ago : ago
quarter : quart
complain : complain
slowmo : slowmo
hide : hid
afraid : afraid
lovely : lov
looked : look
fit : fit
Side : sid
detection : detect
button : button
incoming : incom
known : known
called : cal
literally : lit
45 : 45
Honestly : honest
function : funct
making : mak
receiving : receiv
consider : consid
keeping : keep
250 : 250
course : cours
lasted : last
error : er
Ecuador : ecuad
daño : daño
covered : cov
reading : read
speak : speak
crystal : cryst
runs : run
x : x
dump : dump
knock : knock
Launcher : launch
totally : tot
launcher : launch
charged : charg
whereas : wherea
unfortunately : unfortun
breakers : break
returning : return
moderate : mod
Tmobile : tmobl
guarantee : guar
networks : network
iphone : iphon
gave : gav
bars : bar
Wish : wish
Huge : hug
opening : op
Display : display
alright : alright
mess : mess
4g : 4g
720 : 720
checks : check
One : on
womp : womp
shipped : ship
Mine : min
com : com
gone : gon
Still : stil
customer : custom
beats : beat
straight : straight
constantly : const
quirks : quirk
compare : comp
security : sec
sign : sign
Secondly : second
frame : fram
33 : 33
corner : corn
aspect : aspect
January : janu
VoLTE : volt
indicated : ind
status : stat
thru : thru
prefer : pref
follow : follow
process : process
4k : 4k
repeating : rep
across : across
head : head
gives : giv
notifications : not
internet : internet
People : peopl
penny : penny
Many : many
plenty : plenty
forever : forev
points : point
insane : ins
owned : own
playing : play
ive : iv
MB : mb
yes : ye
x1 : x1
uninstall : uninstal
sold : sold
indian : ind
useless : useless
Model : model
wipe : wip
date : dat
asks : ask
downloaded : download
computer : comput
hate : hat
samsung : samsung
vibration : vibr
haptic : hapt
feedback : feedback
description : describ
exactly : exact
About : about
tablet : tablet
capacity : capac
above : abov
Sometimes : sometim
stop : stop
updated : upd
beware : bew
Blu : blu
Pure : pur
Xioami : xioam
meant : meant
edition : edit
native : nat
recording : record
conversation : convers
assume : assum
indicate : ind
recorder : record
caller : cal
failed : fail
American : am
enable : en
VoWifi : vowif
enabled : en
Considering : consid
meet : meet
Get : get
Of : of
name : nam
gigs : gig
quad : quad
nearly : near
bezel : bezel
bother : both
despite : despit
HUGE : hug
5000mAh : 5000mah
movie : movy
Prime : prim
Netflix : netflix
typically : typ
remaining : remain
several : sev
throughout : throughout
lag : lag
tax : tax
background : background
bulky : bulky
possible : poss
bulk : bulk
consistent : consist
toe : toe
amazon : amazon
debloated : deblo
third : third
fits : fit
lags : lag
beast : beast
legit : legit
additional : addit
outlets : outlet
maybe : mayb
snapdragon : snapdragon
fastest : fastest
messaging : mess
1080p : 1080p
lg : lg
stick : stick
matter : mat
volume : volum
daughter : daught
pin : pin
external : extern
Coming : com
conditions : condit
sale : sal
G7 : g7
mine : min
slow : slow
rather : rath
initial : init
summary : sum
reasonable : reason
gorilla : gorill
durable : dur
clean : cle
metal : met
appears : appear
sturdy : sturdy
contrast : contrast
Software : softw
experienced : expery
iPhones : iphon
primary : prim
photography : photograph
view : view
40 : 40
Happy : happy
effect : effect
reasonably : reason
seemed : seem
flawlessly : flawless
download : download
sent : sent
messages : mess
expansion : expand
intend : intend
separately : sep
mid : mid
consideration : consid
average : av
options : opt
output : output
interface : interfac
luck : luck
GPS : gps
manufacturer : manufact
stay : stay
forced : forc
posted : post
ready : ready
zero : zero
excited : excit
freezing : freez
warranty : warranty
fraction : fract
acting : act
Thanks : thank
wend : wend
Mark : mark
lost : lost
charm : charm
giving : giv
world : world
bonus : bon
thinking : think
newer : new
overseas : oversea
hope : hop
eventually : ev
person : person
camper : camp
expecting : expect
24 : 24
8gb : 8gb
core : cor
THIS : thi
PHONE : phon
DOES : doe
replaced : replac
paid : paid
learning : learn
Things : thing
starts : start
Mint : mint
N10 : n10
Adreno : adreno
GPU : gpu
latest : latest
90Hz : 90hz
Gorilla : gorill
choose : choos
total : tot
Slingshot : slingshot
numbers : numb
during : dur
EE : ee
files : fil
India : ind
sims : sim
travel : travel
stated : stat
mostly : most
title : titl
CDMA : cdma
plan : plan
opcion : opc
beginning : begin
S3 : s3
Edge : edg
die : die
offered : off
remember : rememb
industry : industry
upgrades : upgrad
productivity : produc
trade : trad
Case : cas
ought : ought
Processor : process
differences : diff
Powered : pow
letters : let
256 : 256
processing : process
cpu : cpu
cooling : cool
lifespan : lifesp
show : show
each : each
worry : worry
concerned : concern
45w : 45w
25w : 25w
Why : why
ppi : ppi
breaks : break
Let : let
existence : ex
Hz : hz
Power : pow
aggressive : aggress
C : c
HDR : hdr
superior : supery
upset : upset
initially : init
lots : lot
cloud : cloud
likely : lik
balance : bal
sealed : seal
cancelled : cancel
areas : area
talking : talk
admit : admit
typical : typ
percentage : perc
lower : low
SM : sm
A515F : a515f
Settings : set
Mode : mod
reads : read
tested : test
dad : dad
ASIN : asin
gig : gig
tan : tan
juegos : juego
escucha : escuch
avoid : avoid
launch : launch
tenido : tenido
today : today
hasta : hast
otro : otro
muchísimo : muchísimo
unas : una
buenos : bueno
sea : sea
años : año
razón : razón
impresionante : impres
desde : desd
ninguna : ningun
thoughts : thought
equipment : equip
properly : prop
aunque : aunqu
ningun : ningun
told : told
wouldn : wouldn
set : set
everywhere : everywh
taking : tak
asked : ask
God : god
happens : hap
YOUR : yo
ear : ear
To : to
Original : origin
Price : pric
Your : yo
mentioning : ment
bothered : both
pros : pro
FL : fl
Received : receiv
popped : pop
considering : consid
loved : lov
level : level
Better : bet
IR : ir
blaster : blast
believe : believ
heats : heat
till : til
genial : gen
mes : mes
compre : compr
friend : friend
PCS : pcs
She : she
plastic : plast
field : field
bring : bring
possibly : poss
direct : direct
fail : fail
match : match
packaged : pack
scrolling : scrolling
DIDN : didn
morning : morn
smart : smart
rating : rat
release : releas
AKG : akg
upgrading : upgrad
putting : put
IP68 : ip68
class : class
geekbench : geekbench
wider : wid
mentioned : ment
wired : wir
modes : mod
outstanding : outstand
recently : rec
selling : sel
middle : middl
sit : sit
share : shar
cars : car
silly : sil
scratches : scratches
request : request
free : fre
attached : attach
Now : now
guess : guess
failure : fail
EDIT : edit
magnetic : magnet
probably : prob
body : body
previously : prevy
primero : primero
opinión : opinión
comprador : comprad
nadie : nady
pagado : pagado
ella : ell
ofrecido : ofrecido
productos : producto
gratis : grat
digo : digo
pongo : pongo
estrellas : estrella
interno : interno
Adquirido : adquirido
semanas : semana
resultando : resultando
anterior : antery
P30 : p30
Lite : lit
caído : caído
acto : acto
añadido : añadido
potente : pot
calienta : calient
huellas : huella
lateral : lat
reconocimiento : reconocimiento
facial : fac
tiro : tiro
conjunto : conjunto
Puedes : pued
resolución : resolución
mpx : mpx
luego : luego
recortes : recort
pudiendo : pudiendo
suplir : suplir
falta : falt
óptico : óptico
ejecutan : ejecut
streaming : streaming
rápida : rápida
De : de
satisfecho : satisfecho
Spedizione : sped
ordinato : ordinato
domenica : domenic
ricevuto : ricevuto
martedì : martedì
Aveva : avev
Windtre : windt
installata : installat
capito : capito
tratti : tratt
versione : vert
brandizzata : brandizzat
globale : glob
ogni : ogn
modo : modo
aveva : avev
quella : quell
bastato : bastato
rimuoverla : rimuoverl
Telefono : telefono
piuttosto : piuttosto
buona : buon
usabilità : usabilità
quotidiano : quotidiano
stupendo : stupendo
Peccato : peccato
sia : sia
opzione : opz
disabilitare : disabilit
ricarica : ricaric
bisognerebbe : bisognereb
procurarsi : procurars
caricatore : car
lento : lento
Vedremo : vedremo
riscontrerò : riscontrerò
tanto : tanto
discusso : discusso
avendo : avendo
effettuato : effettuato
poche : poch
telefonate : telefon
finora : finor
riscontrato : riscontrato
escluso : escluso
riscontri : riscontr
Si : si
spera : sper
questi : quest
problemi : problem
vengano : vengano
risolti : risolt
presto : presto
aggiornamenti : aggiornament
Miui : miu
Il : il
bomba : bomb
bello : bello
unica : unic
pecca : pecc
sta : sta
sulla : sull
pensavo : pensavo
durasse : durass
visto : visto
5020 : 5020
Deluso : deluso
dalla : dall
turned : turn
push : push
buttons : button
mutes : mut
loudspeaker : loudspeak
mature : mat
Otherwise : otherw
cosa : cos
dato : dato
sui : sui
nervi : nerv
appartentemente : appart
rimedio : rimedio
disattiva : disattiv
durante : dur
chiamate : chiam
funziona : funzion
MAI : mai
bene : ben
attivando : attivando
cose : cos
caso : caso
spesso : spesso
spalla : spall
impazzisce : impazzisc
volte : volt
stacca : stacc
chiamata : chiamat
mute : mut
inspiegabilmente : inspieg
flash : flash
PERCHÈ : perchè
creandomi : creandom
pochi : poch
disagi : disag
Whatsapp : whatsap
Per : per
resto : resto
sono : sono
soddisfatto : soddisfatto
quasi : quas
pieni : pien
utilizzando : utilizzando
prevalenza : prevalenz
social : soc
almeno : almeno
fa : fa
troppo : troppo
rimpiangere : rimpiang
Mi10T : mi10t
processore : process
scattante : scat
ne : ne
fanno : fanno
molto : molto
brillante : bril
essendo : essendo
Altri : altr
difetti : difett
fotocamere : fotocam
sporgono : sporgono
balcone : balcon
bisogno : bisogno
importante : import
evitare : evit
fracassino : fracassino
già : già
SENSORE : sens
DI : di
PROSSIMITA : prossimit
qualità : qualità
delle : del
foto : foto
buio : buio
rispeto : rispeto
altri : altr
concorrenti : concorrent
Valido : valido
nel : nel
complesso : complesso
delusione : delud
totale : tot
sopra : sopr
garanzia : garanz
anticipo : anticipo
ben : ben
imballato : imballato
stelle : stel
Arrivato : arrivato
prima : prim
previsto : previsto
complimenti : compliment
venditore : vendit
sempre : sempr
Dopo : dopo
qualche : qualch
posso : posso
dire : dir
dopo : dopo
Fotocamera : fotocamer
eccezionali : eccezional
defecto : defecto
viene : vien
cambié : cambié
duró : duró
diaEl : diael
senson : senson
proximidad : proximidad
acercarlo : acercarlo
oreja : orej
cada : cad
hablopulse : hablopuls
altavoz : altavoz
quejan : ques
todos : todo
poner : pon
micrófono : micrófono
cm : cm
entienden : entiend
duración : duración
Doveva : dovev
arrivare : arriv
tra : tra
aprile : april
invece : invec
26 : 26
Cellulare : cellul
consegna : consegn
stata : stat
iper : ip
messo : messo
soltanto : soltanto
Imballaggio : imballaggio
accurato : accurato
sicuro : sicuro
fee : fee
costs : cost
radios : radio
miss : miss
80 : 80
Those : thos
cafeteria : cafeter
pain : pain
substantial : subst
buggy : buggy
sporadic : sporad
glitches : glitch
installing : instal
difficult : difficult
recent : rec
Develop : develop
viable : viabl
recovery : recovery
ROMs : rom
fortunately : fortun
likeliness : lik
awsome : awsom
solution : solv
greatly : gre
increase : increas
yesterday : yesterday
pleasant : pleas
eyes : ey
worrying : worry
hoping : hop
west : west
Going : going
sticking : stick
frustrating : frust
gift : gift
anniversary : annivers
mad : mad
Corresponde : correspond
expectativas : expectativa
Angeles : angel
encanto : encanto
tuve : tuv
venia : ven
deabloqueado : deabloqueado
respecto : respecto
mucha : much
funcionamiento : funcionamiento
gral : gral
pesar : pes
última : última
actualización : actualización
raro : raro
fuera : fuer
acabo : acabo
cambiar : cambi
otra : otr
desventaja : desventaj
razonable : razon
concidero : concidero
sellado : sellado
orden : ord
quede : qued
convencido : convencido
duda : dud
gran : gran
trajo : trajo
incluido : incluido
bueno : bueno
según : según
Lamentablemente : lam
operadores : operad
Estados : estado
Unidos : unido
tube : tub
europa : europ
usamos : usamo
europeas : europea
posiblemente : pos
puede : pued
sería : serí
agradable : agrad
operadoras : operadora
lemon : lemon
thank : thank
Había : habí
comprado : comprado
TELMOV : telmov
tuvieron : tuvieron
mal : mal
tino : tino
pegarle : pegarl
santo : santo
seña : señ
qué : qué
cuánto : cuánto
costó : costó
amantes : am
ajeno : ajeno
sacaron : sacaron
mí : mí
entregaron : entregaron
vacía : vací
hecho : hecho
reembolso : reembolso
dinero : dinero
volví : volví
vendedor : vend
sellos : sello
Amazón : amazón
cajita : cajit
sellada : sellad
era : er
degradado : degradado
verdecito : verdecito
principio : principio
calentó : calentó
arriba : arrib
específicamente : específica
donde : dond
están : están
horas : hora
normalizó : normalizó
funcionando : funcionando
rapidísima : rapidísim
general : gen
cuestión : cuestión
Estoy : estoy
casada : casad
terminales : termin
precios : precio
competitivos : competitivo
satisfecha : satisfech
contratiempos : contratiempo
temas : tema
Gran : gran
Durante : dur
semana : seman
funcionó : funcionó
partir : partir
2da : 2da
empecé : empecé
notar : not
teclado : teclado
alentaba : alentab
En : en
movía : moví
estaba : estab
escribiendo : escribiendo
hacía : hací
desastre : desast
enviar : envi
mensajes : mensas
escribir : escribir
notas : nota
También : también
pasado : pasado
ocasiones : ocas
reinicia : reinic
llevo : llevo
meses : mes
Traté : traté
devolverlo : devolverlo
venció : venció
plazo : plazo
recomiendo : recomiendo
esos : eso
detalles : detal
pueden : pued
llegar : lleg
ser : ser
desesperantes : desesp
reiniciar : reinici
móvil : móvil
seguirlo : seguirlo
usando : usando
siempre : siempr
soluciona : solucion
razonablemente : razon
tenía : tení
viejito : viejito
comparación : comparación
duraba : durab
doble : dobl
indicado : indicado
alguna : algun
pude : pud
adquirir : adquirir
Telmov : telmov
busque : busqu
otros : otro
proveedores : provee
pesos : peso
encontré : encontré
capacidad : capacidad
Tecnolife : tecnol
equiparable : equip
sonido : sonido
ambos : ambo
lados : lado
único : único
malo : malo
insignificante : insign
completa : complet
52mins : 52mins
día : día
Las : las
contras : contra
desbloquear : desbloquear
Parece : parec
frecuente : frecu
Sugiero : sugiero
esperar : esper
actualizaciones : actualizac
simplemente : simpl
mismas : misma
capacidades : capacidad
alguno : alguno
estimado : estimado
elegido : elegido
blanco : blanco
yo : yo
pedido : pedido
Dejando : dejando
lado : lado
ese : es
detalle : detal
perfecto : perfecto
Compre : compr
articulo : articulo
tema : tem
tienda : tiend
funciono : funciono
correctamente : correcta
entrar : entr
descargar : descarg
igual : ig
registrar : registr
cuenta : cuent
Hablando : hablando
considero : considero
celulares : celul
Xoami : xoam
ó : ó
Huawie : huawy
excelentes : excel
espacio : espacio
almacenar : almacen
archivos : archivo
Un : un
recomendable : recomend
queja : quej
eh : eh
batallado : batallado
querer : quer
necesario : necesario
hora : hor
tendras : tendra
cargado : cargado
genera : gener
suficiente : suficy
friccion : fricc
sostener : sost
Nececita : nececit
entrada : entrad
europea : europe
absolute : absolv
favorite : favorit
overdue : overdu
Between : between
4K : 4k
64Mp : 64mp
warn : warn
slows : slow
down : down
math : math
incredibly : incred
break : break
asking : ask
Day : day
narrower : narrow
shorter : short
PROSScreen : prosscreen
novel : novel
pleasing : pleas
CONSI : cons
callers : cal
leave : leav
message : mess
subpar : subp
equalizer : eq
line : lin
ring : ring
dialed : dial
EVERY : every
GSM : gsm
sooo : sooo
praise : pra
stacks : stack
cleanest : cleanest
500 : 500
picky : picky
latency : lat
novedad : novedad
importado : importado
tuvo : tuvo
ningún : ningún
owning : own
A70 : a70
liked : lik
crap : crap
universal : univers
broke : brok
YAY : yay
comparing : comp
Apps : ap
perfectly : perfect
Buy : buy
720G : 720g
2400 : 2400
1080 : 1080
FHD : fhd
64MP : 64mp
Major : maj
equip : equip
affinity : affin
Bloatware : bloatw
functionalities : funct
ridiculous : ridic
inferior : infery
brew : brew
flexware : flexw
buyers : buy
buena : buen
inversion : invert
gusto : gusto
sobresale : sobres
carcaza : carcaz
nota : not
Funciona : funcion
toma : tom
buenas : buena
gigante : gig
Tardare : tard
short : short
fake : fak
LOVE : lov
Seriously : sery
alone : alon
crisp : crisp
phantom : phantom
touches : touch
touched : touch
hover : hov
thinks : think
tapped : tap
accept : acceiv
based : bas
coverage : cov
Insert : insert
intermittently : intermit
lose : los
crummy : crummy
activated : act
instructions : instruct
HOURS : hour
diminishing : dimin
75 : 75
Swapping : swap
existing : ex
warnings : warn
whiners : whin
moaning : moan
warned : warn
closest : closest
nifty : nifty
cpus : cpu
6g : 6g
spry : spry
boxes : box
downer : down
UPDATE : upd
21 : 21
Shipping : ship
spare : spar
Carrier : carry
Wingalpha : wingalph
worried : worry
anxiety : anxy
P : p
normally : norm
loyal : loy
spades : spad
recharging : recharg
Never : nev
generations : gen
unfair : unfair
Firstly : first
risk : risk
Lately : lat
Venmo : venmo
unauthorized : unauth
ins : in
breach : breach
customizable : custom
Flagship : flag
moot : moot
split : split
drag : drag
float : flo
window : window
screenThirdly : screenthirdly
mms : mms
outgoing : outgo
2021 : 2021
subscribers : subscrib
3G : 3g
dig : dig
downstream : downstream
Fourthly : fourth
Looked : look
Fifth : fif
minor : min
tall : tal
Light : light
bleed : blee
grays : gray
bleeding : blee
Sixth : six
transferring : transfer
seamless : seamless
allowed : allow
Had : had
unlike : unlik
seamlessness : seamless
focused : focus
negatives : neg
positives : posit
themselves : themselv
instance : inst
rear : rear
mp : mp
Conclusion : conclud
holdover : holdov
Either : eith
Edit : edit
16 : 16
Forgot : forgot
waterproof : waterproof
usually : us
skews : skew
readily : ready
explained : explain
nervous : nerv
ordering : ord
1k : 1k
researching : research
affordable : afford
alternatives : altern
alternative : altern
Robin : robin
Hood : hood
frugal : frug
standards : standard
banned : ban
hence : hent
browse : brows
Photos : photo
nicely : nic
Seller : sel
within : within
shipping : ship
Little : littl
ur : ur
palms : palm
Initially : init
Play : play
crazy : crazy
below : below
Razer : raz
boots : boot
flawlessbattery : flawlessbattery
netflix : netflix
smsthe : smsthe
48 : 48
48MB : 48mb
adjustment : adjust
flip : flip
x2 : x2
magnification : magn
fumbling : fumbl
ALL : al
camerassettings : camerasset
BASE : bas
cleaning : cle
theirs : their
IMO : imo
acordado : acordado
Bien : bien
empacado : empacado
tal : tal
descripción : descripción
versión : versión
REALLY : real
FEEL : feel
CHEATED : che
sell : sel
M2003J6B2G : m2003j6b2g
M2003J6A1I : m2003j6a1i
DEMAND : demand
MY : my
REFUND : refund
iMyFone : imyfon
LockWiper : lockwip
Eventually : ev
Worth : wor
equipped : equip
lcd : lcd
panels : panel
improvement : improv
tooooooo : tooooooo
loooooong : loooooong
Lasts : last
3days : 3days
Moderate : mod
joke : jok
radio : radio
motor : mot
removed : remov
intensity : intens
soft : soft
hi : hi
tapping : tap
default : default
seriously : sery
precise : prec
menu : menu
isVersion : isvert
V11 : v11
QJZEUXM : qjzeuxm
MIUI11 : miui11
According : accord
EEA : ee
batteries : battery
comfortable : comfort
unqualified : unqual
USE : us
signals : sign
weak : weak
intermittent : intermit
interrupted : interrupt
punches : punch
ways : way
pop : pop
frequent : frequ
outages : out
disconnected : disconnect
miui : miu
unlimited : unlimit
originally : origin
2018 : 2018
uogradeable : uograd
XL : xl
shattered : shat
sad : sad
gesture : gest
relied : rely
recordings : record
lobbying : lobby
campaign : campaign
stifle : stifl
competition : competit
Further : furth
evidence : evid
users : us
srticlrs : srticlrs
activates : act
catches : catch
faint : faint
whisper : whisp
mouth : mou
tries : tri
heard : heard
Xl : xl
hails : hail
Save : sav
comparable : comp
respects : respect
trying : try
absent : abs
roundabout : roundabout
Calling : cal
staff : staff
Jio : jio
hurt : hurt
eye : ey
Moba : mob
System : system
Start : start
Return : return
Took : took
Weeks : week
Part : part
Money : money
Back : back
Around : around
Short : short
Give : giv
Star : star
Getting : get
Bad : bad
Steal : ste
Terrible : terr
Where : wher
rival : riv
common : common
stylus : styl
misleading : mislead
Octacore : octac
64mb : 64mb
lens : len
shoots : shoot
via : via
MicroSD : microsd
infinity : infin
geek : geek
ten : ten
wake : wak
wring : wring
neck : neck
constitutes : constitut
glued : glu
Note8 : note8
3000mAh : 3000mah
required : requir
reboots : reboot
closing : clos
HD : hd
players : play
aren : ar
espec : espec
somewhat : somewh
spoiled : spoil
construction : construct
brands : brand
relative : rel
TL : tl
DR : dr
240 : 240
doubtful : doubt
destroys : destroy
links : link
oops : oop
Upgrading : upgrad
A1 : a1
smoothly : smooth
versatile : versatil
stabilization : stabl
5x : 5x
scenic : scen
views : view
GCam : gcam
lapse : laps
spheres : spheres
gripe : grip
Lycamobile : lycamobl
MVNO : mvno
correctly : correct
cuz : cuz
grip : grip
wil : wil
upcoming : upcom
shouldnt : shouldnt
400 : 400
dlls : dlls
amaze : amaz
cube : cub
block : block
outlet : outlet
apt : apt
720g : 720g
chip : chip
skins : skin
handy : handy
wanna : wann
phoneCons : phonecon
Doesn : doesn
frequencies : frequ
stupid : stupid
accuracy : acc
mediocre : mediocr
Bloated : blo
surprised : surpr
deleting : delet
trash : trash
Go : go
Wal : wal
Mart : mart
prepaid : prepaid
cellular : cellul
Walmart : walmart
write : writ
addition : addit
bluetooth : bluetoo
supplied : supply
booster : boost
solves : solv
incapable : incap
solving : solv
planty : planty
Here : her
2XLLove : 2xllove
phoneAll : phoneal
resolved : resolv
Audio : audio
fire : fir
imo : imo
greatBattery : greatbattery
Revised : rev
Returned : return
earlier : ear
Researched : research
adneauseum : adneause
revise : rev
rooted : root
becomes : becom
Device : dev
retainer : retain
NEVER : nev
listed : list
Website : websit
Esta : est
Solo : solo
sistema : sistem
cuelga : cuelg
WhatsApp : whatsap
Específicamente : específica
cuando : cuando
estamos : estamo
recibiendo : recibiendo
encantó : encantó
opción : opción
remoto : remoto
oara : oar
tv : tv
algunos : alguno
estuche : estuch
provide : provid
impression : impress
elaborate : elab
form : form
opinionsFirst : opinionsfirst
reflects : reflect
differently : diff
various : vary
fault : fault
rim : rim
cause : caus
concern : concern
obviously : obvy
deep : deep
AMOLES : amol
XR : xr
matches : match
Outdoor : outdo
visibility : vis
installs : instal
booting : boot
ideally : id
Hopefully : hop
slowness : slow
installer : instal
helpful : help
dedicated : ded
intensive : intend
subway : subway
surfers : surf
asphalt : asphalt
complained : complain
heating : heat
concernCameras : concerncamera
snapped : snap
standing : stand
group : group
snap : snap
gathering : gath
XS : xs
Max : max
capabilities : cap
produces : produc
blur : blur
Regarding : regard
artificial : art
preferred : prefer
farConnectivity : farconnect
Upload : upload
WiFi : wif
speedIt : speedit
monster : monst
4500 : 4500
mAmp : mamp
damn : damn
reached : reach
played : play
watched : watch
browsed : brows
18W : 18w
North : nor
27W : 27w
Essential : ess
additions : addit
TVs : tvs
retrieval : retriev
arrives : ar
lastly : last
mm : mm
Hardly : hard
ms : ms
shaping : shap
nowPlease : nowpleas
insights : insight
searching : search
combination : combin
consumption : consum
personal : person
Same : sam
shots : shot
Headphone : headphon
Jack : jack
special : spec
ignore : ign
suggest : suggest
apple : appl
modified : mod
filled : fil
prevents : prev
centain : centain
USB : usb
installation : instal
developer : develop
register : reg
location : loc
sketchy : sketchy
illegal : illeg
Anytime : anytim
log : log
access : access
hoops : hoop
hiding : hid
2019 : 2019
logs : log
activity : act
creating : cre
steps : step
worst : worst
5T : 5t
7T : 7t
Asus : as
Zen : zen
Everything : everyth
arrival : ar
unscratched : unscratch
Puerto : puerto
Rico : rico
wondering : wond
Claro : claro
Provided : provid
utterly : ut
Witch : witch
bummer : bum
brick : brick
bricks : brick
against : against
Came : cam
beautifully : beauty
fence : fent
hesitate : hesit
upon : upon
malfunctioning : malfunct
shutting : shut
corrupted : corrupt
turning : turn
annoyed : annoy
garbage : garb
expiring : expir
ZTE : zte
ZMAX : zmax
2015 : 2015
prior : pri
discharged : discharg
delays : delay
Remi : rem
frequency : frequ
site : sit
versions : vert
overpaid : overpaid
prices : pric
blame : blam
coronavirus : coronavir
lol : lol
tell : tel
regret : regret
Canon : canon
II : ii
Selfies : selfy
driving : driv
Interstate : interst
story : story
office : off
building : build
Fingerprint : fingerprint
Face : fac
technical : techn
amazes : amaz
duration : dur
32 : 32
gm : gm
forest : forest
Included : includ
silicone : silicon
announced : annount
waste : wast
Hoping : hop
Umidigi : umidig
adequately : adequ
dish : dish
Maybe : mayb
someone : someon
lazy : lazy
search : search
meanwhile : meanwhil
cellphones : cellphon
Nova : nov
revert : revert
checking : check
Right : right
seemless : seemless
multimedia : multimed
Haven : hav
buttery : buttery
lightning : lightn
Cricket : cricket
Wireless : wireless
rural : rur
Maryland : maryland
truly : tru
220 : 220
750 : 750
finding : find
exploring : expl
happier : happy
Feels : feel
sleek : sleek
navigate : navig
bloat : blo
ware : war
moving : mov
DDR : ddr
blazing : blaz
xiachow : xiachow
200gb : 200gb
recognize : recogn
terabyte : terabyt
1tb : 1tb
proof : proof
Pic : pic
related : rel
companies : company
stocks : stock
combined : combin
octo : octo
sits : sit
120gb : 120gb
miceo : miceo
VVK : vvk
blank : blank
load : load
crash : crash
choice : cho
aware : aw
pity : pity
hasn : hasn
knocking : knock
bundle : bundl
Memory : mem
THE : the
MEMORY : mem
CARD : card
COME : com
INCLUDED : includ
rip : rip
Only : on
Was : was
unsure : uns
buyin : buyin
curve : curv
deny : deny
rugged : rug
complete : complet
Christmas : christmas
patient : paty
reply : reply
64gb : 64gb
cards : card
bricked : brick
claimed : claim
United : unit
States : stat
Ultimately : ultim
repaired : repair
paper : pap
diseño : diseño
rraro : rraro
dimensión : dimensión
incomodo : incomodo
deberían : deberí
Whenever : whenev
operating : op
begins : begin
glitch : glitch
erasing : eras
earphones : earphon
Euro : euro
Nord : nord
minded : mind
SnapDragon : snapdragon
690 : 690
619L : 619l
laggy : laggy
COD : cod
Warzone : warzon
2GB : 2gb
flagships : flag
4A : 4a
Oxygen : oxyg
optimization : optim
Game : gam
Fnatic : fnat
watch : watch
directs : direct
resources : resourc
Includes : includ
3D : 3d
Benchmarks : benchmark
Extreme : extrem
interested : interest
raw : raw
handling : handl
tougher : tough
applications : apply
includes : includ
Enjoy : enjoy
complaints : complaint
warp : warp
shuts : shut
alarms : alarm
tray : tray
Absolutely : absolv
slight : slight
inconvenience : inconveny
Charger : charg
wobbly : wobbl
Dual : dual
connections : connect
UK : uk
Supplier : supply
delivery : delivery
sim2 : sim2
patchy : patchy
anyway : anyway
Sims : sim
verizon : verizon
AN : an
BUDGET : budget
oneplus : onepl
accidentally : accid
ONLY : on
clearer : clear
basing : bas
besides : besid
NORD : nord
Manufactures : manufact
hybrid : hybrid
blurry : blurry
Havent : hav
hors : hor
Its : it
Needed : nee
swipe : swip
sprint : sprint
tine : tin
benefic : benef
Pesimo : pesimo
comenzo : comenzo
escucharse : escuchars
audicion : aud
llamas : llama
costumer : costum
reemplazo : reemplazo
devolucion : devoluc
te : te
dicen : dic
areglarlo : areglarlo
mas : mas
caro : caro
cuesta : cuest
verdad : verdad
pa : pa
progression : progress
evolution : evolv
foreseen : foreseen
became : becam
G3 : g3
S6 : s6
S7 : s7
listened : list
consumers : consum
room : room
development : develop
progress : progress
controls : control
hero : hero
prove : prov
realize : real
mocked : mock
hypocrites : hypocrit
peak : peak
FanBoy : fanboy
items : item
payment : pay
technology : technolog
thin : thin
expanded : expand
decline : declin
Note10 : note10
released : releas
loss : loss
gain : gain
Barnone : barnon
adaptive : adapt
among : among
crowded : crowd
competitive : competit
pool : pool
underwhelmed : underwhelm
enthusiasm : enthusiasm
confidence : confid
fatigue : fatigu
enjoying : enjoy
SPen : spen
comfort : comfort
particularly : particul
advancement : adv
answer : answ
definitive : definit
knows : know
pandemic : pandem
consumer : consum
behavior : behavy
advancements : adv
distinguishing : distinct
defined : defin
enticing : ent
jumped : jump
700 : 700
S20plus : s20plus
260 : 260
buys : buy
Buds : bud
backup : backup
Notw : notw
Truth : tru
nostalgic : nostalg
reminiscing : reminisc
Line : lin
Up : up
Imagine : imagin
MTS : mts
payments : pay
exceptional : exceiv
Invictus : invict
5000ma : 5000ma
exciting : excit
humble : humbl
reducing : reduc
lease : leas
agreement : agr
extend : extend
contract : contract
debt : debt
harsh : harsh
Rumor : rum
disturbs : disturb
tuned : tun
trending : trend
toward : toward
Foldables : fold
heaviness : heavy
paramount : paramount
place : plac
iteration : it
2010 : 2010
produced : produc
QHD : qhd
butter : but
chipset : chipset
nowadays : nowaday
midrange : midrang
weighting : weight
oz : oz
improve : improv
speakers : speak
OK : ok
45W : 45w
older : old
jump : jump
hesitant : hesit
lack : lack
removal : remov
iris : ir
results : result
4x : 4x
thick : thick
sweetspot : sweetspot
LOT : lot
tend : tend
minimal : minim
120fps : 120fps
oled : ol
sun : sun
5nm : 5nm
efficent : eff
telephoto : telephoto
bettery : bettery
sot : sot
depending : depend
throught : throught
fhd : fhd
qhd : qhd
sharpest : sharpest
taller : tal
256gb : 256gb
Ultras : ultra
hundred : hundr
Upon : upon
clue : clu
original : origin
glad : glad
banking : bank
malware : malw
spyware : spyw
Essentially : ess
SAMSUNG : samsung
GALAXY : galaxy
ULTRA : ultr
showed : show
dude : dud
Beware : bew
scams : scam
Would : would
unofficial : unoff
priced : pric
cancel : cancel
homework : homework
purchases : purchas
12gb : 12gb
200 : 200
inch : inch
decoy : decoy
popcorn : popcorn
dollar : doll
detial : det
Front : front
mean : mean
insanely : ins
benchmark : benchmark
enhanced : enh
70 : 70
limit : limit
Desktop : desktop
Dex : dex
actual : act
Acer : ac
laptop : laptop
res : res
bargaining : bargain
hz : hz
swiping : swip
awe : aw
witha : with
FYI : fyi
heat : heat
causes : caus
wear : wear
tear : tear
components : compon
Customizable : custom
routines : routin
silencing : sil
school : school
asleep : asleep
Dolby : dolby
atmos : atmo
Dozens : doz
scenarios : scenario
stamps : stamp
walks : walk
grass : grass
bringing : bring
friends : friend
drops : drop
minimum : minim
orchid : orchid
gray : gray
Nobody : nobody
hidden : hid
teal : teal
s20 : s20
assured : ass
volatile : volatil
hot : hot
term : term
multi : mult
task : task
tons : ton
spending : spend
512 : 512
16gb : 16gb
Ram : ram
maintaining : maintain
smoothness : smooth
Spen : spen
sizes : siz
material : mat
backwards : backward
4800 : 4800
4000 : 4000
offers : off
stream : stream
lunch : lunch
100000 : 100000
forget : forget
purpose : purpos
communication : commun
uniquely : un
satisfying : satisfy
Signal : sign
dramatically : dram
Hotspot : hotspot
Direct : direct
equally : eq
house : hous
CPU : cpu
SOC : soc
Qualcomm : qualcom
660 : 660
5000 : 5000
Though : though
performing : perform
caliber : calib
exist : ex
Changing : chang
enabling : en
lowest : lowest
limiting : limit
yourself : yourself
Without : without
energy : energy
measures : meas
Charging : charg
25 : 25
watt : wat
USC : usc
cable : cabl
five : fiv
varying : vary
levels : level
Wired : wir
dead : dead
hour : hour
slowest : slowest
longevity : longev
unless : unless
necessary : necess
pixels : pixel
depth : dep
35 : 35
megapixels : megapixel
stills : stil
8k : 8k
24fps : 24fps
60fps : 60fps
Add : ad
stability : stabl
director : direct
professional : profess
cameraman : cameram
beyond : beyond
100x : 100x
comedic : com
gimmick : gimmick
capture : capt
Shame : sham
Crisp : crisp
Storage : stor
tough : tough
ditched : ditch
oodles : oodl
stuff : stuff
wisely : wis
infrequently : infrequ
PC : pc
settled : settl
ground : ground
190 : 190
Plenty : plenty
TouchWiz : touchw
similar : simil
revisions : revid
customizations : custom
Features : feat
sharing : shar
beastly : beast
precious : precy
DEX : dex
infant : inf
Link : link
Windows : window
tuning : tun
flashlight : flashlight
tricky : tricky
learn : learn
four : four
fingerprints : fingerprint
passes : pass
condition : condit
select : select
cases : cas
pricey : pricey
Design : design
advertising : advert
Chocolate : chocol
Christina : christina
Aguilera : aguiler
singing : sing
competing : compet
ads : ad
corners : corn
surfaces : surfac
sharpness : sharp
radiant : rady
elegance : eleg
near : near
perfection : perfect
Dat : dat
thicker : thick
craft : craft
prevent : prev
offsetting : offset
panel : panel
bubble : bubbl
leveler : level
platform : platform
HDR10 : hdr10
sharp : sharp
darn : darn
immersion : immers
weighs : weigh
Is : is
grand : grand
considerable : consid
rid : rid
Corning : corn
Micro : micro
preserve : preserv
perfections : perfect
adolescent : adolesc
Bran : bran
scratched : scratched
Unbelievable : unbeliev
February : febru
directly : direct
comsupntion : comsupnt
adjustments : adjust
huawei : huawe
P20 : p20
expensive : expend
dunno : dunno
notes : not
personally : person
cast : cast
mount : mount
pocket : pocket
somebody : somebody
false : fals
advertisement : advert
ripped : rip
buyer : buy
Box : box
stickers : stick
spec : spec
suspicious : suspicy
Customer : custom
BREED : bree
utter : ut
garbageWill : garbagewil
THEY : they
CHANGED : chang
IT : it
TO : to
SHOW : show
CHARGE : charg
SAME : sam
PRICE : pric
FOR : for
asap : asap
A20s : a20s
regarding : regard
primarily : prim
uses : us
following : follow
bands2 : bands2
71The : 71the
list : list
gladly : glad
willing : wil
ensure : ens
maximum : maxim
connectivity : connect
parts : part
connectivityThe : connectivityth
microphone : microphon
loves : lov
speakerphone : speakerphon
occasionally : occas
mic : mic
pick : pick
further : furth
helps : help
Reception : receiv
measured : meas
signel : signel
asu : asu
weaker : weak
ScreenSamsung : screensamsung
AMOLEDs : amol
relieved : reliev
robust : robust
indistuingishable : indistu
tiny : tiny
pinhole : pinhol
optical : opt
infrasonic : infrason
milliseconds : millisecond
General : gen
usabilityMy : usabilitymy
gamer : gam
transition : transit
multitasks : multitask
shred : shred
realized : real
Switch : switch
transfered : transf
rebooted : reboot
CameraThe : camerath
beefy : beefy
shooter : shoot
setups : setup
Picture : pict
transitioning : transit
instant : inst
shutter : shut
luckily : lucky
BatteryI : battery
4000mah : 4000mah
3500mah : 3500mah
scattered : scat
mind : mind
busy : busy
configuring : config
researched : research
website : websit
ask : ask
question : quest
Spanish : span
chose : chos
English : engl
Auto : auto
preinstalled : preinstal
Uninstalling : uninstal
reinstalling : reinstal
bugs : bug
blue : blu
Pennsylvania : pennsylvan
DS : ds
DSN : dsn
Prism : prism
Crush : crush
Black : black
April : april
2020 : 2020
doorstep : doorstep
configuration : config
Natural : nat
Vivid : vivid
Dark : dark
Biometrics : biomet
Security : sec
Fingerprints : fingerprint
move : mov
lines : lin
fingers : fing
login : login
DID : did
dogs : dog
nose : nos
WOW : wow
stunning : stun
lizard : lizard
taken : tak
Calls : cal
strong : strong
registered : reg
pass : pass
page : pag
Aside : asid
Feitenn : feiten
Metal : met
B0839C38GM : b0839c38gm
together : togeth
placed : plac
Tempered : temp
B082S7NCB8 : b082s7ncb8
wont : wont
iemi : iem
dont : dont
att : at
couldnt : couldnt
a50 : a50
early : ear
censor : cens
Motorola : motorol
bells : bel
whistles : whistl
writing : writ
spectacular : spectacul
rainbow : rainbow
reflection : reflect
Another : anoth
responsiveness : respond
handles : handl
throw : throw
id : id
chance : chant
perform : perform
surpasses : surpass
eliminating : elimin
winner : win
These : thes
unbeatable : unb
processors : process
compré : compré
metí : metí
car : car
refleja : reflej
realizar : realiz
llamadas : llamada
reseña : reseñ
dice : dic
debloqueado : debloqueado
fábrica : fábrica
obnoxious : obnoxy
loader : load
cache : cach
partition : partit
reinstall : reinstal
dialer : dial
asian : as
characters : charact
Replaced : replac
contacts : contact
Text : text
constant : const
nag : nag
Fixed : fix
replacing : replac
kept : kept
popups : popup
activate : act
disabling : dis
awkward : awkward
minute : minut
Again : again
instantaneous : inst
Excellent : excel
Runs : run
others : oth
wash : wash
Neither : neith
positive : posit
Probably : prob
root : root
miserable : mis
layer : lay
suits : suit
voLTE : volt
toggling : toggl
Has : has
5g : 5g
2022 : 2022
alphabetize : alphabet
closes : clos
Mate : mat
SE : se
disappoint : disappoint
beat : beat
champ : champ
pony : pony
excess : excess
cheaper : cheap
Moto : moto
Does : doe
seamlessly : seamless
stayed : stay
ballgame : ballgam
dog : dog
bowl : bowl
hopefully : hop
Hasta : hast
básico : básico
rápidamente : rápidamente
jugado : jugado
básicos : básicos
respondido : respondido
retrasos : retraso
atorones : atoron
FATAL : fat
HORRIBLE : horr
prácticamente : prácticamente
adorno : adorno
salen : sal
acercando : acercando
quieres : qui
fotografiar : fotografi
bastante : bast
ruido : ruido
tarde : tard
noche : noch
viniendo : viniendo
antigüedad : antigüedad
mejora : mejor
experiencia : experienc
graphic : graph
delivered : del
accurate : acc
Comes : com
Sent : sent
Bought : bought
extended : extend
Review : review
pending : pend
encanta : encant
bonito : bonito
rápido : rápido
país : paí
CR : cr
señal : señ
Actualización : actualización
sigue : sigu
dar : dar
tenerlo : tenerlo
molesto : molesto
materian : mat
rayo : rayo
bordes : bord
tuviera : tuvier
desepcionado : desepcionado
materia : mater
supone : supon
debería : deberí
rayarse : rayars
fácilmente : fácilmente
recommendation : recommend
interruptions : interrupt
unusable : unus
BS : bs
Providers : provid
individual : individ
impossible : imposs
hassles : hassl
Unbridle : unbridl
capitalism : capit
monopolies : monopo
Didn : didn
connecting : connect
WIFI : wif
Panera : paner
bread : bread
BOTTOM : bottom
TOP : top
hearing : hear
towards : toward
kinda : kind
weird : weird
Brite : brit
responding : respond
trip : trip
Tanzania : tanzan
celluar : cellu
hooked : hook
EXCELLENT : excel
tour : tour
guide : guid
begin : begin
FE : fe
regrets : regret
Receiving : receiv
Space : spac
Coast : coast
youngest : youngest
s7 : s7
reliability : rely
31 : 31
IF : if
YOU : you
RECEIVE : receiv
WIRED : wir
customers : custom
726 : 726
7864 : 7864
yours : yo
scammed : scam
grain : grain
salt : salt
rendered : rend
obsolete : obsolet
units : unit
IPhone : iphon
max : max
4XL : 4xl
bests : best
example : exampl
cropping : crop
yield : yield
result : result
useful : us
except : exceiv
eventhough : eventhough
Yup : yup
design : design
wise : wis
covers : cov
slim : slim
transparent : transp
gimmicky : gimmicky
TV : tv
chrome : chrome
anywhere : anywh
outdoor : outdo
surprise : surpr
smaller : smal
practical : pract
HTML5 : html5
defect : defect
registering : reg
circular : circul
1500 : 1500
ends : end
IMPORTANT : import
Noticed : not
occurring : occur
phenomenon : phenomenon
caused : caus
Steelie : ste
encounter : encount
score : scor
reflect : reflect
stopped : stop
Purchased : purchas
damaged : dam
Deceptively : deceiv
protectors : protect
Pay : pay
crown : crown
key : key
bumps : bump
namely : nam
planning : plan
spend : spend
Spigen : spig
effectively : effect
reduces : reduc
desk : desk
dust : dust
saw : saw
stat : stat
report : report
incurring : incur
damage : dam
specifically : spec
interesting : interest
afford : afford
everyday : everyday
houses : hous
clothes : cloth
swing : swing
Lastly : last
offer : off
exceed : excess
products : produc
guy : guy
specific : spec
machine : machin
wants : want
computing : comput
Whites : whit
dull : dul
rez : rez
habia : hab
espectaculares : espectacul
ademas : adema
trabajo : trabajo
funciones : funt
lapiz : lap
van : van
encantado : encantado
opened : op
soled : sol
reshipped : reship
stutter : stut
pages : pag
ran : ran
AND : and
SCORED : scor
TERRIBLE : terr
WTH : wth
In [ ]:
